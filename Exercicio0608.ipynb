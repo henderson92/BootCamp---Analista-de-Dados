{
 "cells": [
  {
   "cell_type": "markdown",
   "metadata": {},
   "source": [
    "Exercício 01 - Python - Colab - Operadores e Condicionais"
   ]
  },
  {
   "cell_type": "markdown",
   "metadata": {},
   "source": [
    "### 1. **Cálculo de Despesa com Desconto Progressivo**\n",
    "   **Problema:** Crie um programa que receba o custo de três produtos e calcule o valor total. Se o total exceder R$ 500, aplique um desconto progressivo: 10% se o total for entre R$ 500 e R$ 1.000, e 15% se for acima de R$ 1.000. Mostre o valor final após o desconto.\n"
   ]
  },
  {
   "cell_type": "code",
   "execution_count": 3,
   "metadata": {},
   "outputs": [
    {
     "name": "stdout",
     "output_type": "stream",
     "text": [
      "51.5\n",
      "O valor final da compra com desconto é: R$ 515.00\n"
     ]
    }
   ],
   "source": [
    "produto1 = float(input(\"Digite o Primeiro Produto: \"))\n",
    "produto2 = float(input(\"Digite o Segundo Produto: \"))\n",
    "produto3 = float(input(\"Digite o Terceito Produto: \"))\n",
    "\n",
    "valortotal = produto1 + produto2 + produto3\n",
    "\n",
    "if valortotal > 500:\n",
    "    print(valortotal * 0.1)\n",
    "elif valortotal > 1000:\n",
    "    print(valortotal * 0.15)\n",
    "\n",
    "    \n",
    "\n",
    "print(f\"O valor final da compra com desconto é: R$ {valortotal:.2f}\")"
   ]
  },
  {
   "cell_type": "markdown",
   "metadata": {},
   "source": [
    "### 2. **Classificação de Idade com Mensagens Personalizadas**\n",
    "   **Problema:** Desenvolva um programa que receba a idade de uma pessoa e determine sua categoria: \"Criança\" (0-12 anos), \"Adolescente\" (13-17 anos), \"Adulto\" (18-64 anos) ou \"Idoso\" (65 anos ou mais). Exiba uma mensagem personalizada para cada faixa etária, como \"Você é uma criança cheia de energia!\" ou \"Você tem muita sabedoria como idoso!\"."
   ]
  },
  {
   "cell_type": "code",
   "execution_count": 10,
   "metadata": {},
   "outputs": [
    {
     "name": "stdout",
     "output_type": "stream",
     "text": [
      "Idade Inválida\n"
     ]
    }
   ],
   "source": [
    "idade = int(input(\"Qual a sua Idade: \"))\n",
    "\n",
    "if 0 <= idade <= 12:\n",
    "  print(\"Criança\")\n",
    "elif 13 <= idade <=17:\n",
    "  print(\"Adolescente\")\n",
    "elif 18 <= idade <= 64:\n",
    "  print(\"Adulto\")\n",
    "elif idade <= 65:\n",
    "  print(\"Idoso\")\n",
    "else:\n",
    "  print(\"Idade Inválida\")"
   ]
  },
  {
   "cell_type": "markdown",
   "metadata": {},
   "source": [
    "### 3. **Verificação de Número Par, Ímpar e Positivo/Negativo**\n",
    "   **Problema:** Crie um programa que receba um número inteiro e informe se ele é par ou ímpar e, adicionalmente, se é positivo, negativo ou zero. Inclua uma mensagem especial para números que sejam múltiplos de 10."
   ]
  },
  {
   "cell_type": "code",
   "execution_count": 12,
   "metadata": {},
   "outputs": [
    {
     "name": "stdout",
     "output_type": "stream",
     "text": [
      "O valor é par\n"
     ]
    }
   ],
   "source": [
    "num = int(input(\"Digite um valor:\"))\n",
    "if num % 2 == 0:\n",
    "    print(\"O valor é par\")\n",
    "else:\n",
    "    print(\"O valor é impar\")"
   ]
  },
  {
   "cell_type": "markdown",
   "metadata": {},
   "source": [
    "### 4. **Cálculo de Média com Condição de Recuperação**\n",
    "   **Problema:** Desenvolva um programa que receba as notas de quatro provas e calcule a média. Se a média for menor que 5, informe que o aluno está reprovado. Se estiver entre 5 e 7, informe que o aluno está em recuperação, e se for maior ou igual a 7, informe que o aluno está aprovado."
   ]
  },
  {
   "cell_type": "code",
   "execution_count": 13,
   "metadata": {},
   "outputs": [
    {
     "name": "stdout",
     "output_type": "stream",
     "text": [
      "Você está reprovado!\n"
     ]
    }
   ],
   "source": [
    "nota1 = int(input(\"Digite a nota 1: \"))\n",
    "nota2 = int(input(\"Digite a nota 2: \"))\n",
    "nota3 = int(input(\"Digite a nota 3: \"))\n",
    "nota4 = int(input(\"Digite a nota 4: \"))\n",
    "\n",
    "media = (nota1 + nota2 + nota3 + nota4) / 4\n",
    "\n",
    "if media < 5 :\n",
    "    print(\"Você está reprovado!\")\n",
    "elif media >= 5 or media <=7:\n",
    "    print(\"Você está de recuperação!\")\n",
    "else:\n",
    "    print(\"Você está aprovado!\")\n"
   ]
  },
  {
   "cell_type": "markdown",
   "metadata": {},
   "source": [
    "### 5. **Classificação e Ajuste de Salário com Reajuste**\n",
    "   **Problema:** Crie um programa que receba o salário de um funcionário e determine sua faixa salarial: \"Baixa\" (até R$ 2.500), \"Média\" (de R$ 2.501 a R$ 5.000) ou \"Alta\" (acima de R$ 5.000). Aplique um reajuste de 7% para a faixa baixa, 5% para a faixa média e 3% para a faixa alta. Mostre o salário reajustado."
   ]
  },
  {
   "cell_type": "code",
   "execution_count": 22,
   "metadata": {},
   "outputs": [
    {
     "name": "stdout",
     "output_type": "stream",
     "text": [
      "O seu salario é 3000.00\n",
      "Alto\n"
     ]
    }
   ],
   "source": [
    "salario = float(input(\"Qual o seu salario: \"))\n",
    "print(f\"O seu salario é {salario:.2f}\") \n",
    "\n",
    "if salario <= 2.500:\n",
    "    print(\"Baixo\")\n",
    "elif 2.501 > salario >= 5.000:\n",
    "    print(\"Médio\")\n",
    "else:\n",
    "    print(\"Alto\")"
   ]
  },
  {
   "cell_type": "markdown",
   "metadata": {},
   "source": [
    "### 6. **Verificação de Ano Bissexto com Mensagens**\n",
    "   **Problema:** Desenvolva um programa que receba um ano e determine se ele é bissexto. Se for, informe que \"O ano é bissexto e possui 366 dias.\" Caso contrário, informe que \"O ano não é bissexto e possui 365 dias.\""
   ]
  },
  {
   "cell_type": "code",
   "execution_count": 27,
   "metadata": {},
   "outputs": [
    {
     "name": "stdout",
     "output_type": "stream",
     "text": [
      "O ano 2008 é bissexto\n"
     ]
    }
   ],
   "source": [
    "ano = int(input(\"Digite um ano : \"))\n",
    "if ano % 4 == 0 and ano % 100 != 0 or ano % 400 == 0:\n",
    "    print(f\"O ano {ano} é bissexto\")\n",
    "else:\n",
    "    print(f\"O ano {ano} não é bissexto\")"
   ]
  },
  {
   "cell_type": "markdown",
   "metadata": {},
   "source": [
    "### 7. **Conversão e Comparação de Temperatura**\n",
    "   **Problema:** Crie um programa que receba uma temperatura em graus Celsius e a converta para Fahrenheit. Em seguida, verifique se a temperatura em Fahrenheit é inferior a 32°F (fria), entre 32°F e 68°F (amena), ou superior a 68°F (quente). Mostre a classificação junto com a temperatura convertida.\n"
   ]
  },
  {
   "cell_type": "code",
   "execution_count": 30,
   "metadata": {},
   "outputs": [
    {
     "name": "stdout",
     "output_type": "stream",
     "text": [
      "50.0°C é igual a 122.0°F\n"
     ]
    }
   ],
   "source": [
    "celsius = float(input(\"Digite uma temperatura em Celsius: \"))\n",
    "fahrenheit = (celsius * 9/5) + 32\n",
    "print(f\"{celsius}°C é igual a {fahrenheit}°F\") "
   ]
  },
  {
   "cell_type": "markdown",
   "metadata": {},
   "source": [
    "### 8. **Comparação de Três Números com Verificação de Ordenação**\n",
    "   **Problema:** Desenvolva um programa que receba três números inteiros e determine qual é o maior e o menor. Além disso, verifique e informe se os números estão em ordem crescente, decrescente ou se não estão ordenados."
   ]
  },
  {
   "cell_type": "code",
   "execution_count": 33,
   "metadata": {},
   "outputs": [
    {
     "name": "stdout",
     "output_type": "stream",
     "text": [
      "O maior valor é 10\n",
      "Desordenados\n"
     ]
    },
    {
     "ename": "NameError",
     "evalue": "name 'verificar_ordem' is not defined",
     "output_type": "error",
     "traceback": [
      "\u001b[1;31m---------------------------------------------------------------------------\u001b[0m",
      "\u001b[1;31mNameError\u001b[0m                                 Traceback (most recent call last)",
      "Cell \u001b[1;32mIn[33], line 19\u001b[0m\n\u001b[0;32m     16\u001b[0m \u001b[38;5;28;01melse\u001b[39;00m:\n\u001b[0;32m     17\u001b[0m     \u001b[38;5;28mprint\u001b[39m(\u001b[38;5;124m\"\u001b[39m\u001b[38;5;124mDesordenados\u001b[39m\u001b[38;5;124m\"\u001b[39m)\n\u001b[1;32m---> 19\u001b[0m ordem \u001b[38;5;241m=\u001b[39m \u001b[43mverificar_ordem\u001b[49m(num1, num2, num3)\n",
      "\u001b[1;31mNameError\u001b[0m: name 'verificar_ordem' is not defined"
     ]
    }
   ],
   "source": [
    "num1 = int(input(\"Digite o Primeiro numero: \"))\n",
    "num2 = int(input(\"Digite o Segundo numero: \"))\n",
    "num3 = int(input(\"Digite o Terceiro numero: \"))\n",
    "\n",
    "if num1 > num2 and num1 > num3:\n",
    "    print(f\"O maior valor é {num1}\")\n",
    "elif num2 > num1 and num2 > num3:\n",
    "    print(f\"O maior valor é {num2}\")\n",
    "elif  num3 > num1 and num3 > num2:\n",
    "    print(f\"O maior valor é {num3}\")\n",
    "\n",
    "if num1 <= num2 <= num3:\n",
    "    print(\"Crescente\")\n",
    "elif num3 >= num2 >= num1:\n",
    "    print(\"Decrescente\")\n",
    "else:\n",
    "    print(\"Desordenados\")\n",
    "\n",
    "ordem = verificar_ordem(num1, num2, num3)\n",
    "\n",
    "print(f\"O maior número é: {maior}\")\n",
    "print(f\"O menor número é: {menor}\")\n",
    "print(f\"Os números estão em ordem {ordem}.\")\n",
    "\n"
   ]
  },
  {
   "cell_type": "markdown",
   "metadata": {},
   "source": [
    "### 9. **Calculadora de Desconto com Condição de Pagamento**\n",
    "   **Problema:** Crie um programa que receba o valor de uma compra e determine o desconto a ser aplicado. Aplique 20% de desconto para compras acima de R$ 1.500, 10% para compras entre R$ 800 e R$ 1.500, e 5% para compras abaixo de R$ 800. Se o pagamento for à vista, aplique um desconto adicional de 5% sobre o valor final com desconto."
   ]
  },
  {
   "cell_type": "code",
   "execution_count": 40,
   "metadata": {},
   "outputs": [],
   "source": [
    "valor = float(input(\"Digite um valor em Reais: \"))\n",
    "\n",
    "if valor >= 1500:\n",
    "    print(valor * 0.20)\n",
    "    print(valor)\n",
    "elif valor <= 800 and valor >= 1500:\n",
    "    print(valor * 0.5)\n",
    "    print(valor)\n",
    "elif valor < 800:\n",
    "    print(\"Pagamento Avista\")\n",
    "    print(valor * 0.5)\n",
    "\n"
   ]
  },
  {
   "cell_type": "markdown",
   "metadata": {},
   "source": [
    "### 10. **Verificação de Senha Segura com Requisitos Adicionais**\n",
    "   **Problema:** Desenvolva um programa que receba uma senha e verifique se ela é segura. Uma senha é considerada segura se tiver pelo menos 8 caracteres, incluir pelo menos uma letra maiúscula, uma letra minúscula, um número e um caractere especial (como !, @, #). Informe se a senha é segura ou não e liste quais requisitos estão faltando."
   ]
  },
  {
   "cell_type": "code",
   "execution_count": 46,
   "metadata": {},
   "outputs": [
    {
     "name": "stderr",
     "output_type": "stream",
     "text": [
      "<>:14: SyntaxWarning: invalid escape sequence '\\['\n",
      "<>:35: SyntaxWarning: invalid escape sequence '\\['\n",
      "<>:14: SyntaxWarning: invalid escape sequence '\\['\n",
      "<>:35: SyntaxWarning: invalid escape sequence '\\['\n",
      "C:\\Users\\paulo\\AppData\\Local\\Temp\\ipykernel_10180\\3537680890.py:14: SyntaxWarning: invalid escape sequence '\\['\n",
      "  if not re.search(\"[!@#$%^&*()_+{}\\[\\]:;<>,.?~-]\", senha):\n",
      "C:\\Users\\paulo\\AppData\\Local\\Temp\\ipykernel_10180\\3537680890.py:35: SyntaxWarning: invalid escape sequence '\\['\n",
      "  if not re.search(\"[!@#$%^&*()_+{}\\[\\]:;<>,.?~-]\", senha):\n"
     ]
    },
    {
     "name": "stdout",
     "output_type": "stream",
     "text": [
      "Senha segura!\n"
     ]
    }
   ],
   "source": [
    "def verificar_senha(senha):\n",
    "\n",
    "\n",
    "    if len(senha) < 8:\n",
    "        return False\n",
    "\n",
    "    if not re.search(\"[a-z]\", senha):\n",
    "        return False\n",
    "    if not re.search(\"[A-Z]\", senha):\n",
    "        return False\n",
    "    if not re.search(\"[0-9]\", senha):\n",
    "        return False\n",
    "    if not re.search(\"[!@#$%^&*()_+{}\\[\\]:;<>,.?~-]\", senha):\n",
    "        return False\n",
    "\n",
    "    return True\n",
    "\n",
    "\n",
    "senha = input(\"Digite sua senha: \")\n",
    "\n",
    "\n",
    "if verificar_senha(senha):\n",
    "    print(\"Senha segura!\")\n",
    "else:\n",
    "    print(\"Senha insegura. A senha deve ter pelo menos 8 caracteres e incluir pelo menos uma letra maiúscula, uma minúscula, um número e um caractere especial.\")\n",
    "\n",
    "    \n",
    "    if not re.search(\"[a-z]\", senha):\n",
    "        print(\"A senha precisa conter pelo menos uma letra minúscula.\")\n",
    "    if not re.search(\"[A-Z]\", senha):\n",
    "        print(\"A senha precisa conter pelo menos uma letra maiúscula.\")\n",
    "    if not re.search(\"[0-9]\", senha):\n",
    "        print(\"A senha precisa conter pelo menos um número.\")\n",
    "    if not re.search(\"[!@#$%^&*()_+{}\\[\\]:;<>,.?~-]\", senha):\n",
    "        print(\"A senha precisa conter pelo menos um caractere especial.\")\n",
    "\n",
    "\n",
    "    \n"
   ]
  },
  {
   "cell_type": "code",
   "execution_count": null,
   "metadata": {},
   "outputs": [],
   "source": []
  }
 ],
 "metadata": {
  "kernelspec": {
   "display_name": "Python 3",
   "language": "python",
   "name": "python3"
  },
  "language_info": {
   "codemirror_mode": {
    "name": "ipython",
    "version": 3
   },
   "file_extension": ".py",
   "mimetype": "text/x-python",
   "name": "python",
   "nbconvert_exporter": "python",
   "pygments_lexer": "ipython3",
   "version": "3.12.4"
  }
 },
 "nbformat": 4,
 "nbformat_minor": 2
}
