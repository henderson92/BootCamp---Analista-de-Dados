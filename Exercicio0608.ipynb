{
 "cells": [
  {
   "cell_type": "markdown",
   "metadata": {},
   "source": [
    "Exercício 01 - Python - Colab - Operadores e Condicionais"
   ]
  },
  {
   "cell_type": "markdown",
   "metadata": {},
   "source": [
    "### 1. **Cálculo de Despesa com Desconto Progressivo**\n",
    "   **Problema:** Crie um programa que receba o custo de três produtos e calcule o valor total. Se o total exceder R$ 500, aplique um desconto progressivo: 10% se o total for entre R$ 500 e R$ 1.000, e 15% se for acima de R$ 1.000. Mostre o valor final após o desconto.\n"
   ]
  },
  {
   "cell_type": "code",
   "execution_count": 3,
   "metadata": {},
   "outputs": [
    {
     "name": "stdout",
     "output_type": "stream",
     "text": [
      "51.5\n",
      "O valor final da compra com desconto é: R$ 515.00\n"
     ]
    }
   ],
   "source": [
    "produto1 = float(input(\"Digite o Primeiro Produto: \"))\n",
    "produto2 = float(input(\"Digite o Segundo Produto: \"))\n",
    "produto3 = float(input(\"Digite o Terceito Produto: \"))\n",
    "\n",
    "valortotal = produto1 + produto2 + produto3\n",
    "\n",
    "if valortotal > 500:\n",
    "    print(valortotal * 0.1)\n",
    "elif valortotal > 1000:\n",
    "    print(valortotal * 0.15)\n",
    "\n",
    "    \n",
    "\n",
    "print(f\"O valor final da compra com desconto é: R$ {valortotal:.2f}\")"
   ]
  },
  {
   "cell_type": "markdown",
   "metadata": {},
   "source": [
    "### 2. **Classificação de Idade com Mensagens Personalizadas**\n",
    "   **Problema:** Desenvolva um programa que receba a idade de uma pessoa e determine sua categoria: \"Criança\" (0-12 anos), \"Adolescente\" (13-17 anos), \"Adulto\" (18-64 anos) ou \"Idoso\" (65 anos ou mais). Exiba uma mensagem personalizada para cada faixa etária, como \"Você é uma criança cheia de energia!\" ou \"Você tem muita sabedoria como idoso!\"."
   ]
  },
  {
   "cell_type": "code",
   "execution_count": 10,
   "metadata": {},
   "outputs": [
    {
     "name": "stdout",
     "output_type": "stream",
     "text": [
      "Idade Inválida\n"
     ]
    }
   ],
   "source": [
    "idade = int(input(\"Qual a sua Idade: \"))\n",
    "\n",
    "if 0 <= idade <= 12:\n",
    "  print(\"Criança\")\n",
    "elif 13 <= idade <=17:\n",
    "  print(\"Adolescente\")\n",
    "elif 18 <= idade <= 64:\n",
    "  print(\"Adulto\")\n",
    "elif idade <= 65:\n",
    "  print(\"Idoso\")\n",
    "else:\n",
    "  print(\"Idade Inválida\")"
   ]
  },
  {
   "cell_type": "markdown",
   "metadata": {},
   "source": [
    "### 3. **Verificação de Número Par, Ímpar e Positivo/Negativo**\n",
    "   **Problema:** Crie um programa que receba um número inteiro e informe se ele é par ou ímpar e, adicionalmente, se é positivo, negativo ou zero. Inclua uma mensagem especial para números que sejam múltiplos de 10."
   ]
  },
  {
   "cell_type": "code",
   "execution_count": 12,
   "metadata": {},
   "outputs": [
    {
     "name": "stdout",
     "output_type": "stream",
     "text": [
      "O valor é par\n"
     ]
    }
   ],
   "source": [
    "num = int(input(\"Digite um valor:\"))\n",
    "if num % 2 == 0:\n",
    "    print(\"O valor é par\")\n",
    "else:\n",
    "    print(\"O valor é impar\")"
   ]
  },
  {
   "cell_type": "markdown",
   "metadata": {},
   "source": [
    "### 4. **Cálculo de Média com Condição de Recuperação**\n",
    "   **Problema:** Desenvolva um programa que receba as notas de quatro provas e calcule a média. Se a média for menor que 5, informe que o aluno está reprovado. Se estiver entre 5 e 7, informe que o aluno está em recuperação, e se for maior ou igual a 7, informe que o aluno está aprovado."
   ]
  },
  {
   "cell_type": "code",
   "execution_count": 13,
   "metadata": {},
   "outputs": [
    {
     "name": "stdout",
     "output_type": "stream",
     "text": [
      "Você está reprovado!\n"
     ]
    }
   ],
   "source": [
    "nota1 = int(input(\"Digite a nota 1: \"))\n",
    "nota2 = int(input(\"Digite a nota 2: \"))\n",
    "nota3 = int(input(\"Digite a nota 3: \"))\n",
    "nota4 = int(input(\"Digite a nota 4: \"))\n",
    "\n",
    "media = (nota1 + nota2 + nota3 + nota4) / 4\n",
    "\n",
    "if media < 5 :\n",
    "    print(\"Você está reprovado!\")\n",
    "elif media >= 5 or media <=7:\n",
    "    print(\"Você está de recuperação!\")\n",
    "else:\n",
    "    print(\"Você está aprovado!\")\n"
   ]
  },
  {
   "cell_type": "markdown",
   "metadata": {},
   "source": [
    "### 5. **Classificação e Ajuste de Salário com Reajuste**\n",
    "   **Problema:** Crie um programa que receba o salário de um funcionário e determine sua faixa salarial: \"Baixa\" (até R$ 2.500), \"Média\" (de R$ 2.501 a R$ 5.000) ou \"Alta\" (acima de R$ 5.000). Aplique um reajuste de 7% para a faixa baixa, 5% para a faixa média e 3% para a faixa alta. Mostre o salário reajustado."
   ]
  },
  {
   "cell_type": "code",
   "execution_count": 22,
   "metadata": {},
   "outputs": [
    {
     "name": "stdout",
     "output_type": "stream",
     "text": [
      "O seu salario é 3000.00\n",
      "Alto\n"
     ]
    }
   ],
   "source": [
    "salario = float(input(\"Qual o seu salario: \"))\n",
    "print(f\"O seu salario é {salario:.2f}\") \n",
    "\n",
    "if salario <= 2.500:\n",
    "    print(\"Baixo\")\n",
    "elif 2.501 > salario >= 5.000:\n",
    "    print(\"Médio\")\n",
    "else:\n",
    "    print(\"Alto\")"
   ]
  },
  {
   "cell_type": "markdown",
   "metadata": {},
   "source": [
    "### 6. **Verificação de Ano Bissexto com Mensagens**\n",
    "   **Problema:** Desenvolva um programa que receba um ano e determine se ele é bissexto. Se for, informe que \"O ano é bissexto e possui 366 dias.\" Caso contrário, informe que \"O ano não é bissexto e possui 365 dias.\""
   ]
  },
  {
   "cell_type": "code",
   "execution_count": 27,
   "metadata": {},
   "outputs": [
    {
     "name": "stdout",
     "output_type": "stream",
     "text": [
      "O ano 2008 é bissexto\n"
     ]
    }
   ],
   "source": [
    "ano = int(input(\"Digite um ano : \"))\n",
    "if ano % 4 == 0 and ano % 100 != 0 or ano % 400 == 0:\n",
    "    print(f\"O ano {ano} é bissexto\")\n",
    "else:\n",
    "    print(f\"O ano {ano} não é bissexto\")"
   ]
  },
  {
   "cell_type": "markdown",
   "metadata": {},
   "source": [
    "### 7. **Conversão e Comparação de Temperatura**\n",
    "   **Problema:** Crie um programa que receba uma temperatura em graus Celsius e a converta para Fahrenheit. Em seguida, verifique se a temperatura em Fahrenheit é inferior a 32°F (fria), entre 32°F e 68°F (amena), ou superior a 68°F (quente). Mostre a classificação junto com a temperatura convertida.\n"
   ]
  },
  {
   "cell_type": "code",
   "execution_count": 30,
   "metadata": {},
   "outputs": [
    {
     "name": "stdout",
     "output_type": "stream",
     "text": [
      "50.0°C é igual a 122.0°F\n"
     ]
    }
   ],
   "source": [
    "celsius = float(input(\"Digite uma temperatura em Celsius: \"))\n",
    "fahrenheit = (celsius * 9/5) + 32\n",
    "print(f\"{celsius}°C é igual a {fahrenheit}°F\") "
   ]
  },
  {
   "cell_type": "markdown",
   "metadata": {},
   "source": [
    "### 8. **Comparação de Três Números com Verificação de Ordenação**\n",
    "   **Problema:** Desenvolva um programa que receba três números inteiros e determine qual é o maior e o menor. Além disso, verifique e informe se os números estão em ordem crescente, decrescente ou se não estão ordenados."
   ]
  },
  {
   "cell_type": "code",
   "execution_count": 33,
   "metadata": {},
   "outputs": [
    {
     "name": "stdout",
     "output_type": "stream",
     "text": [
      "O maior valor é 10\n",
      "Desordenados\n"
     ]
    },
    {
     "ename": "NameError",
     "evalue": "name 'verificar_ordem' is not defined",
     "output_type": "error",
     "traceback": [
      "\u001b[1;31m---------------------------------------------------------------------------\u001b[0m",
      "\u001b[1;31mNameError\u001b[0m                                 Traceback (most recent call last)",
      "Cell \u001b[1;32mIn[33], line 19\u001b[0m\n\u001b[0;32m     16\u001b[0m \u001b[38;5;28;01melse\u001b[39;00m:\n\u001b[0;32m     17\u001b[0m     \u001b[38;5;28mprint\u001b[39m(\u001b[38;5;124m\"\u001b[39m\u001b[38;5;124mDesordenados\u001b[39m\u001b[38;5;124m\"\u001b[39m)\n\u001b[1;32m---> 19\u001b[0m ordem \u001b[38;5;241m=\u001b[39m \u001b[43mverificar_ordem\u001b[49m(num1, num2, num3)\n",
      "\u001b[1;31mNameError\u001b[0m: name 'verificar_ordem' is not defined"
     ]
    }
   ],
   "source": [
    "num1 = int(input(\"Digite o Primeiro numero: \"))\n",
    "num2 = int(input(\"Digite o Segundo numero: \"))\n",
    "num3 = int(input(\"Digite o Terceiro numero: \"))\n",
    "\n",
    "if num1 > num2 and num1 > num3:\n",
    "    print(f\"O maior valor é {num1}\")\n",
    "elif num2 > num1 and num2 > num3:\n",
    "    print(f\"O maior valor é {num2}\")\n",
    "elif  num3 > num1 and num3 > num2:\n",
    "    print(f\"O maior valor é {num3}\")\n",
    "\n",
    "if num1 <= num2 <= num3:\n",
    "    print(\"Crescente\")\n",
    "elif num3 >= num2 >= num1:\n",
    "    print(\"Decrescente\")\n",
    "else:\n",
    "    print(\"Desordenados\")\n",
    "\n",
    "ordem = verificar_ordem(num1, num2, num3)\n",
    "\n",
    "print(f\"O maior número é: {maior}\")\n",
    "print(f\"O menor número é: {menor}\")\n",
    "print(f\"Os números estão em ordem {ordem}.\")\n",
    "\n"
   ]
  },
  {
   "cell_type": "markdown",
   "metadata": {},
   "source": [
    "### 9. **Calculadora de Desconto com Condição de Pagamento**\n",
    "   **Problema:** Crie um programa que receba o valor de uma compra e determine o desconto a ser aplicado. Aplique 20% de desconto para compras acima de R$ 1.500, 10% para compras entre R$ 800 e R$ 1.500, e 5% para compras abaixo de R$ 800. Se o pagamento for à vista, aplique um desconto adicional de 5% sobre o valor final com desconto."
   ]
  },
  {
   "cell_type": "code",
   "execution_count": 40,
   "metadata": {},
   "outputs": [],
   "source": [
    "valor = float(input(\"Digite um valor em Reais: \"))\n",
    "\n",
    "if valor >= 1500:\n",
    "    print(valor * 0.20)\n",
    "    print(valor)\n",
    "elif valor <= 800 and valor >= 1500:\n",
    "    print(valor * 0.5)\n",
    "    print(valor)\n",
    "elif valor < 800:\n",
    "    print(\"Pagamento Avista\")\n",
    "    print(valor * 0.5)\n",
    "\n"
   ]
  },
  {
   "cell_type": "markdown",
   "metadata": {},
   "source": [
    "### 10. **Verificação de Senha Segura com Requisitos Adicionais**\n",
    "   **Problema:** Desenvolva um programa que receba uma senha e verifique se ela é segura. Uma senha é considerada segura se tiver pelo menos 8 caracteres, incluir pelo menos uma letra maiúscula, uma letra minúscula, um número e um caractere especial (como !, @, #). Informe se a senha é segura ou não e liste quais requisitos estão faltando."
   ]
  },
  {
   "cell_type": "code",
   "execution_count": 46,
   "metadata": {},
   "outputs": [
    {
     "name": "stderr",
     "output_type": "stream",
     "text": [
      "<>:14: SyntaxWarning: invalid escape sequence '\\['\n",
      "<>:35: SyntaxWarning: invalid escape sequence '\\['\n",
      "<>:14: SyntaxWarning: invalid escape sequence '\\['\n",
      "<>:35: SyntaxWarning: invalid escape sequence '\\['\n",
      "C:\\Users\\paulo\\AppData\\Local\\Temp\\ipykernel_10180\\3537680890.py:14: SyntaxWarning: invalid escape sequence '\\['\n",
      "  if not re.search(\"[!@#$%^&*()_+{}\\[\\]:;<>,.?~-]\", senha):\n",
      "C:\\Users\\paulo\\AppData\\Local\\Temp\\ipykernel_10180\\3537680890.py:35: SyntaxWarning: invalid escape sequence '\\['\n",
      "  if not re.search(\"[!@#$%^&*()_+{}\\[\\]:;<>,.?~-]\", senha):\n"
     ]
    },
    {
     "name": "stdout",
     "output_type": "stream",
     "text": [
      "Senha segura!\n"
     ]
    }
   ],
   "source": [
    "def verificar_senha(senha):\n",
    "\n",
    "\n",
    "    if len(senha) < 8:\n",
    "        return False\n",
    "\n",
    "    if not re.search(\"[a-z]\", senha):\n",
    "        return False\n",
    "    if not re.search(\"[A-Z]\", senha):\n",
    "        return False\n",
    "    if not re.search(\"[0-9]\", senha):\n",
    "        return False\n",
    "    if not re.search(\"[!@#$%^&*()_+{}\\[\\]:;<>,.?~-]\", senha):\n",
    "        return False\n",
    "\n",
    "    return True\n",
    "\n",
    "\n",
    "senha = input(\"Digite sua senha: \")\n",
    "\n",
    "\n",
    "if verificar_senha(senha):\n",
    "    print(\"Senha segura!\")\n",
    "else:\n",
    "    print(\"Senha insegura. A senha deve ter pelo menos 8 caracteres e incluir pelo menos uma letra maiúscula, uma minúscula, um número e um caractere especial.\")\n",
    "\n",
    "    \n",
    "    if not re.search(\"[a-z]\", senha):\n",
    "        print(\"A senha precisa conter pelo menos uma letra minúscula.\")\n",
    "    if not re.search(\"[A-Z]\", senha):\n",
    "        print(\"A senha precisa conter pelo menos uma letra maiúscula.\")\n",
    "    if not re.search(\"[0-9]\", senha):\n",
    "        print(\"A senha precisa conter pelo menos um número.\")\n",
    "    if not re.search(\"[!@#$%^&*()_+{}\\[\\]:;<>,.?~-]\", senha):\n",
    "        print(\"A senha precisa conter pelo menos um caractere especial.\")\n",
    "\n",
    "\n",
    "    \n"
   ]
  },
  {
   "cell_type": "markdown",
   "metadata": {},
   "source": [
    "11. Contador de Números Ímpares\n",
    "   - **Descrição:** Crie um programa que conte e imprima todos os números ímpares entre 1 e 100 usando um loop `for`."
   ]
  },
  {
   "cell_type": "code",
   "execution_count": 3,
   "metadata": {},
   "outputs": [
    {
     "name": "stdout",
     "output_type": "stream",
     "text": [
      "0\n",
      "1\n",
      "2\n",
      "3\n",
      "4\n",
      "5\n",
      "6\n",
      "7\n",
      "8\n",
      "9\n",
      "10\n",
      "11\n",
      "12\n",
      "13\n",
      "14\n",
      "15\n",
      "16\n",
      "17\n",
      "18\n",
      "19\n",
      "20\n",
      "21\n",
      "22\n",
      "23\n",
      "24\n",
      "25\n",
      "26\n",
      "27\n",
      "28\n",
      "29\n",
      "30\n",
      "31\n",
      "32\n",
      "33\n",
      "34\n",
      "35\n",
      "36\n",
      "37\n",
      "38\n",
      "39\n",
      "40\n",
      "41\n",
      "42\n",
      "43\n",
      "44\n",
      "45\n",
      "46\n",
      "47\n",
      "48\n",
      "49\n",
      "50\n",
      "51\n",
      "52\n",
      "53\n",
      "54\n",
      "55\n",
      "56\n",
      "57\n",
      "58\n",
      "59\n",
      "60\n",
      "61\n",
      "62\n",
      "63\n",
      "64\n",
      "65\n",
      "66\n",
      "67\n",
      "68\n",
      "69\n",
      "70\n",
      "71\n",
      "72\n",
      "73\n",
      "74\n",
      "75\n",
      "76\n",
      "77\n",
      "78\n",
      "79\n",
      "80\n",
      "81\n",
      "82\n",
      "83\n",
      "84\n",
      "85\n",
      "86\n",
      "87\n",
      "88\n",
      "89\n",
      "90\n",
      "91\n",
      "92\n",
      "93\n",
      "94\n",
      "95\n",
      "96\n",
      "97\n",
      "98\n",
      "99\n",
      "100\n"
     ]
    }
   ],
   "source": [
    "for i in range(101):\n",
    "  print(i)"
   ]
  },
  {
   "cell_type": "markdown",
   "metadata": {},
   "source": [
    "12. Soma de Números até um Limite\n",
    "   - **Descrição:** Desenvolva um programa que receba um número inteiro positivo e use um loop `while` para calcular a soma de todos os números de 1 até o número fornecido."
   ]
  },
  {
   "cell_type": "code",
   "execution_count": 6,
   "metadata": {},
   "outputs": [
    {
     "name": "stdout",
     "output_type": "stream",
     "text": [
      "A soma dos números de 1 até 5 é: 15\n"
     ]
    }
   ],
   "source": [
    "num = int(input(\"Digite um numero: \" ))\n",
    "soma = 0\n",
    "contador = 1\n",
    "while  contador <= num:\n",
    "    soma += contador\n",
    "    contador += 1\n",
    "\n",
    "print(f\"A soma dos números de 1 até {num} é: {soma}\")  "
   ]
  },
  {
   "cell_type": "markdown",
   "metadata": {},
   "source": [
    "13. Número de Tentativas para Senha\n",
    "   - **Descrição:** Crie um programa que limite o número de tentativas para digitar a senha correta. O usuário deve ter no máximo 3 tentativas. Use `while` e `if`."
   ]
  },
  {
   "cell_type": "code",
   "execution_count": null,
   "metadata": {},
   "outputs": [],
   "source": [
    "senha_correta = \"1234\"\n",
    "tentativas_maximas = 3\n",
    "contar_tentativas = 0\n",
    "\n",
    "while contar_tentativas < tentativas_maximas:\n",
    "  senha = input(\"Digite a senha:\")\n",
    "  if senha == senha_correta:\n",
    "    print(\"Acesso Autorizado\")\n",
    "    break\n",
    "  else:\n",
    "    contar_tentativas +=1\n",
    "    if contar_tentativas < tentativas_maximas:\n",
    "      print(f\"Senha incorreta, tente novamente. Você tem {tentativas_maximas - contar_tentativas} tentativas restantes.\")\n",
    "    else:\n",
    "      print(\"Número máximo de tentativas atingido. Acesso Bloqueado\")\n"
   ]
  },
  {
   "cell_type": "markdown",
   "metadata": {},
   "source": [
    "14. Fatorial de um Número\n",
    "   - **Descrição:** Calcule o fatorial de um número fornecido pelo usuário usando um loop `for`. O fatorial de um número `n` é o produto de todos os números de 1 até `n`."
   ]
  },
  {
   "cell_type": "code",
   "execution_count": 7,
   "metadata": {},
   "outputs": [
    {
     "name": "stdout",
     "output_type": "stream",
     "text": [
      "O fatorial de 5 é 120\n"
     ]
    }
   ],
   "source": [
    "def fatorial(n):\n",
    "  \n",
    "    fatorial = 1\n",
    "    if n < 0:\n",
    "        print(\"Fatorial não definido para números negativos.\")\n",
    "    elif n == 0:\n",
    "        return 1\n",
    "    else:\n",
    "        for i in range(1, n + 1):\n",
    "            fatorial *= i\n",
    "        return fatorial\n",
    "\n",
    "\n",
    "numero = int(input(\"Digite um número inteiro não negativo: \"))\n",
    "\n",
    "\n",
    "resultado = fatorial(numero)\n",
    "if resultado is not None:\n",
    "    print(f\"O fatorial de {numero} é {resultado}\")\n"
   ]
  },
  {
   "cell_type": "markdown",
   "metadata": {},
   "source": [
    "15. Verificação de Primalidade\n",
    "   - **Descrição:** Crie um programa que verifique se um número é primo. Use um loop `for` e condicionais para determinar se o número tem apenas dois divisores: 1 e ele mesmo."
   ]
  },
  {
   "cell_type": "code",
   "execution_count": 12,
   "metadata": {},
   "outputs": [
    {
     "name": "stdout",
     "output_type": "stream",
     "text": [
      "O número 6 não é primo.\n"
     ]
    }
   ],
   "source": [
    "def eh_primo(numero):\n",
    "\n",
    "  if numero <= 1:\n",
    "    return False\n",
    "  for i in range(2, int(numero**0.5) + 1):\n",
    "    if numero % i == 0:\n",
    "      return False\n",
    "  return True\n",
    "\n",
    "# Obtém o número do usuário\n",
    "numero = int(input(\"Digite um número inteiro positivo: \"))\n",
    "\n",
    "# Verifica se o número é primo e imprime o resultado\n",
    "if eh_primo(numero):\n",
    "  print(f\"O número {numero} é primo.\")\n",
    "else:\n",
    "  print(f\"O número {numero} não é primo.\")\n",
    "        "
   ]
  },
  {
   "cell_type": "markdown",
   "metadata": {},
   "source": []
  },
  {
   "cell_type": "markdown",
   "metadata": {},
   "source": [
    "16. Sequência de Fibonacci\n",
    "   - **Descrição:** Gere a sequência de Fibonacci até um número máximo fornecido pelo usuário usando um loop `while`. A sequência começa com 0 e 1, e cada número subsequente é a soma dos dois anteriores."
   ]
  },
  {
   "cell_type": "code",
   "execution_count": 13,
   "metadata": {},
   "outputs": [
    {
     "name": "stdout",
     "output_type": "stream",
     "text": [
      "[0, 1, 1, 2, 3, 5, 8, 13, 21, 34, 55, 89, 144, 233, 377, 610, 987, 1597, 2584, 4181, 6765, 10946, 17711, 28657, 46368, 75025, 121393, 196418, 317811, 514229, 832040, 1346269, 2178309, 3524578, 5702887, 9227465, 14930352, 24157817, 39088169, 63245986, 102334155, 165580141, 267914296, 433494437, 701408733, 1134903170, 1836311903, 2971215073, 4807526976, 7778742049]\n"
     ]
    }
   ],
   "source": [
    "def fibonacci(n):\n",
    "    if n <= 0:\n",
    "        return \"O número de termos deve ser positivo.\"\n",
    "\n",
    "    fibonacci_sequence = [0, 1]\n",
    "    while len(fibonacci_sequence) < n:\n",
    "        next_number = fibonacci_sequence[-1] + fibonacci_sequence[-2]\n",
    "        fibonacci_sequence.append(next_number)\n",
    "    return fibonacci_sequence\n",
    "\n",
    "\n",
    "n = int(input(\"Digite o número máximo de termos da sequência de Fibonacci: \"))\n",
    "\n",
    "\n",
    "resultado = fibonacci(n)\n",
    "print(resultado)\n"
   ]
  },
  {
   "cell_type": "markdown",
   "metadata": {},
   "source": [
    "17. Contar Caracteres em uma String\n",
    "   - **Descrição:** Conte quantas vezes um caractere específico aparece em uma string fornecida pelo usuário usando um loop `for`."
   ]
  },
  {
   "cell_type": "code",
   "execution_count": null,
   "metadata": {},
   "outputs": [],
   "source": [
    "def contar_caracteres(texto, caractere):\n",
    "\n",
    "    contador = 0\n",
    "    for letra in texto:\n",
    "        if letra == caractere:\n",
    "            contador += 1\n",
    "    return contador\n",
    "\n",
    "\n",
    "texto = input(\"Digite uma string: \")\n",
    "caractere = input(\"Digite o caractere que deseja contar: \")\n",
    "\n",
    "\n",
    "resultado = contar_caracteres(texto, caractere)\n",
    "print(f\"O caractere '{caractere}' aparece {resultado} vezes na string.\")\n"
   ]
  },
  {
   "cell_type": "markdown",
   "metadata": {},
   "source": [
    "18. Tabuada de um Número\n",
    "   - **Descrição:** Crie um programa que exiba a tabuada (de 1 a 10) de um número fornecido pelo usuário usando um loop `for`."
   ]
  },
  {
   "cell_type": "code",
   "execution_count": 15,
   "metadata": {},
   "outputs": [
    {
     "name": "stdout",
     "output_type": "stream",
     "text": [
      "9 x 1 = 9\n",
      "9 x 2 = 18\n",
      "9 x 3 = 27\n",
      "9 x 4 = 36\n",
      "9 x 5 = 45\n",
      "9 x 6 = 54\n",
      "9 x 7 = 63\n",
      "9 x 8 = 72\n",
      "9 x 9 = 81\n",
      "9 x 10 = 90\n"
     ]
    }
   ],
   "source": [
    "numero = int(input(\"Digite um número para ver sua tabuada: \"))\n",
    "\n",
    "for i in range(1, 11):\n",
    "    resultado = numero * i\n",
    "    print(f\"{numero} x {i} = {resultado}\")\n"
   ]
  },
  {
   "cell_type": "markdown",
   "metadata": {},
   "source": [
    "19. Contador de Letras em Palavras\n",
    "   - **Descrição:** Dada uma lista de palavras, conte quantas letras `a` existem em todas as palavras usando um loop `for` e condicionais."
   ]
  },
  {
   "cell_type": "code",
   "execution_count": 16,
   "metadata": {},
   "outputs": [
    {
     "name": "stdout",
     "output_type": "stream",
     "text": [
      "Existem 8 letras 'a' na lista.\n"
     ]
    }
   ],
   "source": [
    "def contar_letras_a(lista_palavras):\n",
    "\n",
    "  contador = 0\n",
    "  for palavra in lista_palavras:\n",
    "    for letra in palavra:\n",
    "      if letra.lower() == 'a':\n",
    "        contador += 1\n",
    "  return contador\n",
    "\n",
    "# Exemplo de uso:\n",
    "palavras = [\"banana\", \"maçã\", \"abacaxi\", \"uva\"]\n",
    "resultado = contar_letras_a(palavras)\n",
    "print(f\"Existem {resultado} letras 'a' na lista.\")\n"
   ]
  },
  {
   "cell_type": "markdown",
   "metadata": {},
   "source": [
    "20. Conversão de Temperatura\n",
    "    - **Descrição:** Desenvolva um programa que converta temperaturas de Celsius para Fahrenheit e vice-versa. Use loops para permitir múltiplas conversões até que o usuário decida parar."
   ]
  },
  {
   "cell_type": "code",
   "execution_count": null,
   "metadata": {},
   "outputs": [],
   "source": [
    "def celsius_para_fahrenheit(celsius):\n",
    "  fahrenheit = (celsius * 9/5) + 32\n",
    "  return fahrenheit\n",
    "\n",
    "def fahrenheit_para_celsius(fahrenheit):\n",
    "  celsius = (fahrenheit - 32) * 5/9\n",
    "  return celsius\n",
    "\n",
    "while True:\n",
    "  opcao = input(\"Digite 'C' para converter de Celsius para Fahrenheit ou 'F' para o contrário (ou qualquer outra tecla para sair): \")\n",
    "  if opcao.upper() == 'C':\n",
    "    celsius = float(input(\"Digite a temperatura em Celsius: \"))\n",
    "    fahrenheit = celsius_para_fahrenheit(celsius)\n",
    "    print(f\"{celsius}°C equivale a {fahrenheit}°F\")\n",
    "  elif opcao.upper() == 'F':\n",
    "    fahrenheit = float(input(\"Digite a temperatura em Fahrenheit: \"))\n",
    "    celsius = fahrenheit_para_celsius(fahrenheit)\n",
    "    print(f\"{fahrenheit}°F equivale a {celsius}°C\")\n",
    "  else:\n",
    "    print(\"Saindo...\")\n",
    "    break\n"
   ]
  },
  {
   "cell_type": "markdown",
   "metadata": {},
   "source": [
    "21. Média de Notas\n",
    "    - **Descrição:** Crie um programa que calcule a média de uma série de notas fornecidas pelo usuário. O programa deve parar quando o usuário digitar um valor negativo."
   ]
  },
  {
   "cell_type": "code",
   "execution_count": null,
   "metadata": {},
   "outputs": [],
   "source": [
    "soma = 0\n",
    "cont = 0\n",
    "while True:\n",
    "  nota = float(input(\"Digite uma nota (ou digite um número negativo para parar): \"))\n",
    "  if nota < 0:\n",
    "    break\n",
    "  soma += nota\n",
    "  cont += 1\n",
    "if cont > 0:\n",
    "  media = soma / cont\n",
    "  print(f\"A média das notas é: {media:.2f}\")\n",
    "else:\n",
    "  print(\"Nenhuma nota válida foi informada.\")\n"
   ]
  },
  {
   "cell_type": "markdown",
   "metadata": {},
   "source": [
    "22. Números Divisíveis por 3 e 5\n",
    "    - **Descrição:** Crie um programa que liste todos os números entre 1 e 100 que são divisíveis por 3 e por 5 usando um loop `for` e condicionais."
   ]
  },
  {
   "cell_type": "code",
   "execution_count": null,
   "metadata": {},
   "outputs": [],
   "source": [
    "for numero in range(1, 101):\n",
    "  if numero % 3 == 0 and numero % 5 == 0:\n",
    "    print(numero)\n"
   ]
  },
  {
   "cell_type": "markdown",
   "metadata": {},
   "source": [
    "23. Inverter uma String\n",
    "    - **Descrição:** Crie um programa que inverta uma string fornecida pelo usuário sem usar funções embutidas, utilizando um loop `for`."
   ]
  },
  {
   "cell_type": "code",
   "execution_count": null,
   "metadata": {},
   "outputs": [],
   "source": [
    "def inverter_string(texto):\n",
    "\n",
    "  texto_invertido = \"\"\n",
    "  for i in range(len(texto) - 1, -1, -1):\n",
    "    texto_invertido += texto[i]\n",
    "  return texto_invertido\n",
    "\n",
    "\n",
    "texto = input(\"Digite uma string: \")\n",
    "\n",
    "\n",
    "resultado = inverter_string(texto)\n",
    "print(\"A string invertida é:\", resultado)\n"
   ]
  },
  {
   "cell_type": "markdown",
   "metadata": {},
   "source": [
    "24. Verificar Palíndromo\n",
    "    - **Descrição:** Desenvolva um programa que verifique se uma palavra é um palíndromo (ou seja, se pode ser lida da mesma forma de trás para frente). Use um loop `for` e condicionais."
   ]
  },
  {
   "cell_type": "code",
   "execution_count": null,
   "metadata": {},
   "outputs": [],
   "source": [
    "def eh_palindromo(palavra):\n",
    "  \n",
    "  invertida = \"\"\n",
    "  for letra in palavra:\n",
    "    invertida = letra + invertida\n",
    "  return palavra.lower() == invertida.lower()\n",
    "\n",
    "\n",
    "palavra = input(\"Digite uma palavra: \")\n",
    "\n",
    "\n",
    "if eh_palindromo(palavra):\n",
    "  print(\"A palavra é um palíndromo!\")\n",
    "else:\n",
    "  print(\"A palavra não é um palíndromo.\")\n"
   ]
  },
  {
   "cell_type": "markdown",
   "metadata": {},
   "source": [
    "25. Múltiplos de um Número\n",
    "    - **Descrição:** Crie um programa que encontre todos os múltiplos de um número fornecido pelo usuário até um valor máximo também fornecido pelo usuário."
   ]
  },
  {
   "cell_type": "code",
   "execution_count": null,
   "metadata": {},
   "outputs": [],
   "source": [
    "def encontrar_multiplos(numero, limite):\n",
    "\n",
    "  multiplos = []\n",
    "  for i in range(1, limite + 1):\n",
    "    if i % numero == 0:\n",
    "      multiplos.append(i)\n",
    "  return multiplos\n",
    "\n",
    "# Exemplo de uso (sem entrada do usuário)\n",
    "numero = 3\n",
    "limite = 20\n",
    "\n",
    "multiplos = encontrar_multiplos(numero, limite)\n",
    "\n",
    "print(f\"Os múltiplos de {numero} até {limite} são: {multiplos}\")\n"
   ]
  },
  {
   "cell_type": "markdown",
   "metadata": {},
   "source": [
    "26. Gerar Números Aleatórios\n",
    "    - **Descrição:** Gere e exiba uma lista de 10 números aleatórios entre 1 e 100. Use um loop `for` e a biblioteca `random` para isso.\n"
   ]
  },
  {
   "cell_type": "code",
   "execution_count": null,
   "metadata": {},
   "outputs": [],
   "source": [
    "import random\n",
    "\n",
    "numeros_aleatorios = []\n",
    "\n",
    "for _ in range(10):\n",
    "    numero_aleatorio = random.randint(1, 100)\n",
    "    numeros_aleatorios.append(numero_aleatorio)\n",
    "\n",
    "print(numeros_aleatorios)\n"
   ]
  },
  {
   "cell_type": "markdown",
   "metadata": {},
   "source": [
    "27. Contar Palavras em uma Frase\n",
    "    - **Descrição:** Crie um programa que conte o número de palavras em uma frase fornecida pelo usuário. Use um loop `for` para iterar sobre as palavras da frase."
   ]
  },
  {
   "cell_type": "code",
   "execution_count": null,
   "metadata": {},
   "outputs": [],
   "source": [
    "def contar_palavras(frase):\n",
    "\n",
    "  palavras = frase.split()\n",
    "  contador = 0\n",
    "\n",
    "  for palavra in palavras:\n",
    "    contador += 1\n",
    "\n",
    "  return contador\n",
    "\n",
    "\n",
    "frase = input(\"Digite uma frase: \")\n",
    "\n",
    "\n",
    "numero_palavras = contar_palavras(frase)\n",
    "print(\"A frase possui\", numero_palavras, \"palavras.\")\n"
   ]
  },
  {
   "cell_type": "markdown",
   "metadata": {},
   "source": [
    "28. Tabuada de 1 a 10\n",
    "    - **Descrição:** Crie um programa que exiba a tabuada de 1 a 10 usando dois loops `for`: um para o número base e outro para o multiplicador."
   ]
  },
  {
   "cell_type": "code",
   "execution_count": null,
   "metadata": {},
   "outputs": [],
   "source": [
    "for numero_base in range(1, 11):\n",
    "    print(f\"Tabuada do {numero_base}\")\n",
    "    for multiplicador in range(1, 11):\n",
    "        resultado = numero_base * multiplicador\n",
    "        print(f\"{numero_base} x {multiplicador} = {resultado}\")\n",
    "    print()  # Linha em branco para separar as tabuadas\n"
   ]
  },
  {
   "cell_type": "markdown",
   "metadata": {},
   "source": [
    "29. Verificar Paridade de Números\n",
    "    - **Descrição:** Dado um número máximo fornecido pelo usuário, crie um programa que exiba todos os números de 1 até o máximo e informe se cada um é par ou ímpar."
   ]
  },
  {
   "cell_type": "code",
   "execution_count": null,
   "metadata": {},
   "outputs": [],
   "source": [
    "def identificar_pares_impares(numero_maximo):\n",
    " \n",
    "  for numero in range(1, numero_maximo + 1):\n",
    "    if numero % 2 == 0:\n",
    "      print(f\"{numero} é par\")\n",
    "    else:\n",
    "      print(f\"{numero} é ímpar\")\n",
    "\n",
    "\n",
    "numero_maximo = int(input(\"Digite o número máximo: \"))\n",
    "\n",
    "\n",
    "identificar_pares_impares(numero_maximo)\n"
   ]
  },
  {
   "cell_type": "markdown",
   "metadata": {},
   "source": [
    "30. Somar Números em uma Lista\n",
    "    - **Descrição:** Crie uma lista de números e calcule a soma de todos os números positivos usando um loop `for`."
   ]
  },
  {
   "cell_type": "code",
   "execution_count": 17,
   "metadata": {},
   "outputs": [
    {
     "name": "stdout",
     "output_type": "stream",
     "text": [
      "A soma dos números positivos é: 14\n"
     ]
    }
   ],
   "source": [
    "\n",
    "numeros = [1, -2, 3, 4, -5, 6]\n",
    "\n",
    "\n",
    "soma_positivos = 0\n",
    "\n",
    "\n",
    "for numero in numeros:\n",
    "  if numero > 0:\n",
    "    soma_positivos += numero\n",
    "\n",
    "\n",
    "print(f\"A soma dos números positivos é: {soma_positivos}\")\n"
   ]
  },
  {
   "cell_type": "code",
   "execution_count": null,
   "metadata": {},
   "outputs": [],
   "source": []
  }
 ],
 "metadata": {
  "kernelspec": {
   "display_name": "Python 3",
   "language": "python",
   "name": "python3"
  },
  "language_info": {
   "codemirror_mode": {
    "name": "ipython",
    "version": 3
   },
   "file_extension": ".py",
   "mimetype": "text/x-python",
   "name": "python",
   "nbconvert_exporter": "python",
   "pygments_lexer": "ipython3",
   "version": "3.12.4"
  }
 },
 "nbformat": 4,
 "nbformat_minor": 2
}
