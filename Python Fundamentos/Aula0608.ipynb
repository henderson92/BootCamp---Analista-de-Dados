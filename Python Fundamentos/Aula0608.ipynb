{
 "cells": [
  {
   "cell_type": "code",
   "execution_count": 5,
   "metadata": {},
   "outputs": [
    {
     "name": "stdout",
     "output_type": "stream",
     "text": [
      "Henderson\n",
      "32\n",
      "1.75\n"
     ]
    }
   ],
   "source": [
    "cliente = \"Henderson\" # em Python string. Em teoria estatistica (Variavel qualitativa ou categorica)\n",
    "type(cliente)\n",
    "idade = 32  # em python inteiro(int). em teoria estatistica (variavel quantitativa discreta)\n",
    "type(idade)  # em python float. em teoria estatistica (variavel quantitativa continua)\n",
    "altura = 1.75\n",
    "type(altura)  # em python bool. em teoria estatistica (variavel quantitativa continua)\n",
    "print(cliente)\n",
    "print(idade)\n",
    "print(altura)"
   ]
  },
  {
   "cell_type": "markdown",
   "metadata": {},
   "source": [
    "Comparação"
   ]
  },
  {
   "cell_type": "code",
   "execution_count": 6,
   "metadata": {},
   "outputs": [
    {
     "name": "stdout",
     "output_type": "stream",
     "text": [
      "True\n",
      "False\n",
      "False\n",
      "True\n",
      "True\n",
      "False\n"
     ]
    }
   ],
   "source": [
    "a = 10 \n",
    "b = 5 \n",
    "print (a > b) # Saida: True - Maior\n",
    "print (a < b) # Saida: False - Menor\n",
    "print (a == b) # Saida: False - Igual\n",
    "print (a != b) # Saida: True - Diferente ou igual\n",
    "print (a >= b) # Saida: True - maior igual\n",
    "print (a <= b) # Saida: False - menor igaul"
   ]
  },
  {
   "cell_type": "markdown",
   "metadata": {},
   "source": [
    "# Operadores Lógicos"
   ]
  },
  {
   "cell_type": "code",
   "execution_count": 1,
   "metadata": {},
   "outputs": [
    {
     "name": "stdout",
     "output_type": "stream",
     "text": [
      "True\n",
      "True\n"
     ]
    }
   ],
   "source": [
    "# Operador OR (ou lógico) - emite verdadeiro se existir ao menos um TRUE\n",
    "x = 70\n",
    "y = 50\n",
    "k = 151\n",
    "\n",
    "print ((x < y) or (y >= k) or (k > x))\n",
    "\n",
    "print (((x > y) or (y >= k)) and (k > x))"
   ]
  },
  {
   "cell_type": "code",
   "execution_count": 2,
   "metadata": {},
   "outputs": [
    {
     "name": "stdout",
     "output_type": "stream",
     "text": [
      "False\n"
     ]
    }
   ],
   "source": [
    "#Operador NOT (não lógico) - inverte o valor booleano da variável\n",
    "a = 10\n",
    "b = 5\n",
    "resultado = a < b\n",
    "\n",
    "# print(not resultado)\n",
    "\n",
    "x = True\n",
    "y = False\n",
    "k = True\n",
    "# Combinação de and, or e not\n",
    "print(not((x and y) or (not y and k)))"
   ]
  },
  {
   "cell_type": "markdown",
   "metadata": {},
   "source": [
    "Condicionais Simples"
   ]
  },
  {
   "cell_type": "code",
   "execution_count": 3,
   "metadata": {},
   "outputs": [
    {
     "name": "stdout",
     "output_type": "stream",
     "text": [
      "Você é maior de idade\n"
     ]
    }
   ],
   "source": [
    "idade = 20\n",
    "\n",
    "if (idade >= 18):\n",
    "    print(\"Você é maior de idade\")"
   ]
  },
  {
   "cell_type": "code",
   "execution_count": 4,
   "metadata": {},
   "outputs": [
    {
     "name": "stdout",
     "output_type": "stream",
     "text": [
      "Você é menor de idade\n"
     ]
    }
   ],
   "source": [
    "idade = 15\n",
    "\n",
    "if (idade >= 18):\n",
    "  print(\"Você é maior de idade\")\n",
    "else:\n",
    "  print(\"Você é menor de idade\")"
   ]
  },
  {
   "cell_type": "code",
   "execution_count": 5,
   "metadata": {},
   "outputs": [
    {
     "name": "stdout",
     "output_type": "stream",
     "text": [
      "Adulto\n"
     ]
    }
   ],
   "source": [
    "# Criança até 12 anos\n",
    "# Adolescente de 13 a 17 anos\n",
    "# Adulto 18 a 59 anos\n",
    "# Idoso acima de 60 anos\n",
    "idade = int(input(\"Digite sua idade: \"))\n",
    "# Verificar e classificar a faixa etária\n",
    "if (idade >= 0 and idade <= 12):\n",
    "  print(\"Criança\")\n",
    "elif(idade >=13 and idade <=17):\n",
    "  print(\"Adolescente\")\n",
    "elif(idade >= 18 and idade <= 59):\n",
    "  print(\"Adulto\")\n",
    "elif (idade >= 60 and idade <= 130):\n",
    "  print(\"Idoso\")\n",
    "else:\n",
    "  print(\"Idade Inválida\")"
   ]
  },
  {
   "cell_type": "code",
   "execution_count": 6,
   "metadata": {},
   "outputs": [
    {
     "name": "stdout",
     "output_type": "stream",
     "text": [
      "Idoso\n"
     ]
    }
   ],
   "source": [
    "# Criança até 12 anos\n",
    "# Adolescente de 13 a 17 anos\n",
    "# Adulto 18 a 59 anos\n",
    "# Idoso acima de 60 anos\n",
    "idade = int(input(\"Digite sua idade: \"))\n",
    "# Verificar e classificar a faixa etária\n",
    "if 0 <= idade <= 12:\n",
    "  print(\"Criança\")\n",
    "elif 13 <= idade <=17:\n",
    "  print(\"Adolescente\")\n",
    "elif 18 <= idade <= 59:\n",
    "  print(\"Adulto\")\n",
    "elif 60 <= idade <= 130:\n",
    "  print(\"Idoso\")\n",
    "else:\n",
    "  print(\"Idade Inválida\")"
   ]
  },
  {
   "cell_type": "markdown",
   "metadata": {},
   "source": [
    "## Estrutura de Repetição"
   ]
  },
  {
   "cell_type": "markdown",
   "metadata": {},
   "source": [
    "For"
   ]
  },
  {
   "cell_type": "code",
   "execution_count": 1,
   "metadata": {},
   "outputs": [
    {
     "name": "stdout",
     "output_type": "stream",
     "text": [
      "['maçã', 'banana', 'cereja', 'uva']\n",
      "maçã\n",
      "banana\n",
      "cereja\n",
      "uva\n"
     ]
    }
   ],
   "source": [
    "# Iteração sobre listas\n",
    "        #   0         1         2       3\n",
    "frutas = [\"maçã\", \"banana\", \"cereja\", \"uva\"]\n",
    "print(frutas)\n",
    "for x in frutas:\n",
    "  print(x)\n",
    "\n"
   ]
  },
  {
   "cell_type": "code",
   "execution_count": 2,
   "metadata": {},
   "outputs": [
    {
     "name": "stdout",
     "output_type": "stream",
     "text": [
      "0\n",
      "1\n",
      "2\n",
      "3\n",
      "4\n",
      "5\n",
      "6\n",
      "7\n",
      "8\n",
      "9\n",
      "10\n"
     ]
    }
   ],
   "source": [
    "# Usando range\n",
    "\n",
    "for i in range(11):\n",
    "  print(i)"
   ]
  },
  {
   "cell_type": "code",
   "execution_count": 3,
   "metadata": {},
   "outputs": [
    {
     "name": "stdout",
     "output_type": "stream",
     "text": [
      "H\n",
      "e\n",
      "l\n",
      "l\n",
      "o\n",
      ",\n",
      " \n",
      "w\n",
      "o\n",
      "r\n",
      "l\n",
      "d\n",
      "!\n"
     ]
    }
   ],
   "source": [
    "#Iteração sobre caracteres de uma string\n",
    "mensagem = \"Hello, world!\"\n",
    "\n",
    "for caractere in mensagem:\n",
    "  print(caractere)\n",
    "  "
   ]
  },
  {
   "cell_type": "markdown",
   "metadata": {},
   "source": [
    "## String\n"
   ]
  },
  {
   "cell_type": "code",
   "execution_count": 6,
   "metadata": {},
   "outputs": [],
   "source": [
    "### E um tipo de dado (fundamental) que representa uma seguencia de caracteres\n",
    "\n",
    "### texto = \"Hello\" indice 0 1 2 3 4 [(H) (e) (l) (l) (o) world]"
   ]
  },
  {
   "cell_type": "markdown",
   "metadata": {},
   "source": [
    "## While"
   ]
  },
  {
   "cell_type": "code",
   "execution_count": 7,
   "metadata": {},
   "outputs": [
    {
     "name": "stdout",
     "output_type": "stream",
     "text": [
      "0\n",
      "1\n",
      "2\n",
      "3\n",
      "4\n",
      "5\n",
      "6\n",
      "7\n",
      "8\n",
      "9\n"
     ]
    }
   ],
   "source": [
    "### While - o Codigo sera executado enquanto for verdadeiro\n",
    "\n",
    "contador = 0\n",
    "\n",
    "while(contador < 10):\n",
    "    print(contador)\n",
    "    contador += 1"
   ]
  },
  {
   "cell_type": "code",
   "execution_count": 1,
   "metadata": {},
   "outputs": [],
   "source": [
    "senha = \"12345\"\n",
    "while senha != \"12345\":\n",
    "  senha = input(\"Digite a senha correta: \")\n",
    "  if senha == \"12345\":\n",
    "    print(\"Acesso Autorizado!\")\n",
    "  else:\n",
    "    print(\"senha incorreta!, tente novamente!\")"
   ]
  },
  {
   "cell_type": "code",
   "execution_count": 2,
   "metadata": {},
   "outputs": [
    {
     "name": "stdout",
     "output_type": "stream",
     "text": [
      "Senha incorreta, tente novamente. Você tem 2 tentativas restantes.\n",
      "Senha incorreta, tente novamente. Você tem 1 tentativas restantes.\n",
      "Acesso Autorizado\n"
     ]
    }
   ],
   "source": [
    "senha_correta = \"1234\"\n",
    "tentativas_maximas = 3\n",
    "contar_tentativas = 0\n",
    "\n",
    "while contar_tentativas < tentativas_maximas:\n",
    "  senha = input(\"Digite a senha:\")\n",
    "  if senha == senha_correta:\n",
    "    print(\"Acesso Autorizado\")\n",
    "    break\n",
    "  else:\n",
    "    contar_tentativas +=1\n",
    "    if contar_tentativas < tentativas_maximas:\n",
    "      print(f\"Senha incorreta, tente novamente. Você tem {tentativas_maximas - contar_tentativas} tentativas restantes.\")\n",
    "    else:\n",
    "      print(\"Número máximo de tentativas atingido. Acesso Bloqueado\")\n"
   ]
  },
  {
   "cell_type": "code",
   "execution_count": null,
   "metadata": {},
   "outputs": [],
   "source": []
  }
 ],
 "metadata": {
  "kernelspec": {
   "display_name": "Python 3",
   "language": "python",
   "name": "python3"
  },
  "language_info": {
   "codemirror_mode": {
    "name": "ipython",
    "version": 3
   },
   "file_extension": ".py",
   "mimetype": "text/x-python",
   "name": "python",
   "nbconvert_exporter": "python",
   "pygments_lexer": "ipython3",
   "version": "3.12.4"
  }
 },
 "nbformat": 4,
 "nbformat_minor": 2
}
