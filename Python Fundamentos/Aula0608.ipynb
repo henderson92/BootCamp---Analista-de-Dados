{
 "cells": [
  {
   "cell_type": "code",
   "execution_count": 5,
   "metadata": {},
   "outputs": [
    {
     "name": "stdout",
     "output_type": "stream",
     "text": [
      "Henderson\n",
      "32\n",
      "1.75\n"
     ]
    }
   ],
   "source": [
    "cliente = \"Henderson\" # em Python string. Em teoria estatistica (Variavel qualitativa ou categorica)\n",
    "type(cliente)\n",
    "idade = 32  # em python inteiro(int). em teoria estatistica (variavel quantitativa discreta)\n",
    "type(idade)  # em python float. em teoria estatistica (variavel quantitativa continua)\n",
    "altura = 1.75\n",
    "type(altura)  # em python bool. em teoria estatistica (variavel quantitativa continua)\n",
    "print(cliente)\n",
    "print(idade)\n",
    "print(altura)"
   ]
  },
  {
   "cell_type": "markdown",
   "metadata": {},
   "source": [
    "Comparação"
   ]
  },
  {
   "cell_type": "code",
   "execution_count": 6,
   "metadata": {},
   "outputs": [
    {
     "name": "stdout",
     "output_type": "stream",
     "text": [
      "True\n",
      "False\n",
      "False\n",
      "True\n",
      "True\n",
      "False\n"
     ]
    }
   ],
   "source": [
    "a = 10 \n",
    "b = 5 \n",
    "print (a > b) # Saida: True - Maior\n",
    "print (a < b) # Saida: False - Menor\n",
    "print (a == b) # Saida: False - Igual\n",
    "print (a != b) # Saida: True - Diferente ou igual\n",
    "print (a >= b) # Saida: True - maior igual\n",
    "print (a <= b) # Saida: False - menor igaul"
   ]
  },
  {
   "cell_type": "markdown",
   "metadata": {},
   "source": [
    "# Operadores Lógicos"
   ]
  },
  {
   "cell_type": "code",
   "execution_count": 1,
   "metadata": {},
   "outputs": [
    {
     "name": "stdout",
     "output_type": "stream",
     "text": [
      "True\n",
      "True\n"
     ]
    }
   ],
   "source": [
    "# Operador OR (ou lógico) - emite verdadeiro se existir ao menos um TRUE\n",
    "x = 70\n",
    "y = 50\n",
    "k = 151\n",
    "\n",
    "print ((x < y) or (y >= k) or (k > x))\n",
    "\n",
    "print (((x > y) or (y >= k)) and (k > x))"
   ]
  },
  {
   "cell_type": "code",
   "execution_count": 2,
   "metadata": {},
   "outputs": [
    {
     "name": "stdout",
     "output_type": "stream",
     "text": [
      "False\n"
     ]
    }
   ],
   "source": [
    "#Operador NOT (não lógico) - inverte o valor booleano da variável\n",
    "a = 10\n",
    "b = 5\n",
    "resultado = a < b\n",
    "\n",
    "# print(not resultado)\n",
    "\n",
    "x = True\n",
    "y = False\n",
    "k = True\n",
    "# Combinação de and, or e not\n",
    "print(not((x and y) or (not y and k)))"
   ]
  },
  {
   "cell_type": "markdown",
   "metadata": {},
   "source": [
    "Condicionais Simples"
   ]
  },
  {
   "cell_type": "code",
   "execution_count": 3,
   "metadata": {},
   "outputs": [
    {
     "name": "stdout",
     "output_type": "stream",
     "text": [
      "Você é maior de idade\n"
     ]
    }
   ],
   "source": [
    "idade = 20\n",
    "\n",
    "if (idade >= 18):\n",
    "    print(\"Você é maior de idade\")"
   ]
  },
  {
   "cell_type": "code",
   "execution_count": 4,
   "metadata": {},
   "outputs": [
    {
     "name": "stdout",
     "output_type": "stream",
     "text": [
      "Você é menor de idade\n"
     ]
    }
   ],
   "source": [
    "idade = 15\n",
    "\n",
    "if (idade >= 18):\n",
    "  print(\"Você é maior de idade\")\n",
    "else:\n",
    "  print(\"Você é menor de idade\")"
   ]
  },
  {
   "cell_type": "code",
   "execution_count": 5,
   "metadata": {},
   "outputs": [
    {
     "name": "stdout",
     "output_type": "stream",
     "text": [
      "Adulto\n"
     ]
    }
   ],
   "source": [
    "# Criança até 12 anos\n",
    "# Adolescente de 13 a 17 anos\n",
    "# Adulto 18 a 59 anos\n",
    "# Idoso acima de 60 anos\n",
    "idade = int(input(\"Digite sua idade: \"))\n",
    "# Verificar e classificar a faixa etária\n",
    "if (idade >= 0 and idade <= 12):\n",
    "  print(\"Criança\")\n",
    "elif(idade >=13 and idade <=17):\n",
    "  print(\"Adolescente\")\n",
    "elif(idade >= 18 and idade <= 59):\n",
    "  print(\"Adulto\")\n",
    "elif (idade >= 60 and idade <= 130):\n",
    "  print(\"Idoso\")\n",
    "else:\n",
    "  print(\"Idade Inválida\")"
   ]
  },
  {
   "cell_type": "code",
   "execution_count": 6,
   "metadata": {},
   "outputs": [
    {
     "name": "stdout",
     "output_type": "stream",
     "text": [
      "Idoso\n"
     ]
    }
   ],
   "source": [
    "# Criança até 12 anos\n",
    "# Adolescente de 13 a 17 anos\n",
    "# Adulto 18 a 59 anos\n",
    "# Idoso acima de 60 anos\n",
    "idade = int(input(\"Digite sua idade: \"))\n",
    "# Verificar e classificar a faixa etária\n",
    "if 0 <= idade <= 12:\n",
    "  print(\"Criança\")\n",
    "elif 13 <= idade <=17:\n",
    "  print(\"Adolescente\")\n",
    "elif 18 <= idade <= 59:\n",
    "  print(\"Adulto\")\n",
    "elif 60 <= idade <= 130:\n",
    "  print(\"Idoso\")\n",
    "else:\n",
    "  print(\"Idade Inválida\")"
   ]
  },
  {
   "cell_type": "code",
   "execution_count": null,
   "metadata": {},
   "outputs": [],
   "source": []
  }
 ],
 "metadata": {
  "kernelspec": {
   "display_name": "Python 3",
   "language": "python",
   "name": "python3"
  },
  "language_info": {
   "codemirror_mode": {
    "name": "ipython",
    "version": 3
   },
   "file_extension": ".py",
   "mimetype": "text/x-python",
   "name": "python",
   "nbconvert_exporter": "python",
   "pygments_lexer": "ipython3",
   "version": "3.12.4"
  }
 },
 "nbformat": 4,
 "nbformat_minor": 2
}
