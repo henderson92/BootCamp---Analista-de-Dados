{
 "cells": [
  {
   "cell_type": "markdown",
   "metadata": {},
   "source": [
    "Introdução ao Python"
   ]
  },
  {
   "cell_type": "markdown",
   "metadata": {},
   "source": [
    "# Batismo da Linguagem"
   ]
  },
  {
   "cell_type": "code",
   "execution_count": 16,
   "metadata": {},
   "outputs": [
    {
     "name": "stdout",
     "output_type": "stream",
     "text": [
      "Hello World!\n"
     ]
    }
   ],
   "source": [
    "print(\"Hello World!\")"
   ]
  },
  {
   "cell_type": "markdown",
   "metadata": {},
   "source": [
    "# Variaveis"
   ]
  },
  {
   "cell_type": "code",
   "execution_count": 22,
   "metadata": {},
   "outputs": [
    {
     "name": "stdout",
     "output_type": "stream",
     "text": [
      "5 <class 'int'>\n",
      "99 <class 'int'>\n",
      "100 <class 'int'>\n"
     ]
    }
   ],
   "source": [
    "# Inteiro \n",
    "x = 5\n",
    "y = 99\n",
    "gato = 100\n",
    "print(x, type(x))\n",
    "print(y, type(y))\n",
    "print(gato, type(gato))"
   ]
  },
  {
   "cell_type": "code",
   "execution_count": 24,
   "metadata": {},
   "outputs": [
    {
     "name": "stdout",
     "output_type": "stream",
     "text": [
      "3.14 <class 'float'>\n",
      "2.718 <class 'float'>\n"
     ]
    }
   ],
   "source": [
    "# Float\n",
    "pi = 3.14\n",
    "e = 2.718\n",
    "\n",
    "print(pi, type(pi))\n",
    "print(e, type(e))"
   ]
  },
  {
   "cell_type": "code",
   "execution_count": 25,
   "metadata": {},
   "outputs": [
    {
     "name": "stdout",
     "output_type": "stream",
     "text": [
      "Paulo Henderson <class 'str'>\n",
      "Belem do Pará <class 'str'>\n"
     ]
    }
   ],
   "source": [
    "# String (texto)\n",
    "nome = \"Paulo Henderson\"\n",
    "cidade = \"Belem do Pará\"\n",
    "print(nome, type(nome))\n",
    "print(cidade, type(cidade))"
   ]
  },
  {
   "cell_type": "code",
   "execution_count": 26,
   "metadata": {},
   "outputs": [
    {
     "name": "stdout",
     "output_type": "stream",
     "text": [
      "True <class 'bool'>\n",
      "False <class 'bool'>\n"
     ]
    }
   ],
   "source": [
    "# Booleano (Verdadeiro ou falso)\n",
    "status = True\n",
    "situação = False\n",
    "print(status, type(status))\n",
    "print(situação, type(situação))\n"
   ]
  },
  {
   "cell_type": "code",
   "execution_count": 27,
   "metadata": {},
   "outputs": [
    {
     "name": "stdout",
     "output_type": "stream",
     "text": [
      "Soma:  17\n",
      "Subtração:  13\n",
      "Multipicação:  30\n",
      "Divisão:  7.5\n",
      "Divisão Inteira:  7\n",
      "Resto da Divisão:  1\n",
      "Exponenciação:  225\n"
     ]
    }
   ],
   "source": [
    "a = 15 \n",
    "b = 2\n",
    "print(\"Soma: \", a + b)\n",
    "print(\"Subtração: \", a - b)\n",
    "print(\"Multipicação: \", a * b)\n",
    "print(\"Divisão: \", a / b)\n",
    "print(\"Divisão Inteira: \", a // b)\n",
    "print(\"Resto da Divisão: \", a % b)\n",
    "print(\"Exponenciação: \", a ** b)\n"
   ]
  },
  {
   "cell_type": "code",
   "execution_count": 3,
   "metadata": {},
   "outputs": [
    {
     "name": "stdout",
     "output_type": "stream",
     "text": [
      "Soma:  7\n",
      "Subtração:  -3\n",
      "Multipicação:  10\n",
      "Divisão:  0.4\n",
      "Divisão Inteira:  0\n",
      "Resto da Divisão:  2\n",
      "Exponenciação:  32\n"
     ]
    }
   ],
   "source": [
    "# Solicitar dos dados do usuario \n",
    "a = int(input(\"Digite o valor de a: \"))\n",
    "b = int(input(\"Digite o valor de b: \"))\n",
    "\n",
    "\n",
    "# Saidas com as Operações\n",
    "print(\"Soma: \", a + b)\n",
    "print(\"Subtração: \", a - b)\n",
    "print(\"Multipicação: \", a * b)\n",
    "print(\"Divisão: \", a / b)\n",
    "print(\"Divisão Inteira: \", a // b)\n",
    "print(\"Resto da Divisão: \", a % b)\n",
    "print(\"Exponenciação: \", a ** b)"
   ]
  },
  {
   "cell_type": "code",
   "execution_count": null,
   "metadata": {},
   "outputs": [],
   "source": []
  }
 ],
 "metadata": {
  "kernelspec": {
   "display_name": "Python 3",
   "language": "python",
   "name": "python3"
  },
  "language_info": {
   "codemirror_mode": {
    "name": "ipython",
    "version": 3
   },
   "file_extension": ".py",
   "mimetype": "text/x-python",
   "name": "python",
   "nbconvert_exporter": "python",
   "pygments_lexer": "ipython3",
   "version": "3.12.4"
  }
 },
 "nbformat": 4,
 "nbformat_minor": 2
}
