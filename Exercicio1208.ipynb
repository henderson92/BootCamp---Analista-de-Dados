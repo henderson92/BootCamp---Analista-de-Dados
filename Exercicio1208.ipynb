{
 "cells": [
  {
   "cell_type": "markdown",
   "metadata": {},
   "source": [
    "### 1. Calculadora Científica\n",
    "   - Escreva uma função que simule uma calculadora científica, capaz de realizar operações básicas como adição, subtração, multiplicação, e divisão, além de funções trigonométricas, exponenciação, e logaritmos.\n"
   ]
  },
  {
   "cell_type": "code",
   "execution_count": 5,
   "metadata": {},
   "outputs": [
    {
     "name": "stdout",
     "output_type": "stream",
     "text": [
      "15\n",
      "5\n",
      "50\n",
      "2.0\n",
      "8\n",
      "2.0\n",
      "0.49999999999999994\n",
      "0.5000000000000001\n",
      "0.9999999999999999\n"
     ]
    }
   ],
   "source": [
    "import math\n",
    "def calculadora(operacao, num1, num2=None):\n",
    "\n",
    " if operacao == 'adição':\n",
    "    return num1 + num2\n",
    " elif operacao == 'subtração':\n",
    "        return num1 - num2\n",
    " elif operacao == 'multiplicação':\n",
    "        return num1 * num2\n",
    " elif operacao == 'divisão':\n",
    "        return num1 / num2\n",
    " elif operacao == 'exponenciação':\n",
    "        return num1 ** num2\n",
    " elif operacao == 'logaritmo':\n",
    "        return math.log(num1, num2)\n",
    " elif operacao == 'seno':\n",
    "        return math.sin(math.radians(num1))\n",
    " elif operacao == 'cosseno':\n",
    "        return math.cos(math.radians(num1))\n",
    " elif operacao == 'tangente':\n",
    "        return math.tan(math.radians(num1))\n",
    " else:\n",
    "        return \"Operação não suportada.\"\n",
    "\n",
    "\n",
    "print(calculadora('adição', 10, 5))\n",
    "print(calculadora('subtração', 10, 5))\n",
    "print(calculadora('multiplicação', 10, 5))\n",
    "print(calculadora('divisão', 10, 5))\n",
    "\n",
    "\n",
    "print(calculadora('exponenciação', 2, 3))\n",
    "print(calculadora('logaritmo', 100, 10))\n",
    "\n",
    "print(calculadora('seno', 30))\n",
    "print(calculadora('cosseno', 60))\n",
    "print(calculadora(f'tangente', 45))"
   ]
  },
  {
   "cell_type": "markdown",
   "metadata": {},
   "source": [
    "### 2. Conversor de Unidades\n",
    "   - Crie uma função que converta entre diferentes unidades de medida (por exemplo, metros para quilômetros, Celsius para Fahrenheit, etc.). A função deve receber a unidade original e a unidade desejada como parâmetros."
   ]
  },
  {
   "cell_type": "code",
   "execution_count": null,
   "metadata": {},
   "outputs": [],
   "source": [
    "def converter_unidades(valor, unidade_inicial, unidade_final):\n",
    "    \"\"\"\n",
    "    Converte um valor de uma unidade para outra.\n",
    "\n",
    "    Args:\n",
    "        valor (float): Valor a ser convertido.\n",
    "        unidade_inicial (str): Unidade inicial.\n",
    "        unidade_final (str): Unidade final.\n",
    "\n",
    "    Returns:\n",
    "        float: Valor convertido.\n",
    "    \"\"\"\n",
    "\n",
    "    # Dicionário de fatores de conversão para comprimento\n",
    "    comprimento = {'m': 1, 'km': 1000, 'cm': 0.01}\n",
    "\n",
    "    # Dicionário de fatores de conversão para temperatura\n",
    "    temperatura = {'C': lambda x: (x * 9/5) + 32, 'F': lambda x: (x - 32) * 5/9}\n",
    "\n",
    "    # ... adicionar mais dicionários para outras grandezas, se necessário ...\n",
    "\n",
    "    # Verificar se a unidade inicial e final estão no mesmo grupo\n",
    "    if unidade_inicial in comprimento and unidade_final in comprimento:\n",
    "        fator_conversao = comprimento[unidade_final] / comprimento[unidade_inicial]\n",
    "    elif unidade_inicial in temperatura and unidade_final in temperatura:\n",
    "        if unidade_final == 'C':\n",
    "            fator_conversao = temperatura[unidade_final]\n",
    "        else:\n",
    "            fator_conversao = temperatura[unidade_final](valor)\n",
    "    else:\n",
    "        raise ValueError(\"Unidades não suportadas ou combinação inválida\")\n",
    "\n",
    "    # Realizar a conversão\n",
    "    valor_convertido = valor * fator_conversao\n",
    "\n",
    "    return valor_convertido\n"
   ]
  },
  {
   "cell_type": "markdown",
   "metadata": {},
   "source": [
    "### 3. Verificador de Palíndromo\n",
    "   - Escreva uma função que verifique se uma determinada palavra ou frase é um palíndromo (lê-se da mesma forma de frente para trás). A função deve ignorar espaços e pontuações."
   ]
  },
  {
   "cell_type": "code",
   "execution_count": 6,
   "metadata": {},
   "outputs": [],
   "source": [
    "def eh_palindromo(texto):\n",
    "    \"\"\"\n",
    "    Verifica se um texto é um palíndromo.\n",
    "\n",
    "    Args:\n",
    "        texto (str): Texto a ser verificado.\n",
    "\n",
    "    Returns:\n",
    "        bool: True se for palíndromo, False caso contrário.\n",
    "    \"\"\"\n",
    "\n",
    "    # Remover espaços e pontuação e converter para minúsculas\n",
    "    texto_limpo = ''.join(c for c in texto.lower() if c.isalnum())\n",
    "\n",
    "    # Verificar se o texto limpo é igual ao seu inverso\n",
    "    return texto_limpo == texto_limpo[::-1]\n"
   ]
  },
  {
   "cell_type": "markdown",
   "metadata": {},
   "source": [
    "### 4. Gerador de Senhas Seguras\n",
    "   - Desenvolva uma função que gere uma senha segura com um comprimento especificado. A senha deve conter letras maiúsculas e minúsculas, números e símbolos especiais.\n"
   ]
  },
  {
   "cell_type": "code",
   "execution_count": 1,
   "metadata": {},
   "outputs": [],
   "source": [
    "import random\n",
    "import string\n",
    "\n",
    "def gerar_senha(comprimento):\n",
    "    \"\"\"\n",
    "    Gera uma senha aleatória com o comprimento especificado.\n",
    "\n",
    "    Args:\n",
    "        comprimento (int): Comprimento desejado da senha.\n",
    "\n",
    "    Returns:\n",
    "        str: Senha gerada.\n",
    "    \"\"\"\n",
    "\n",
    "    # Conjuntos de caracteres\n",
    "    letras_maiusculas = string.ascii_uppercase\n",
    "    letras_minusculas = string.ascii_lowercase\n",
    "    numeros = string.digits\n",
    "    caracteres_especiais = string.punctuation\n",
    "\n",
    "    # Combinar todos os conjuntos de caracteres\n",
    "    todos_caracteres = letras_maiusculas + letras_minusculas + numeros + caracteres_especiais\n",
    "\n",
    "    # Gerar a senha\n",
    "    senha = ''.join(random.choice(todos_caracteres) for _ in range(comprimento))\n",
    "\n",
    "    return senha\n"
   ]
  },
  {
   "cell_type": "markdown",
   "metadata": {},
   "source": [
    "### 5. Ordenação de Listas\n",
    "   - Implemente uma função que receba uma lista de números ou strings e a ordene usando um algoritmo de ordenação de sua escolha (por exemplo, QuickSort, MergeSort). A função deve permitir escolher entre ordem crescente ou decrescente.\n"
   ]
  },
  {
   "cell_type": "code",
   "execution_count": 2,
   "metadata": {},
   "outputs": [],
   "source": [
    "def merge_sort(lista, crescente=True):\n",
    "    \"\"\"\n",
    "    Ordena uma lista usando o algoritmo MergeSort.\n",
    "\n",
    "    Args:\n",
    "        lista (list): Lista a ser ordenada.\n",
    "        crescente (bool, optional): Se True, ordena em ordem crescente.\n",
    "            Se False, ordena em ordem decrescente. Defaults to True.\n",
    "\n",
    "    Returns:\n",
    "        list: Lista ordenada.\n",
    "    \"\"\"\n",
    "\n",
    "    if len(lista) <= 1:\n",
    "        return lista\n",
    "\n",
    "    meio = len(lista) // 2\n",
    "    esquerda = merge_sort(lista[:meio], crescente)\n",
    "    direita = merge_sort(lista[meio:], crescente)\n",
    "\n",
    "    return merge(esquerda, direita, crescente)\n",
    "\n",
    "def merge(esquerda, direita, crescente):\n",
    "    \"\"\"\n",
    "    Mescla duas listas ordenadas em uma única lista ordenada.\n",
    "\n",
    "    Args:\n",
    "        esquerda (list): Lista ordenada à esquerda.\n",
    "        direita (list): Lista ordenada à direita.\n",
    "        crescente (bool): Se True, mescla em ordem crescente.\n",
    "            Se False, mescla em ordem decrescente.\n",
    "\n",
    "    Returns:\n",
    "        list: Lista mesclada e ordenada.\n",
    "    \"\"\"\n",
    "\n",
    "    resultado = []\n",
    "    i, j = 0, 0\n",
    "\n",
    "    while i < len(esquerda) and j < len(direita):\n",
    "        if (esquerda[i] <= direita[j] and crescente) or (esquerda[i] >= direita[j] and not crescente):\n",
    "            resultado.append(esquerda[i])\n",
    "            i += 1\n",
    "        else:\n",
    "            resultado.append(direita[j])\n",
    "            j += 1\n",
    "\n",
    "    resultado.extend(esquerda[i:])\n",
    "    resultado.extend(direita[j:])\n",
    "    return resultado\n"
   ]
  },
  {
   "cell_type": "markdown",
   "metadata": {},
   "source": [
    "### 6. Validador de CPF\n",
    "   - Crie uma função que valide um CPF (Cadastro de Pessoas Físicas) de acordo com as regras brasileiras, verificando se o CPF é válido ou não."
   ]
  },
  {
   "cell_type": "code",
   "execution_count": 3,
   "metadata": {},
   "outputs": [],
   "source": [
    "def validar_cpf(cpf):\n",
    "    \"\"\"Valida um CPF de acordo com as regras brasileiras.\n",
    "\n",
    "    Args:\n",
    "        cpf (str): CPF a ser validado, sem formatação.\n",
    "\n",
    "    Returns:\n",
    "        bool: True se o CPF for válido, False caso contrário.\n",
    "    \"\"\"\n",
    "\n",
    "    # Remove caracteres não numéricos\n",
    "    cpf = ''.join(c for c in cpf if c.isdigit())\n",
    "\n",
    "    # Valida o tamanho do CPF\n",
    "    if len(cpf) != 11:\n",
    "        return False\n",
    "\n",
    "    # Verifica se todos os dígitos são iguais\n",
    "    if all(cpf[i] == cpf[0] for i in range(1, len(cpf))):\n",
    "        return False\n",
    "\n",
    "    # Calcula os dígitos verificadores\n",
    "    soma = 0\n",
    "    for i in range(9):\n",
    "        soma += int(cpf[i]) * (10 - i)\n",
    "    resto = soma % 11\n",
    "    digito1 = resto if resto <= 1 else 11 - resto\n",
    "\n",
    "    soma = 0\n",
    "    for i in range(10):\n",
    "        soma += int(cpf[i]) * (11 - i)\n",
    "    resto = soma % 11\n",
    "    digito2 = resto if resto <= 1 else 11 - resto\n",
    "\n",
    "    # Compara os dígitos calculados com os dígitos informados\n",
    "    if digito1 != int(cpf[9]) or digito2 != int(cpf[10]):\n",
    "        return False\n",
    "\n",
    "    return True\n"
   ]
  },
  {
   "cell_type": "markdown",
   "metadata": {},
   "source": [
    "7. Jogo da Velha\n",
    "   - Escreva funções para implementar o jogo da velha, incluindo a verificação de vitória, empate, e a atualização do tabuleiro com cada jogada."
   ]
  },
  {
   "cell_type": "code",
   "execution_count": 13,
   "metadata": {},
   "outputs": [
    {
     "name": "stdout",
     "output_type": "stream",
     "text": [
      "- | - | -\n",
      "---------\n",
      "- | - | -\n",
      "---------\n",
      "- | - | -\n",
      "---------\n",
      "- | X | -\n",
      "---------\n",
      "- | - | -\n",
      "---------\n",
      "- | - | -\n",
      "---------\n",
      "- | X | O\n",
      "---------\n",
      "- | - | -\n",
      "---------\n",
      "- | - | -\n",
      "---------\n"
     ]
    },
    {
     "ename": "ValueError",
     "evalue": "invalid literal for int() with base 10: ''",
     "output_type": "error",
     "traceback": [
      "\u001b[1;31m---------------------------------------------------------------------------\u001b[0m",
      "\u001b[1;31mValueError\u001b[0m                                Traceback (most recent call last)",
      "Cell \u001b[1;32mIn[13], line 66\u001b[0m\n\u001b[0;32m     63\u001b[0m             \u001b[38;5;28mprint\u001b[39m(\u001b[38;5;124m\"\u001b[39m\u001b[38;5;124mPosição inválida. Tente novamente.\u001b[39m\u001b[38;5;124m\"\u001b[39m)\n\u001b[0;32m     65\u001b[0m \u001b[38;5;66;03m# Inicia o jogo\u001b[39;00m\n\u001b[1;32m---> 66\u001b[0m \u001b[43mjogo_da_velha\u001b[49m\u001b[43m(\u001b[49m\u001b[43m)\u001b[49m\n",
      "Cell \u001b[1;32mIn[13], line 47\u001b[0m, in \u001b[0;36mjogo_da_velha\u001b[1;34m()\u001b[0m\n\u001b[0;32m     44\u001b[0m imprimir_tabuleiro(tabuleiro)\n\u001b[0;32m     46\u001b[0m \u001b[38;5;66;03m# Solicita a jogada do usuário\u001b[39;00m\n\u001b[1;32m---> 47\u001b[0m linha \u001b[38;5;241m=\u001b[39m \u001b[38;5;28;43mint\u001b[39;49m\u001b[43m(\u001b[49m\u001b[38;5;28;43minput\u001b[39;49m\u001b[43m(\u001b[49m\u001b[38;5;124;43m\"\u001b[39;49m\u001b[38;5;124;43mDigite a linha (0, 1 ou 2): \u001b[39;49m\u001b[38;5;124;43m\"\u001b[39;49m\u001b[43m)\u001b[49m\u001b[43m)\u001b[49m\n\u001b[0;32m     48\u001b[0m coluna \u001b[38;5;241m=\u001b[39m \u001b[38;5;28mint\u001b[39m(\u001b[38;5;28minput\u001b[39m(\u001b[38;5;124m\"\u001b[39m\u001b[38;5;124mDigite a coluna (0, 1 ou 2): \u001b[39m\u001b[38;5;124m\"\u001b[39m))\n\u001b[0;32m     50\u001b[0m \u001b[38;5;28;01mif\u001b[39;00m fazer_jogada(tabuleiro, jogador_atual, linha, coluna):\n",
      "\u001b[1;31mValueError\u001b[0m: invalid literal for int() with base 10: ''"
     ]
    }
   ],
   "source": [
    "def criar_tabuleiro():\n",
    "    \"\"\"Cria um tabuleiro 3x3 vazio.\"\"\"\n",
    "    return [['-' for _ in range(3)] for _ in range(3)]\n",
    "\n",
    "def imprimir_tabuleiro(tabuleiro):\n",
    "    \"\"\"Imprime o tabuleiro na tela.\"\"\"\n",
    "    for linha in tabuleiro:\n",
    "        print(' | '.join(linha))\n",
    "        print('-' * 9)\n",
    "\n",
    "def verificar_vitoria(tabuleiro, jogador):\n",
    "    \"\"\"Verifica se o jogador venceu.\"\"\"\n",
    "    # Verifica linhas\n",
    "    for linha in tabuleiro:\n",
    "        if all(celula == jogador for celula in linha):\n",
    "            return True\n",
    "    \n",
    "    # Verifica colunas\n",
    "    for col in range(3):\n",
    "        if all(tabuleiro[i][col] == jogador for i in range(3)):\n",
    "            return True\n",
    "    \n",
    "    # Verifica diagonais\n",
    "    if all(tabuleiro[i][i] == jogador for i in range(3)) or \\\n",
    "       all(tabuleiro[i][2-i] == jogador for i in range(3)):\n",
    "        return True\n",
    "    \n",
    "    return False\n",
    "\n",
    "def fazer_jogada(tabuleiro, jogador, linha, coluna):\n",
    "    \"\"\"Faz uma jogada no tabuleiro.\"\"\"\n",
    "    if tabuleiro[linha][coluna] == '-':\n",
    "        tabuleiro[linha][coluna] = jogador\n",
    "        return True\n",
    "    else:\n",
    "        return False\n",
    "\n",
    "def jogo_da_velha():\n",
    "    \"\"\"Implementa o jogo da velha.\"\"\"\n",
    "    tabuleiro = criar_tabuleiro()\n",
    "    jogador_atual = 'X'\n",
    "\n",
    "    while True:\n",
    "        imprimir_tabuleiro(tabuleiro)\n",
    "\n",
    "        # Solicita a jogada do usuário\n",
    "        linha = int(input(\"Digite a linha (0, 1 ou 2): \"))\n",
    "        coluna = int(input(\"Digite a coluna (0, 1 ou 2): \"))\n",
    "\n",
    "        if fazer_jogada(tabuleiro, jogador_atual, linha, coluna):\n",
    "            if verificar_vitoria(tabuleiro, jogador_atual):\n",
    "                print(f\"O jogador {jogador_atual} venceu!\")\n",
    "                break\n",
    "\n",
    "            # Verifica se houve empate\n",
    "            if all(celula != '-' for linha in tabuleiro for celula in linha):\n",
    "                print(\"Empate!\")\n",
    "                break\n",
    "\n",
    "            # Muda o jogador\n",
    "            jogador_atual = 'O' if jogador_atual == 'X' else 'X'\n",
    "        else:\n",
    "            print(\"Posição inválida. Tente novamente.\")\n",
    "\n",
    "# Inicia o jogo\n",
    "jogo_da_velha()\n"
   ]
  },
  {
   "cell_type": "markdown",
   "metadata": {},
   "source": [
    "### 8. Análise de Sentimento\n",
    "   - Desenvolva uma função que analise uma frase ou texto e determine se o sentimento é positivo, negativo ou neutro, usando uma abordagem simples baseada em palavras-chave.\n"
   ]
  },
  {
   "cell_type": "code",
   "execution_count": 6,
   "metadata": {},
   "outputs": [
    {
     "name": "stdout",
     "output_type": "stream",
     "text": [
      "O sentimento do texto é: positivo\n"
     ]
    }
   ],
   "source": [
    "def analisar_sentimento(texto):\n",
    "    \"\"\"\n",
    "    Analisa o sentimento de um texto baseado em palavras-chave.\n",
    "\n",
    "    Args:\n",
    "        texto (str): Texto a ser analisado.\n",
    "\n",
    "    Returns:\n",
    "        str: \"positivo\", \"negativo\" ou \"neutro\".\n",
    "    \"\"\"\n",
    "\n",
    "    # Listas de palavras-chave (pode ser expandida)\n",
    "    palavras_positivas = ['bom', 'ótimo', 'feliz', 'alegria', 'amor', 'gostar']\n",
    "    palavras_negativas = ['ruim', 'triste', 'má', 'raiva', 'ódio', 'odiar']\n",
    "\n",
    "    # Limpar o texto (remover pontuação, converter para minúsculas)\n",
    "    texto_limpo = texto.lower()\n",
    "    texto_limpo = ''.join(c for c in texto_limpo if c.isalpha() or c == ' ')\n",
    "\n",
    "    # Contar ocorrências de palavras positivas e negativas\n",
    "    cont_positivas = sum(texto_limpo.count(palavra) for palavra in palavras_positivas)\n",
    "    cont_negativas = sum(texto_limpo.count(palavra) for palavra in palavras_negativas)\n",
    "\n",
    "    # Classificar o sentimento\n",
    "    if cont_positivas > cont_negativas:\n",
    "        return \"positivo\"\n",
    "    elif cont_negativas > cont_positivas:\n",
    "        return \"negativo\"\n",
    "    else:\n",
    "        return \"neutro\"\n",
    "\n",
    "# Exemplo de uso\n",
    "texto = \"Este é um dia maravilhoso! O sol está brilhando e estou muito feliz.\"\n",
    "sentimento = analisar_sentimento(texto)\n",
    "print(f\"O sentimento do texto é: {sentimento}\")\n"
   ]
  },
  {
   "cell_type": "markdown",
   "metadata": {},
   "source": [
    "### 9. Sistema de Votação\n",
    "   - Crie um sistema de votação simples em que os usuários podem votar em diferentes opções. A função deve calcular e exibir o vencedor com base nos votos."
   ]
  },
  {
   "cell_type": "code",
   "execution_count": 14,
   "metadata": {},
   "outputs": [
    {
     "ename": "SyntaxError",
     "evalue": "expected '(' (1818401979.py, line 1)",
     "output_type": "error",
     "traceback": [
      "\u001b[1;36m  Cell \u001b[1;32mIn[14], line 1\u001b[1;36m\u001b[0m\n\u001b[1;33m    def votação\u001b[0m\n\u001b[1;37m               ^\u001b[0m\n\u001b[1;31mSyntaxError\u001b[0m\u001b[1;31m:\u001b[0m expected '('\n"
     ]
    }
   ],
   "source": [
    "import random\n",
    "def votação (usuario, usuario1, usuario2)\n",
    "    if usuario == 0:\n",
    "        return usuario=+ 1\n",
    "    elif usuario1 == 1:\n",
    "        return usuario1 = usuario1 + 1\n",
    "    elif usuario2 == 2:\n",
    "        return usuario2 = usuario2 + 1\n",
    "    else:\n",
    "        return \"Numero de voto invalido\""
   ]
  },
  {
   "cell_type": "markdown",
   "metadata": {},
   "source": [
    "### 10. Simulação de Dados de Temperatura\n",
    "   - Escreva uma função que simule a coleta de dados de temperatura de diferentes cidades ao longo de uma semana e, em seguida, calcule a média, a temperatura mais alta e mais baixa."
   ]
  },
  {
   "cell_type": "code",
   "execution_count": 7,
   "metadata": {},
   "outputs": [
    {
     "name": "stdout",
     "output_type": "stream",
     "text": [
      "Cidade: São Paulo\n",
      "Temperatura média: 15.14°C\n",
      "Temperatura máxima: 29°C\n",
      "Temperatura mínima: -4°C\n",
      "\n",
      "Cidade: Rio de Janeiro\n",
      "Temperatura média: 17.43°C\n",
      "Temperatura máxima: 39°C\n",
      "Temperatura mínima: -1°C\n",
      "\n",
      "Cidade: Brasília\n",
      "Temperatura média: 18.29°C\n",
      "Temperatura máxima: 37°C\n",
      "Temperatura mínima: -5°C\n",
      "\n",
      "Cidade: Belo Horizonte\n",
      "Temperatura média: 22.29°C\n",
      "Temperatura máxima: 38°C\n",
      "Temperatura mínima: 2°C\n",
      "\n"
     ]
    }
   ],
   "source": [
    "import random\n",
    "\n",
    "def simula_e_analisa_temperaturas(cidades, dias=7):\n",
    "  \"\"\"Simula a coleta de dados de temperatura e realiza análises básicas.\n",
    "\n",
    "  Args:\n",
    "    cidades: Uma lista com os nomes das cidades.\n",
    "    dias: Número de dias para a simulação (default: 7).\n",
    "\n",
    "  Returns:\n",
    "    Um dicionário onde as chaves são os nomes das cidades e os valores são dicionários\n",
    "    contendo as médias, máximas e mínimas temperaturas.\n",
    "  \"\"\"\n",
    "\n",
    "  resultados = {}\n",
    "  for cidade in cidades:\n",
    "    temperaturas = [random.randint(-10, 40) for _ in range(dias)]\n",
    "    resultados[cidade] = {\n",
    "      'media': sum(temperaturas) / dias,\n",
    "      'maxima': max(temperaturas),\n",
    "      'minima': min(temperaturas)\n",
    "    }\n",
    "  return resultados\n",
    "\n",
    "# Exemplo de uso:\n",
    "cidades = ['São Paulo', 'Rio de Janeiro', 'Brasília', 'Belo Horizonte']\n",
    "resultados = simula_e_analisa_temperaturas(cidades)\n",
    "\n",
    "# Imprimindo os resultados:\n",
    "for cidade, dados in resultados.items():\n",
    "  print(f\"Cidade: {cidade}\")\n",
    "  print(f\"Temperatura média: {dados['media']:.2f}°C\")\n",
    "  print(f\"Temperatura máxima: {dados['maxima']}°C\")\n",
    "  print(f\"Temperatura mínima: {dados['minima']}°C\\n\")\n"
   ]
  },
  {
   "cell_type": "markdown",
   "metadata": {},
   "source": [
    "### 11. Gerador de Números Aleatórios\n",
    "   - Desenvolva uma função que gere uma lista de números aleatórios dentro de um intervalo específico e calcule a média, mediana, e moda dos números gerados."
   ]
  },
  {
   "cell_type": "code",
   "execution_count": 8,
   "metadata": {},
   "outputs": [
    {
     "name": "stdout",
     "output_type": "stream",
     "text": [
      "{'media': 55.22, 'mediana': 61.5, 'moda': 61}\n"
     ]
    }
   ],
   "source": [
    "import random\n",
    "from statistics import mean, median, mode\n",
    "\n",
    "def analise_numeros_aleatorios(inicio, fim, quantidade):\n",
    "  \"\"\"Gera uma lista de números aleatórios e calcula estatísticas básicas.\n",
    "\n",
    "  Args:\n",
    "    inicio: Limite inferior do intervalo.\n",
    "    fim: Limite superior do intervalo.\n",
    "    quantidade: Número de números a serem gerados.\n",
    "\n",
    "  Returns:\n",
    "    Um dicionário contendo a média, mediana e moda dos números gerados.\n",
    "  \"\"\"\n",
    "\n",
    "  numeros = [random.randint(inicio, fim) for _ in range(quantidade)]\n",
    "  \n",
    "  try:\n",
    "    moda = mode(numeros)\n",
    "  except StatisticsError:\n",
    "    moda = \"Não há moda (vários valores com mesma frequência máxima)\"\n",
    "\n",
    "  resultados = {\n",
    "      'media': mean(numeros),\n",
    "      'mediana': median(numeros),\n",
    "      'moda': moda\n",
    "  }\n",
    "  return resultados\n",
    "\n",
    "# Exemplo de uso:\n",
    "resultado = analise_numeros_aleatorios(1, 100, 50)\n",
    "print(resultado)\n"
   ]
  },
  {
   "cell_type": "markdown",
   "metadata": {},
   "source": [
    "### 12. Analisador de Texto\n",
    "   - Crie uma função que receba um texto e retorne o número de palavras, frases, e caracteres, além de calcular a frequência de cada palavra no texto.\n"
   ]
  },
  {
   "cell_type": "code",
   "execution_count": 9,
   "metadata": {},
   "outputs": [
    {
     "name": "stdout",
     "output_type": "stream",
     "text": [
      "{'palavras': 12, 'frases': 2, 'caracteres': 64, 'frequencia_palavras': {'este': 1, 'é': 1, 'um': 1, 'exemplo': 1, 'de': 1, 'texto': 1, 'ele': 1, 'contém': 1, 'várias': 1, 'palavras': 1, 'e': 1, 'frases': 1}}\n"
     ]
    }
   ],
   "source": [
    "import re\n",
    "\n",
    "def analise_texto(texto):\n",
    "  \"\"\"Realiza uma análise completa de um texto.\n",
    "\n",
    "  Args:\n",
    "    texto: O texto a ser analisado.\n",
    "\n",
    "  Returns:\n",
    "    Um dicionário contendo o número de palavras, frases, caracteres e a frequência de cada palavra.\n",
    "  \"\"\"\n",
    "\n",
    "  # Limpando o texto para remover pontuação e caracteres especiais\n",
    "  texto_limpo = re.sub(r'[^\\w\\s]', '', texto).lower()\n",
    "\n",
    "  # Contando palavras, frases e caracteres\n",
    "  palavras = texto_limpo.split()\n",
    "  frases = texto.count('.') + texto.count('?') + texto.count('!')\n",
    "  caracteres = len(texto)\n",
    "\n",
    "  # Contando a frequência de cada palavra\n",
    "  frequencia_palavras = {}\n",
    "  for palavra in palavras:\n",
    "      frequencia_palavras[palavra] = frequencia_palavras.get(palavra, 0) + 1\n",
    "\n",
    "  resultados = {\n",
    "      'palavras': len(palavras),\n",
    "      'frases': frases,\n",
    "      'caracteres': caracteres,\n",
    "      'frequencia_palavras': frequencia_palavras\n",
    "  }\n",
    "\n",
    "  return resultados\n",
    "\n",
    "# Exemplo de uso:\n",
    "texto = \"Este é um exemplo de texto. Ele contém várias palavras e frases.\"\n",
    "resultado = analise_texto(texto)\n",
    "\n",
    "print(resultado)\n"
   ]
  },
  {
   "cell_type": "markdown",
   "metadata": {},
   "source": [
    "### 13. Cálculo de Juros Compostos\n",
    "   - Escreva uma função que calcule o valor futuro de um investimento com base nos juros compostos. A função deve permitir a personalização do principal, taxa de juros, e número de períodos.\n"
   ]
  },
  {
   "cell_type": "code",
   "execution_count": 10,
   "metadata": {},
   "outputs": [
    {
     "name": "stdout",
     "output_type": "stream",
     "text": [
      "O valor futuro do investimento é: R$ 1157.63\n"
     ]
    }
   ],
   "source": [
    "def valor_futuro(principal, taxa_juros, periodos):\n",
    "  \"\"\"Calcula o valor futuro de um investimento com juros compostos.\n",
    "\n",
    "  Args:\n",
    "    principal: Valor inicial do investimento.\n",
    "    taxa_juros: Taxa de juros por período (em decimal).\n",
    "    periodos: Número de períodos.\n",
    "\n",
    "  Returns:\n",
    "    O valor futuro do investimento.\n",
    "  \"\"\"\n",
    "\n",
    "  valor_futuro = principal * (1 + taxa_juros) ** periodos\n",
    "  return valor_futuro\n",
    "\n",
    "# Exemplo de uso:\n",
    "principal = 1000\n",
    "taxa_juros = 0.05  # 5% ao ano\n",
    "periodos = 3\n",
    "\n",
    "resultado = valor_futuro(principal, taxa_juros, periodos)\n",
    "print(f\"O valor futuro do investimento é: R$ {resultado:.2f}\")\n"
   ]
  },
  {
   "cell_type": "markdown",
   "metadata": {},
   "source": [
    "### 14. Conversor de Data\n",
    "   - Desenvolva uma função que converta datas entre diferentes formatos (por exemplo, de \"DD/MM/YYYY\" para \"YYYY-MM-DD\") e que valide se a data inserida é válida."
   ]
  },
  {
   "cell_type": "code",
   "execution_count": 11,
   "metadata": {},
   "outputs": [
    {
     "name": "stdout",
     "output_type": "stream",
     "text": [
      "Data convertida: 2023-12-25\n"
     ]
    }
   ],
   "source": [
    "import datetime\n",
    "\n",
    "def converter_data(data, formato_entrada, formato_saida):\n",
    "  \"\"\"Converte uma data de um formato para outro e valida a data.\n",
    "\n",
    "  Args:\n",
    "    data: A data a ser convertida, no formato de entrada.\n",
    "    formato_entrada: O formato da data de entrada (e.g., '%d/%m/%Y').\n",
    "    formato_saida: O formato da data de saída (e.g., '%Y-%m-%d').\n",
    "\n",
    "  Returns:\n",
    "    A data convertida no formato de saída, ou None se a data for inválida.\n",
    "  \"\"\"\n",
    "\n",
    "  try:\n",
    "    data_objeto = datetime.datetime.strptime(data, formato_entrada)\n",
    "    data_convertida = data_objeto.strftime(formato_saida)\n",
    "    return data_convertida\n",
    "  except ValueError:\n",
    "    return None\n",
    "\n",
    "# Exemplos de uso:\n",
    "data_inicial = \"25/12/2023\"\n",
    "formato_inicial = \"%d/%m/%Y\"\n",
    "formato_final = \"%Y-%m-%d\"\n",
    "\n",
    "data_convertida = converter_data(data_inicial, formato_inicial, formato_final)\n",
    "\n",
    "if data_convertida:\n",
    "  print(f\"Data convertida: {data_convertida}\")\n",
    "else:\n",
    "  print(\"Data inválida.\")\n"
   ]
  },
  {
   "cell_type": "markdown",
   "metadata": {},
   "source": [
    "### 15. Simulador de Lançamento de Dados\n",
    "   - Crie uma função que simule o lançamento de um dado (ou múltiplos dados) um número específico de vezes e exiba a frequência de cada face."
   ]
  },
  {
   "cell_type": "code",
   "execution_count": 12,
   "metadata": {},
   "outputs": [
    {
     "name": "stdout",
     "output_type": "stream",
     "text": [
      "Dado 1:\n",
      "  Face 6: 14 vezes\n",
      "  Face 5: 21 vezes\n",
      "  Face 1: 14 vezes\n",
      "  Face 4: 15 vezes\n",
      "  Face 3: 19 vezes\n",
      "  Face 2: 17 vezes\n",
      "Dado 2:\n",
      "  Face 2: 19 vezes\n",
      "  Face 4: 13 vezes\n",
      "  Face 6: 11 vezes\n",
      "  Face 1: 17 vezes\n",
      "  Face 5: 22 vezes\n",
      "  Face 3: 18 vezes\n"
     ]
    }
   ],
   "source": [
    "import random\n",
    "\n",
    "def lancar_dados(numero_dados, numero_lancamentos):\n",
    "  \"\"\"Simula o lançamento de dados e calcula a frequência de cada face.\n",
    "\n",
    "  Args:\n",
    "    numero_dados: Número de dados a serem lançados em cada tentativa.\n",
    "    numero_lancamentos: Número total de lançamentos.\n",
    "\n",
    "  Returns:\n",
    "    Um dicionário com a frequência de cada face de cada dado.\n",
    "  \"\"\"\n",
    "\n",
    "  resultados = {}\n",
    "  for dado in range(1, numero_dados+1):\n",
    "    resultados[dado] = {}\n",
    "    for _ in range(numero_lancamentos):\n",
    "      resultado_lance = random.randint(1, 6)\n",
    "      resultados[dado][resultado_lance] = resultados[dado].get(resultado_lance, 0) + 1\n",
    "  return resultados\n",
    "\n",
    "# Exemplo de uso:\n",
    "resultado_simulacao = lancar_dados(2, 100)  # Simulando 100 lançamentos de 2 dados\n",
    "\n",
    "# Imprimindo os resultados:\n",
    "for dado, frequencias in resultado_simulacao.items():\n",
    "  print(f\"Dado {dado}:\")\n",
    "  for face, frequencia in frequencias.items():\n",
    "    print(f\"  Face {face}: {frequencia} vezes\")\n"
   ]
  },
  {
   "cell_type": "markdown",
   "metadata": {},
   "source": []
  }
 ],
 "metadata": {
  "kernelspec": {
   "display_name": "Python 3 (ipykernel)",
   "language": "python",
   "name": "python3"
  }
 },
 "nbformat": 4,
 "nbformat_minor": 2
}
