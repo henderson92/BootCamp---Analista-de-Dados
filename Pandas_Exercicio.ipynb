{
 "cells": [
  {
   "cell_type": "markdown",
   "metadata": {},
   "source": [
    "### 1 - Crie um DataFrame com as colunas nome, idade, altura, peso e sexo usando listas."
   ]
  },
  {
   "cell_type": "code",
   "execution_count": 98,
   "metadata": {},
   "outputs": [],
   "source": [
    "import pandas as pd\n",
    "import numpy as np\n",
    "import pandas as pd\n",
    "from faker import Faker"
   ]
  },
  {
   "cell_type": "code",
   "execution_count": 99,
   "metadata": {},
   "outputs": [],
   "source": [
    "data = {\n",
    "    'nome': ['Ana', 'Bruno', 'Carla', 'Daniel', 'Eduarda', 'Felipe', 'Gabriela', 'Henrique'],\n",
    "    'idade': [23, 45, 25, 36, 29, 41, 30, 36],\n",
    "    'cidade': ['São Paulo', 'Rio de Janeiro', 'São Paulo', 'Rio de Janeiro', np.nan, 'São Paulo', 'Salvador', 'São Paulo'],\n",
    "    'salario': [3000, 5000, 4500, np.nan, 3800, 5200, np.nan, 4800],\n",
    "    'categoria': ['A', 'B', 'A', 'B', 'A', 'B', 'A', 'B'],\n",
    "    'altura': [1.75, 1.85, 1.65, 1.70, 1.60, 1.55, 1.99, 1.87],\n",
    "    'peso': [80, 85, 75, 68, 90, 87, 56, 75],\n",
    "    'sexo': [\"F\", \"M\", \"F\", \"M\", \"F\", \"M\", \"F\", \"M\"]\n",
    "}"
   ]
  },
  {
   "cell_type": "markdown",
   "metadata": {},
   "source": [
    "### 2 - Exiba o DataFrame criado."
   ]
  },
  {
   "cell_type": "code",
   "execution_count": 100,
   "metadata": {},
   "outputs": [
    {
     "name": "stdout",
     "output_type": "stream",
     "text": [
      "       nome  idade          cidade  salario categoria  altura  peso sexo\n",
      "0       Ana     23       São Paulo   3000.0         A    1.75    80    F\n",
      "1     Bruno     45  Rio de Janeiro   5000.0         B    1.85    85    M\n",
      "2     Carla     25       São Paulo   4500.0         A    1.65    75    F\n",
      "3    Daniel     36  Rio de Janeiro      NaN         B    1.70    68    M\n",
      "4   Eduarda     29             NaN   3800.0         A    1.60    90    F\n",
      "5    Felipe     41       São Paulo   5200.0         B    1.55    87    M\n",
      "6  Gabriela     30        Salvador      NaN         A    1.99    56    F\n",
      "7  Henrique     36       São Paulo   4800.0         B    1.87    75    M\n"
     ]
    }
   ],
   "source": [
    "df = pd.DataFrame(data)\n",
    "print(df)"
   ]
  },
  {
   "cell_type": "markdown",
   "metadata": {},
   "source": [
    "### 3 - Selecione e exiba a coluna \"idade\" do DataFrame."
   ]
  },
  {
   "cell_type": "code",
   "execution_count": 101,
   "metadata": {},
   "outputs": [
    {
     "name": "stdout",
     "output_type": "stream",
     "text": [
      "0    23\n",
      "1    45\n",
      "2    25\n",
      "3    36\n",
      "4    29\n",
      "5    41\n",
      "6    30\n",
      "7    36\n",
      "Name: idade, dtype: int64\n"
     ]
    }
   ],
   "source": [
    "idade = df.iloc[:, 1]\n",
    "print(idade)"
   ]
  },
  {
   "cell_type": "markdown",
   "metadata": {},
   "source": [
    "### 4 - Selecione e exiba a linha com índice 2 do DataFrame."
   ]
  },
  {
   "cell_type": "code",
   "execution_count": 102,
   "metadata": {},
   "outputs": [
    {
     "name": "stdout",
     "output_type": "stream",
     "text": [
      "nome             Carla\n",
      "idade               25\n",
      "cidade       São Paulo\n",
      "salario         4500.0\n",
      "categoria            A\n",
      "altura            1.65\n",
      "peso                75\n",
      "sexo                 F\n",
      "Name: 2, dtype: object\n"
     ]
    }
   ],
   "source": [
    "linha_2 = df.iloc[2]\n",
    "\n",
    "print(linha_2)"
   ]
  },
  {
   "cell_type": "markdown",
   "metadata": {},
   "source": [
    "### 5 - Selecione e exiba a linha com rótulo 2 do DataFrame."
   ]
  },
  {
   "cell_type": "code",
   "execution_count": 103,
   "metadata": {},
   "outputs": [],
   "source": [
    "df = pd.DataFrame(data, index=['pessoa1','pessoa2', 'pessoa3', 'pessoa4', 'pessoa5', 'pessoa6', 'pessoa7', 'pessoa8'])"
   ]
  },
  {
   "cell_type": "code",
   "execution_count": 104,
   "metadata": {},
   "outputs": [
    {
     "data": {
      "text/plain": [
       "nome             Carla\n",
       "idade               25\n",
       "cidade       São Paulo\n",
       "salario         4500.0\n",
       "categoria            A\n",
       "altura            1.65\n",
       "peso                75\n",
       "sexo                 F\n",
       "Name: pessoa3, dtype: object"
      ]
     },
     "execution_count": 104,
     "metadata": {},
     "output_type": "execute_result"
    }
   ],
   "source": [
    "df.iloc[2]"
   ]
  },
  {
   "cell_type": "code",
   "execution_count": 105,
   "metadata": {},
   "outputs": [
    {
     "data": {
      "text/plain": [
       "nome             Carla\n",
       "idade               25\n",
       "cidade       São Paulo\n",
       "salario         4500.0\n",
       "categoria            A\n",
       "altura            1.65\n",
       "peso                75\n",
       "sexo                 F\n",
       "Name: pessoa3, dtype: object"
      ]
     },
     "execution_count": 105,
     "metadata": {},
     "output_type": "execute_result"
    }
   ],
   "source": [
    "df.loc['pessoa3']"
   ]
  },
  {
   "cell_type": "markdown",
   "metadata": {},
   "source": [
    "### 6 - Selecione e exiba o valor da célula na linha de rótulo 3, coluna \"altura\"."
   ]
  },
  {
   "cell_type": "code",
   "execution_count": 106,
   "metadata": {},
   "outputs": [
    {
     "data": {
      "text/plain": [
       "np.float64(1.65)"
      ]
     },
     "execution_count": 106,
     "metadata": {},
     "output_type": "execute_result"
    }
   ],
   "source": [
    "df.loc['pessoa3', 'altura']"
   ]
  },
  {
   "cell_type": "markdown",
   "metadata": {},
   "source": [
    "### 7 - Renomeie as colunas \"sexo\" para \"genero\" e \"peso\" para \"massa\"."
   ]
  },
  {
   "cell_type": "code",
   "execution_count": 107,
   "metadata": {},
   "outputs": [],
   "source": [
    "df = df.rename(columns={'sexo': 'genero'})"
   ]
  },
  {
   "cell_type": "code",
   "execution_count": 108,
   "metadata": {},
   "outputs": [],
   "source": [
    "df = df.rename(columns={'peso': 'massa'} )"
   ]
  },
  {
   "cell_type": "code",
   "execution_count": 78,
   "metadata": {},
   "outputs": [
    {
     "name": "stdout",
     "output_type": "stream",
     "text": [
      "             nome  idade          cidade  salario categoria  altura  massa  \\\n",
      "pessoa1       Ana     23       São Paulo   3000.0         A    1.75     80   \n",
      "pessoa2     Bruno     45  Rio de Janeiro   5000.0         B    1.85     85   \n",
      "pessoa3     Carla     25       São Paulo   4500.0         A    1.65     75   \n",
      "pessoa4    Daniel     36  Rio de Janeiro      NaN         B    1.70     68   \n",
      "pessoa5   Eduarda     29             NaN   3800.0         A    1.60     90   \n",
      "pessoa6    Felipe     41       São Paulo   5200.0         B    1.55     87   \n",
      "pessoa7  Gabriela     30        Salvador      NaN         A    1.99     56   \n",
      "pessoa8  Henrique     36       São Paulo   4800.0         B    1.87     75   \n",
      "\n",
      "        genero  \n",
      "pessoa1      F  \n",
      "pessoa2      M  \n",
      "pessoa3      F  \n",
      "pessoa4      M  \n",
      "pessoa5      F  \n",
      "pessoa6      M  \n",
      "pessoa7      F  \n",
      "pessoa8      M  \n"
     ]
    }
   ],
   "source": [
    "print(df)"
   ]
  },
  {
   "cell_type": "markdown",
   "metadata": {},
   "source": [
    "### 8 - Selecione e exiba as colunas \"nome\" e \"altura\" do DataFrame."
   ]
  },
  {
   "cell_type": "code",
   "execution_count": 109,
   "metadata": {},
   "outputs": [
    {
     "name": "stdout",
     "output_type": "stream",
     "text": [
      "             nome  altura\n",
      "pessoa1       Ana    1.75\n",
      "pessoa2     Bruno    1.85\n",
      "pessoa3     Carla    1.65\n",
      "pessoa4    Daniel    1.70\n",
      "pessoa5   Eduarda    1.60\n",
      "pessoa6    Felipe    1.55\n",
      "pessoa7  Gabriela    1.99\n",
      "pessoa8  Henrique    1.87\n"
     ]
    }
   ],
   "source": [
    "df_selecionado = df[['nome', 'altura']]\n",
    "print(df_selecionado)"
   ]
  },
  {
   "cell_type": "markdown",
   "metadata": {},
   "source": [
    "### 9 - Filtre e exiba todas as linhas onde a idade é maior que 40."
   ]
  },
  {
   "cell_type": "code",
   "execution_count": 110,
   "metadata": {},
   "outputs": [
    {
     "name": "stdout",
     "output_type": "stream",
     "text": [
      "           nome  idade          cidade  salario categoria  altura  massa  \\\n",
      "pessoa2   Bruno     45  Rio de Janeiro   5000.0         B    1.85     85   \n",
      "pessoa6  Felipe     41       São Paulo   5200.0         B    1.55     87   \n",
      "\n",
      "        genero  \n",
      "pessoa2      M  \n",
      "pessoa6      M  \n"
     ]
    }
   ],
   "source": [
    "df_filtra = df[df['idade'] > 40]\n",
    "print(df_filtra)"
   ]
  },
  {
   "cell_type": "markdown",
   "metadata": {},
   "source": [
    "### 10 - Adicione uma nova coluna chamada \"IMC\" ao DataFrame, calculando o Índice de Massa Corporal."
   ]
  },
  {
   "cell_type": "code",
   "execution_count": 111,
   "metadata": {},
   "outputs": [
    {
     "name": "stdout",
     "output_type": "stream",
     "text": [
      "             nome  idade          cidade  salario categoria  altura  massa  \\\n",
      "pessoa1       Ana     23       São Paulo   3000.0         A    1.75     80   \n",
      "pessoa2     Bruno     45  Rio de Janeiro   5000.0         B    1.85     85   \n",
      "pessoa3     Carla     25       São Paulo   4500.0         A    1.65     75   \n",
      "pessoa4    Daniel     36  Rio de Janeiro      NaN         B    1.70     68   \n",
      "pessoa5   Eduarda     29             NaN   3800.0         A    1.60     90   \n",
      "pessoa6    Felipe     41       São Paulo   5200.0         B    1.55     87   \n",
      "pessoa7  Gabriela     30        Salvador      NaN         A    1.99     56   \n",
      "pessoa8  Henrique     36       São Paulo   4800.0         B    1.87     75   \n",
      "\n",
      "        genero    IMC  \n",
      "pessoa1      F  26.12  \n",
      "pessoa2      M  24.84  \n",
      "pessoa3      F  27.55  \n",
      "pessoa4      M  23.53  \n",
      "pessoa5      F  35.16  \n",
      "pessoa6      M  36.21  \n",
      "pessoa7      F  14.14  \n",
      "pessoa8      M  21.45  \n"
     ]
    }
   ],
   "source": [
    "df['IMC'] = df['massa'] / (df['altura'] ** 2)\n",
    "df['IMC'] = df['IMC'].round(2) # Colocando com 2 casa decimal\n",
    "print(df)"
   ]
  },
  {
   "cell_type": "markdown",
   "metadata": {},
   "source": [
    "### 11 - Ordene o DataFrame pela coluna \"altura\" em ordem crescente."
   ]
  },
  {
   "cell_type": "code",
   "execution_count": 112,
   "metadata": {},
   "outputs": [
    {
     "name": "stdout",
     "output_type": "stream",
     "text": [
      "             nome  idade          cidade  salario categoria  altura  massa  \\\n",
      "pessoa6    Felipe     41       São Paulo   5200.0         B    1.55     87   \n",
      "pessoa5   Eduarda     29             NaN   3800.0         A    1.60     90   \n",
      "pessoa3     Carla     25       São Paulo   4500.0         A    1.65     75   \n",
      "pessoa4    Daniel     36  Rio de Janeiro      NaN         B    1.70     68   \n",
      "pessoa1       Ana     23       São Paulo   3000.0         A    1.75     80   \n",
      "pessoa2     Bruno     45  Rio de Janeiro   5000.0         B    1.85     85   \n",
      "pessoa8  Henrique     36       São Paulo   4800.0         B    1.87     75   \n",
      "pessoa7  Gabriela     30        Salvador      NaN         A    1.99     56   \n",
      "\n",
      "        genero    IMC  \n",
      "pessoa6      M  36.21  \n",
      "pessoa5      F  35.16  \n",
      "pessoa3      F  27.55  \n",
      "pessoa4      M  23.53  \n",
      "pessoa1      F  26.12  \n",
      "pessoa2      M  24.84  \n",
      "pessoa8      M  21.45  \n",
      "pessoa7      F  14.14  \n"
     ]
    }
   ],
   "source": [
    "df_ordenado = df.sort_values(by='altura') # Colocar em ordem Crescente aparti da altura.\n",
    "print(df_ordenado)"
   ]
  },
  {
   "cell_type": "markdown",
   "metadata": {},
   "source": [
    "### 12 - Filtre e exiba todas as linhas onde a altura é  maior que 1.65."
   ]
  },
  {
   "cell_type": "code",
   "execution_count": 113,
   "metadata": {},
   "outputs": [
    {
     "name": "stdout",
     "output_type": "stream",
     "text": [
      "             nome  idade          cidade  salario categoria  altura  massa  \\\n",
      "pessoa1       Ana     23       São Paulo   3000.0         A    1.75     80   \n",
      "pessoa2     Bruno     45  Rio de Janeiro   5000.0         B    1.85     85   \n",
      "pessoa3     Carla     25       São Paulo   4500.0         A    1.65     75   \n",
      "pessoa4    Daniel     36  Rio de Janeiro      NaN         B    1.70     68   \n",
      "pessoa5   Eduarda     29             NaN   3800.0         A    1.60     90   \n",
      "pessoa6    Felipe     41       São Paulo   5200.0         B    1.55     87   \n",
      "pessoa7  Gabriela     30        Salvador      NaN         A    1.99     56   \n",
      "pessoa8  Henrique     36       São Paulo   4800.0         B    1.87     75   \n",
      "\n",
      "        genero    IMC  \n",
      "pessoa1      F  26.12  \n",
      "pessoa2      M  24.84  \n",
      "pessoa3      F  27.55  \n",
      "pessoa4      M  23.53  \n",
      "pessoa5      F  35.16  \n",
      "pessoa6      M  36.21  \n",
      "pessoa7      F  14.14  \n",
      "pessoa8      M  21.45  \n"
     ]
    }
   ],
   "source": [
    "# Sem o filtro\n",
    "print(df)"
   ]
  },
  {
   "cell_type": "code",
   "execution_count": 114,
   "metadata": {},
   "outputs": [
    {
     "name": "stdout",
     "output_type": "stream",
     "text": [
      "             nome  idade          cidade  salario categoria  altura  massa  \\\n",
      "pessoa1       Ana     23       São Paulo   3000.0         A    1.75     80   \n",
      "pessoa2     Bruno     45  Rio de Janeiro   5000.0         B    1.85     85   \n",
      "pessoa4    Daniel     36  Rio de Janeiro      NaN         B    1.70     68   \n",
      "pessoa7  Gabriela     30        Salvador      NaN         A    1.99     56   \n",
      "pessoa8  Henrique     36       São Paulo   4800.0         B    1.87     75   \n",
      "\n",
      "        genero    IMC  \n",
      "pessoa1      F  26.12  \n",
      "pessoa2      M  24.84  \n",
      "pessoa4      M  23.53  \n",
      "pessoa7      F  14.14  \n",
      "pessoa8      M  21.45  \n"
     ]
    }
   ],
   "source": [
    "# Com o Filtro\n",
    "df_altura = df[df['altura'] > 1.65]\n",
    "print(df_altura)"
   ]
  },
  {
   "cell_type": "markdown",
   "metadata": {},
   "source": [
    "### 13 - Modifique a altura de alguém para 1.91 e exiba o DataFrame."
   ]
  },
  {
   "cell_type": "code",
   "execution_count": 115,
   "metadata": {},
   "outputs": [
    {
     "name": "stdout",
     "output_type": "stream",
     "text": [
      "             nome  idade          cidade  salario categoria  altura  massa  \\\n",
      "pessoa1       Ana     23       São Paulo   3000.0         A    1.75     80   \n",
      "pessoa2     Bruno     45  Rio de Janeiro   5000.0         B    1.85     85   \n",
      "pessoa3     Carla     25       São Paulo   4500.0         A    1.91     75   \n",
      "pessoa4    Daniel     36  Rio de Janeiro      NaN         B    1.70     68   \n",
      "pessoa5   Eduarda     29             NaN   3800.0         A    1.60     90   \n",
      "pessoa6    Felipe     41       São Paulo   5200.0         B    1.55     87   \n",
      "pessoa7  Gabriela     30        Salvador      NaN         A    1.99     56   \n",
      "pessoa8  Henrique     36       São Paulo   4800.0         B    1.87     75   \n",
      "\n",
      "        genero    IMC  \n",
      "pessoa1      F  26.12  \n",
      "pessoa2      M  24.84  \n",
      "pessoa3      F  27.55  \n",
      "pessoa4      M  23.53  \n",
      "pessoa5      F  35.16  \n",
      "pessoa6      M  36.21  \n",
      "pessoa7      F  14.14  \n",
      "pessoa8      M  21.45  \n"
     ]
    }
   ],
   "source": [
    "df.loc['pessoa3', 'altura' ] = 1.91\n",
    "print(df)"
   ]
  },
  {
   "cell_type": "code",
   "execution_count": 86,
   "metadata": {},
   "outputs": [
    {
     "name": "stdout",
     "output_type": "stream",
     "text": [
      "             nome  idade          cidade  salario categoria  altura  massa  \\\n",
      "pessoa1       Ana     23       São Paulo   3000.0         A    1.75     80   \n",
      "pessoa2     Bruno     45  Rio de Janeiro   5000.0         B    1.85     85   \n",
      "pessoa3     Carla     25       São Paulo   4500.0         A    1.91     75   \n",
      "pessoa4    Daniel     36  Rio de Janeiro      NaN         B    1.70     68   \n",
      "pessoa7  Gabriela     30        Salvador      NaN         A    1.99     56   \n",
      "pessoa8  Henrique     36       São Paulo   4800.0         B    1.87     75   \n",
      "\n",
      "        genero    IMC  \n",
      "pessoa1      F  26.12  \n",
      "pessoa2      M  24.84  \n",
      "pessoa3      F  27.55  \n",
      "pessoa4      M  23.53  \n",
      "pessoa7      F  14.14  \n",
      "pessoa8      M  21.45  \n"
     ]
    }
   ],
   "source": [
    "df_altura = df[df['altura'] > 1.65]\n",
    "print(df_altura)"
   ]
  },
  {
   "cell_type": "markdown",
   "metadata": {},
   "source": [
    "### 14 - Crie uma coluna com valores de CPF para cada linha"
   ]
  },
  {
   "cell_type": "code",
   "execution_count": 123,
   "metadata": {},
   "outputs": [
    {
     "name": "stdout",
     "output_type": "stream",
     "text": [
      "       nome  idade          cidade  salario categoria  altura  peso sexo  \\\n",
      "0       Ana     23       São Paulo   3000.0         A    1.75    80    F   \n",
      "1     Bruno     45  Rio de Janeiro   5000.0         B    1.85    85    M   \n",
      "2     Carla     25       São Paulo   4500.0         A    1.65    75    F   \n",
      "3    Daniel     36  Rio de Janeiro      NaN         B    1.70    68    M   \n",
      "4   Eduarda     29             NaN   3800.0         A    1.60    90    F   \n",
      "5    Felipe     41       São Paulo   5200.0         B    1.55    87    M   \n",
      "6  Gabriela     30        Salvador      NaN         A    1.99    56    F   \n",
      "7  Henrique     36       São Paulo   4800.0         B    1.87    75    M   \n",
      "\n",
      "              CPF  CPF_valid  \n",
      "0  852.093.176-68       True  \n",
      "1  065.241.387-08       True  \n",
      "2  145.786.039-20       True  \n",
      "3  509.263.187-21       True  \n",
      "4  851.463.792-46       True  \n",
      "5  209.385.764-29       True  \n",
      "6  913.547.680-00       True  \n",
      "7  417.386.205-90       True  \n"
     ]
    }
   ],
   "source": [
    "def gerar_cpf():\n",
    "    fake = Faker('pt_BR')  # Specify 'pt_BR' locale for Brazilian data\n",
    "    return fake.cpf()\n",
    "\n",
    "def validate_cpf(cpf):\n",
    "    # Implement CPF validation logic here (optional)\n",
    "    return True  # Placeholder for validation\n",
    "\n",
    "def generate_cpf_column(df):\n",
    "    # Consider using vectorized operations for performance\n",
    "    df['CPF'] = [gerar_cpf() for _ in range(len(df))]\n",
    "    df['CPF_valid'] = df['CPF'].apply(validate_cpf)  # Add validation (optional)\n",
    "    return df\n",
    "\n",
    "# Replace 'your_data' with your actual data\n",
    "data = {\n",
    "    'nome': ['Ana', 'Bruno', 'Carla', 'Daniel', 'Eduarda', 'Felipe', 'Gabriela', 'Henrique'],\n",
    "    'idade': [23, 45, 25, 36, 29, 41, 30, 36],\n",
    "    'cidade': ['São Paulo', 'Rio de Janeiro', 'São Paulo', 'Rio de Janeiro', np.nan, 'São Paulo', 'Salvador', 'São Paulo'],\n",
    "    'salario': [3000, 5000, 4500, np.nan, 3800, 5200, np.nan, 4800],\n",
    "    'categoria': ['A', 'B', 'A', 'B', 'A', 'B', 'A', 'B'],\n",
    "    'altura': [1.75, 1.85, 1.65, 1.70, 1.60, 1.55, 1.99, 1.87],\n",
    "    'peso': [80, 85, 75, 68, 90, 87, 56, 75],\n",
    "    'sexo': [\"F\", \"M\", \"F\", \"M\", \"F\", \"M\", \"F\", \"M\"]\n",
    "}\n",
    "df = pd.DataFrame(data)\n",
    "\n",
    "df = generate_cpf_column(df)\n",
    "print(df)"
   ]
  },
  {
   "cell_type": "code",
   "execution_count": 124,
   "metadata": {},
   "outputs": [
    {
     "data": {
      "text/html": [
       "<div>\n",
       "<style scoped>\n",
       "    .dataframe tbody tr th:only-of-type {\n",
       "        vertical-align: middle;\n",
       "    }\n",
       "\n",
       "    .dataframe tbody tr th {\n",
       "        vertical-align: top;\n",
       "    }\n",
       "\n",
       "    .dataframe thead th {\n",
       "        text-align: right;\n",
       "    }\n",
       "</style>\n",
       "<table border=\"1\" class=\"dataframe\">\n",
       "  <thead>\n",
       "    <tr style=\"text-align: right;\">\n",
       "      <th></th>\n",
       "      <th>nome</th>\n",
       "      <th>idade</th>\n",
       "      <th>cidade</th>\n",
       "      <th>salario</th>\n",
       "      <th>categoria</th>\n",
       "      <th>altura</th>\n",
       "      <th>peso</th>\n",
       "      <th>sexo</th>\n",
       "      <th>CPF</th>\n",
       "      <th>CPF_valid</th>\n",
       "    </tr>\n",
       "  </thead>\n",
       "  <tbody>\n",
       "    <tr>\n",
       "      <th>0</th>\n",
       "      <td>Ana</td>\n",
       "      <td>23</td>\n",
       "      <td>São Paulo</td>\n",
       "      <td>3000.0</td>\n",
       "      <td>A</td>\n",
       "      <td>1.75</td>\n",
       "      <td>80</td>\n",
       "      <td>F</td>\n",
       "      <td>852.093.176-68</td>\n",
       "      <td>True</td>\n",
       "    </tr>\n",
       "    <tr>\n",
       "      <th>1</th>\n",
       "      <td>Bruno</td>\n",
       "      <td>45</td>\n",
       "      <td>Rio de Janeiro</td>\n",
       "      <td>5000.0</td>\n",
       "      <td>B</td>\n",
       "      <td>1.85</td>\n",
       "      <td>85</td>\n",
       "      <td>M</td>\n",
       "      <td>065.241.387-08</td>\n",
       "      <td>True</td>\n",
       "    </tr>\n",
       "    <tr>\n",
       "      <th>2</th>\n",
       "      <td>Carla</td>\n",
       "      <td>25</td>\n",
       "      <td>São Paulo</td>\n",
       "      <td>4500.0</td>\n",
       "      <td>A</td>\n",
       "      <td>1.65</td>\n",
       "      <td>75</td>\n",
       "      <td>F</td>\n",
       "      <td>145.786.039-20</td>\n",
       "      <td>True</td>\n",
       "    </tr>\n",
       "    <tr>\n",
       "      <th>3</th>\n",
       "      <td>Daniel</td>\n",
       "      <td>36</td>\n",
       "      <td>Rio de Janeiro</td>\n",
       "      <td>NaN</td>\n",
       "      <td>B</td>\n",
       "      <td>1.70</td>\n",
       "      <td>68</td>\n",
       "      <td>M</td>\n",
       "      <td>509.263.187-21</td>\n",
       "      <td>True</td>\n",
       "    </tr>\n",
       "    <tr>\n",
       "      <th>4</th>\n",
       "      <td>Eduarda</td>\n",
       "      <td>29</td>\n",
       "      <td>NaN</td>\n",
       "      <td>3800.0</td>\n",
       "      <td>A</td>\n",
       "      <td>1.60</td>\n",
       "      <td>90</td>\n",
       "      <td>F</td>\n",
       "      <td>851.463.792-46</td>\n",
       "      <td>True</td>\n",
       "    </tr>\n",
       "    <tr>\n",
       "      <th>5</th>\n",
       "      <td>Felipe</td>\n",
       "      <td>41</td>\n",
       "      <td>São Paulo</td>\n",
       "      <td>5200.0</td>\n",
       "      <td>B</td>\n",
       "      <td>1.55</td>\n",
       "      <td>87</td>\n",
       "      <td>M</td>\n",
       "      <td>209.385.764-29</td>\n",
       "      <td>True</td>\n",
       "    </tr>\n",
       "    <tr>\n",
       "      <th>6</th>\n",
       "      <td>Gabriela</td>\n",
       "      <td>30</td>\n",
       "      <td>Salvador</td>\n",
       "      <td>NaN</td>\n",
       "      <td>A</td>\n",
       "      <td>1.99</td>\n",
       "      <td>56</td>\n",
       "      <td>F</td>\n",
       "      <td>913.547.680-00</td>\n",
       "      <td>True</td>\n",
       "    </tr>\n",
       "    <tr>\n",
       "      <th>7</th>\n",
       "      <td>Henrique</td>\n",
       "      <td>36</td>\n",
       "      <td>São Paulo</td>\n",
       "      <td>4800.0</td>\n",
       "      <td>B</td>\n",
       "      <td>1.87</td>\n",
       "      <td>75</td>\n",
       "      <td>M</td>\n",
       "      <td>417.386.205-90</td>\n",
       "      <td>True</td>\n",
       "    </tr>\n",
       "  </tbody>\n",
       "</table>\n",
       "</div>"
      ],
      "text/plain": [
       "       nome  idade          cidade  salario categoria  altura  peso sexo  \\\n",
       "0       Ana     23       São Paulo   3000.0         A    1.75    80    F   \n",
       "1     Bruno     45  Rio de Janeiro   5000.0         B    1.85    85    M   \n",
       "2     Carla     25       São Paulo   4500.0         A    1.65    75    F   \n",
       "3    Daniel     36  Rio de Janeiro      NaN         B    1.70    68    M   \n",
       "4   Eduarda     29             NaN   3800.0         A    1.60    90    F   \n",
       "5    Felipe     41       São Paulo   5200.0         B    1.55    87    M   \n",
       "6  Gabriela     30        Salvador      NaN         A    1.99    56    F   \n",
       "7  Henrique     36       São Paulo   4800.0         B    1.87    75    M   \n",
       "\n",
       "              CPF  CPF_valid  \n",
       "0  852.093.176-68       True  \n",
       "1  065.241.387-08       True  \n",
       "2  145.786.039-20       True  \n",
       "3  509.263.187-21       True  \n",
       "4  851.463.792-46       True  \n",
       "5  209.385.764-29       True  \n",
       "6  913.547.680-00       True  \n",
       "7  417.386.205-90       True  "
      ]
     },
     "execution_count": 124,
     "metadata": {},
     "output_type": "execute_result"
    }
   ],
   "source": [
    "df"
   ]
  },
  {
   "cell_type": "markdown",
   "metadata": {},
   "source": [
    "### 15 - Exclua a coluna CPF do DataFrame."
   ]
  },
  {
   "cell_type": "code",
   "execution_count": 125,
   "metadata": {},
   "outputs": [
    {
     "data": {
      "text/html": [
       "<div>\n",
       "<style scoped>\n",
       "    .dataframe tbody tr th:only-of-type {\n",
       "        vertical-align: middle;\n",
       "    }\n",
       "\n",
       "    .dataframe tbody tr th {\n",
       "        vertical-align: top;\n",
       "    }\n",
       "\n",
       "    .dataframe thead th {\n",
       "        text-align: right;\n",
       "    }\n",
       "</style>\n",
       "<table border=\"1\" class=\"dataframe\">\n",
       "  <thead>\n",
       "    <tr style=\"text-align: right;\">\n",
       "      <th></th>\n",
       "      <th>nome</th>\n",
       "      <th>idade</th>\n",
       "      <th>cidade</th>\n",
       "      <th>salario</th>\n",
       "      <th>categoria</th>\n",
       "      <th>altura</th>\n",
       "      <th>peso</th>\n",
       "      <th>sexo</th>\n",
       "    </tr>\n",
       "  </thead>\n",
       "  <tbody>\n",
       "    <tr>\n",
       "      <th>0</th>\n",
       "      <td>Ana</td>\n",
       "      <td>23</td>\n",
       "      <td>São Paulo</td>\n",
       "      <td>3000.0</td>\n",
       "      <td>A</td>\n",
       "      <td>1.75</td>\n",
       "      <td>80</td>\n",
       "      <td>F</td>\n",
       "    </tr>\n",
       "    <tr>\n",
       "      <th>1</th>\n",
       "      <td>Bruno</td>\n",
       "      <td>45</td>\n",
       "      <td>Rio de Janeiro</td>\n",
       "      <td>5000.0</td>\n",
       "      <td>B</td>\n",
       "      <td>1.85</td>\n",
       "      <td>85</td>\n",
       "      <td>M</td>\n",
       "    </tr>\n",
       "    <tr>\n",
       "      <th>2</th>\n",
       "      <td>Carla</td>\n",
       "      <td>25</td>\n",
       "      <td>São Paulo</td>\n",
       "      <td>4500.0</td>\n",
       "      <td>A</td>\n",
       "      <td>1.65</td>\n",
       "      <td>75</td>\n",
       "      <td>F</td>\n",
       "    </tr>\n",
       "    <tr>\n",
       "      <th>3</th>\n",
       "      <td>Daniel</td>\n",
       "      <td>36</td>\n",
       "      <td>Rio de Janeiro</td>\n",
       "      <td>NaN</td>\n",
       "      <td>B</td>\n",
       "      <td>1.70</td>\n",
       "      <td>68</td>\n",
       "      <td>M</td>\n",
       "    </tr>\n",
       "    <tr>\n",
       "      <th>4</th>\n",
       "      <td>Eduarda</td>\n",
       "      <td>29</td>\n",
       "      <td>NaN</td>\n",
       "      <td>3800.0</td>\n",
       "      <td>A</td>\n",
       "      <td>1.60</td>\n",
       "      <td>90</td>\n",
       "      <td>F</td>\n",
       "    </tr>\n",
       "    <tr>\n",
       "      <th>5</th>\n",
       "      <td>Felipe</td>\n",
       "      <td>41</td>\n",
       "      <td>São Paulo</td>\n",
       "      <td>5200.0</td>\n",
       "      <td>B</td>\n",
       "      <td>1.55</td>\n",
       "      <td>87</td>\n",
       "      <td>M</td>\n",
       "    </tr>\n",
       "    <tr>\n",
       "      <th>6</th>\n",
       "      <td>Gabriela</td>\n",
       "      <td>30</td>\n",
       "      <td>Salvador</td>\n",
       "      <td>NaN</td>\n",
       "      <td>A</td>\n",
       "      <td>1.99</td>\n",
       "      <td>56</td>\n",
       "      <td>F</td>\n",
       "    </tr>\n",
       "    <tr>\n",
       "      <th>7</th>\n",
       "      <td>Henrique</td>\n",
       "      <td>36</td>\n",
       "      <td>São Paulo</td>\n",
       "      <td>4800.0</td>\n",
       "      <td>B</td>\n",
       "      <td>1.87</td>\n",
       "      <td>75</td>\n",
       "      <td>M</td>\n",
       "    </tr>\n",
       "  </tbody>\n",
       "</table>\n",
       "</div>"
      ],
      "text/plain": [
       "       nome  idade          cidade  salario categoria  altura  peso sexo\n",
       "0       Ana     23       São Paulo   3000.0         A    1.75    80    F\n",
       "1     Bruno     45  Rio de Janeiro   5000.0         B    1.85    85    M\n",
       "2     Carla     25       São Paulo   4500.0         A    1.65    75    F\n",
       "3    Daniel     36  Rio de Janeiro      NaN         B    1.70    68    M\n",
       "4   Eduarda     29             NaN   3800.0         A    1.60    90    F\n",
       "5    Felipe     41       São Paulo   5200.0         B    1.55    87    M\n",
       "6  Gabriela     30        Salvador      NaN         A    1.99    56    F\n",
       "7  Henrique     36       São Paulo   4800.0         B    1.87    75    M"
      ]
     },
     "execution_count": 125,
     "metadata": {},
     "output_type": "execute_result"
    }
   ],
   "source": [
    "df = df.drop(columns=['CPF', 'CPF_valid' ])\n",
    "df"
   ]
  },
  {
   "cell_type": "markdown",
   "metadata": {},
   "source": [
    "### 16 - Resete o índice do DataFrame e exiba o resultado."
   ]
  },
  {
   "cell_type": "code",
   "execution_count": 128,
   "metadata": {},
   "outputs": [],
   "source": [
    "df\n",
    "\n",
    "df = df.reset_index(drop=True)\n"
   ]
  },
  {
   "cell_type": "code",
   "execution_count": 129,
   "metadata": {},
   "outputs": [
    {
     "data": {
      "text/html": [
       "<div>\n",
       "<style scoped>\n",
       "    .dataframe tbody tr th:only-of-type {\n",
       "        vertical-align: middle;\n",
       "    }\n",
       "\n",
       "    .dataframe tbody tr th {\n",
       "        vertical-align: top;\n",
       "    }\n",
       "\n",
       "    .dataframe thead th {\n",
       "        text-align: right;\n",
       "    }\n",
       "</style>\n",
       "<table border=\"1\" class=\"dataframe\">\n",
       "  <thead>\n",
       "    <tr style=\"text-align: right;\">\n",
       "      <th></th>\n",
       "      <th>nome</th>\n",
       "      <th>idade</th>\n",
       "      <th>cidade</th>\n",
       "      <th>salario</th>\n",
       "      <th>categoria</th>\n",
       "      <th>altura</th>\n",
       "      <th>peso</th>\n",
       "      <th>sexo</th>\n",
       "    </tr>\n",
       "  </thead>\n",
       "  <tbody>\n",
       "    <tr>\n",
       "      <th>0</th>\n",
       "      <td>Ana</td>\n",
       "      <td>23</td>\n",
       "      <td>São Paulo</td>\n",
       "      <td>3000.0</td>\n",
       "      <td>A</td>\n",
       "      <td>1.75</td>\n",
       "      <td>80</td>\n",
       "      <td>F</td>\n",
       "    </tr>\n",
       "    <tr>\n",
       "      <th>1</th>\n",
       "      <td>Bruno</td>\n",
       "      <td>45</td>\n",
       "      <td>Rio de Janeiro</td>\n",
       "      <td>5000.0</td>\n",
       "      <td>B</td>\n",
       "      <td>1.85</td>\n",
       "      <td>85</td>\n",
       "      <td>M</td>\n",
       "    </tr>\n",
       "    <tr>\n",
       "      <th>2</th>\n",
       "      <td>Carla</td>\n",
       "      <td>25</td>\n",
       "      <td>São Paulo</td>\n",
       "      <td>4500.0</td>\n",
       "      <td>A</td>\n",
       "      <td>1.65</td>\n",
       "      <td>75</td>\n",
       "      <td>F</td>\n",
       "    </tr>\n",
       "    <tr>\n",
       "      <th>3</th>\n",
       "      <td>Daniel</td>\n",
       "      <td>36</td>\n",
       "      <td>Rio de Janeiro</td>\n",
       "      <td>NaN</td>\n",
       "      <td>B</td>\n",
       "      <td>1.70</td>\n",
       "      <td>68</td>\n",
       "      <td>M</td>\n",
       "    </tr>\n",
       "    <tr>\n",
       "      <th>4</th>\n",
       "      <td>Eduarda</td>\n",
       "      <td>29</td>\n",
       "      <td>NaN</td>\n",
       "      <td>3800.0</td>\n",
       "      <td>A</td>\n",
       "      <td>1.60</td>\n",
       "      <td>90</td>\n",
       "      <td>F</td>\n",
       "    </tr>\n",
       "    <tr>\n",
       "      <th>5</th>\n",
       "      <td>Felipe</td>\n",
       "      <td>41</td>\n",
       "      <td>São Paulo</td>\n",
       "      <td>5200.0</td>\n",
       "      <td>B</td>\n",
       "      <td>1.55</td>\n",
       "      <td>87</td>\n",
       "      <td>M</td>\n",
       "    </tr>\n",
       "    <tr>\n",
       "      <th>6</th>\n",
       "      <td>Gabriela</td>\n",
       "      <td>30</td>\n",
       "      <td>Salvador</td>\n",
       "      <td>NaN</td>\n",
       "      <td>A</td>\n",
       "      <td>1.99</td>\n",
       "      <td>56</td>\n",
       "      <td>F</td>\n",
       "    </tr>\n",
       "    <tr>\n",
       "      <th>7</th>\n",
       "      <td>Henrique</td>\n",
       "      <td>36</td>\n",
       "      <td>São Paulo</td>\n",
       "      <td>4800.0</td>\n",
       "      <td>B</td>\n",
       "      <td>1.87</td>\n",
       "      <td>75</td>\n",
       "      <td>M</td>\n",
       "    </tr>\n",
       "  </tbody>\n",
       "</table>\n",
       "</div>"
      ],
      "text/plain": [
       "       nome  idade          cidade  salario categoria  altura  peso sexo\n",
       "0       Ana     23       São Paulo   3000.0         A    1.75    80    F\n",
       "1     Bruno     45  Rio de Janeiro   5000.0         B    1.85    85    M\n",
       "2     Carla     25       São Paulo   4500.0         A    1.65    75    F\n",
       "3    Daniel     36  Rio de Janeiro      NaN         B    1.70    68    M\n",
       "4   Eduarda     29             NaN   3800.0         A    1.60    90    F\n",
       "5    Felipe     41       São Paulo   5200.0         B    1.55    87    M\n",
       "6  Gabriela     30        Salvador      NaN         A    1.99    56    F\n",
       "7  Henrique     36       São Paulo   4800.0         B    1.87    75    M"
      ]
     },
     "execution_count": 129,
     "metadata": {},
     "output_type": "execute_result"
    }
   ],
   "source": [
    "df"
   ]
  },
  {
   "cell_type": "markdown",
   "metadata": {},
   "source": [
    "### 17 - Exiba as linhas do DataFrame onde a altura é maior que 1.70."
   ]
  },
  {
   "cell_type": "code",
   "execution_count": 130,
   "metadata": {},
   "outputs": [
    {
     "name": "stdout",
     "output_type": "stream",
     "text": [
      "       nome  idade          cidade  salario categoria  altura  peso sexo\n",
      "0       Ana     23       São Paulo   3000.0         A    1.75    80    F\n",
      "1     Bruno     45  Rio de Janeiro   5000.0         B    1.85    85    M\n",
      "6  Gabriela     30        Salvador      NaN         A    1.99    56    F\n",
      "7  Henrique     36       São Paulo   4800.0         B    1.87    75    M\n"
     ]
    }
   ],
   "source": [
    "df_altura = df[df['altura'] > 1.70]\n",
    "print(df_altura)"
   ]
  },
  {
   "cell_type": "markdown",
   "metadata": {},
   "source": [
    "### 18 - Selecione e exiba as colunas \"nome\" e \"genero\".\n"
   ]
  },
  {
   "cell_type": "code",
   "execution_count": 132,
   "metadata": {},
   "outputs": [
    {
     "name": "stdout",
     "output_type": "stream",
     "text": [
      "       nome genero\n",
      "0       Ana      F\n",
      "1     Bruno      M\n",
      "2     Carla      F\n",
      "3    Daniel      M\n",
      "4   Eduarda      F\n",
      "5    Felipe      M\n",
      "6  Gabriela      F\n",
      "7  Henrique      M\n"
     ]
    }
   ],
   "source": [
    "\n",
    "df = df.rename(columns={'sexo': 'genero'})\n",
    "\n",
    "df_selecionado = df[['nome', 'genero']]\n",
    "print(df_selecionado)"
   ]
  },
  {
   "cell_type": "code",
   "execution_count": 133,
   "metadata": {},
   "outputs": [
    {
     "data": {
      "text/html": [
       "<div>\n",
       "<style scoped>\n",
       "    .dataframe tbody tr th:only-of-type {\n",
       "        vertical-align: middle;\n",
       "    }\n",
       "\n",
       "    .dataframe tbody tr th {\n",
       "        vertical-align: top;\n",
       "    }\n",
       "\n",
       "    .dataframe thead th {\n",
       "        text-align: right;\n",
       "    }\n",
       "</style>\n",
       "<table border=\"1\" class=\"dataframe\">\n",
       "  <thead>\n",
       "    <tr style=\"text-align: right;\">\n",
       "      <th></th>\n",
       "      <th>nome</th>\n",
       "      <th>idade</th>\n",
       "      <th>cidade</th>\n",
       "      <th>salario</th>\n",
       "      <th>categoria</th>\n",
       "      <th>altura</th>\n",
       "      <th>peso</th>\n",
       "      <th>genero</th>\n",
       "    </tr>\n",
       "  </thead>\n",
       "  <tbody>\n",
       "    <tr>\n",
       "      <th>0</th>\n",
       "      <td>Ana</td>\n",
       "      <td>23</td>\n",
       "      <td>São Paulo</td>\n",
       "      <td>3000.0</td>\n",
       "      <td>A</td>\n",
       "      <td>1.75</td>\n",
       "      <td>80</td>\n",
       "      <td>F</td>\n",
       "    </tr>\n",
       "    <tr>\n",
       "      <th>1</th>\n",
       "      <td>Bruno</td>\n",
       "      <td>45</td>\n",
       "      <td>Rio de Janeiro</td>\n",
       "      <td>5000.0</td>\n",
       "      <td>B</td>\n",
       "      <td>1.85</td>\n",
       "      <td>85</td>\n",
       "      <td>M</td>\n",
       "    </tr>\n",
       "    <tr>\n",
       "      <th>2</th>\n",
       "      <td>Carla</td>\n",
       "      <td>25</td>\n",
       "      <td>São Paulo</td>\n",
       "      <td>4500.0</td>\n",
       "      <td>A</td>\n",
       "      <td>1.65</td>\n",
       "      <td>75</td>\n",
       "      <td>F</td>\n",
       "    </tr>\n",
       "    <tr>\n",
       "      <th>3</th>\n",
       "      <td>Daniel</td>\n",
       "      <td>36</td>\n",
       "      <td>Rio de Janeiro</td>\n",
       "      <td>NaN</td>\n",
       "      <td>B</td>\n",
       "      <td>1.70</td>\n",
       "      <td>68</td>\n",
       "      <td>M</td>\n",
       "    </tr>\n",
       "    <tr>\n",
       "      <th>4</th>\n",
       "      <td>Eduarda</td>\n",
       "      <td>29</td>\n",
       "      <td>NaN</td>\n",
       "      <td>3800.0</td>\n",
       "      <td>A</td>\n",
       "      <td>1.60</td>\n",
       "      <td>90</td>\n",
       "      <td>F</td>\n",
       "    </tr>\n",
       "    <tr>\n",
       "      <th>5</th>\n",
       "      <td>Felipe</td>\n",
       "      <td>41</td>\n",
       "      <td>São Paulo</td>\n",
       "      <td>5200.0</td>\n",
       "      <td>B</td>\n",
       "      <td>1.55</td>\n",
       "      <td>87</td>\n",
       "      <td>M</td>\n",
       "    </tr>\n",
       "    <tr>\n",
       "      <th>6</th>\n",
       "      <td>Gabriela</td>\n",
       "      <td>30</td>\n",
       "      <td>Salvador</td>\n",
       "      <td>NaN</td>\n",
       "      <td>A</td>\n",
       "      <td>1.99</td>\n",
       "      <td>56</td>\n",
       "      <td>F</td>\n",
       "    </tr>\n",
       "    <tr>\n",
       "      <th>7</th>\n",
       "      <td>Henrique</td>\n",
       "      <td>36</td>\n",
       "      <td>São Paulo</td>\n",
       "      <td>4800.0</td>\n",
       "      <td>B</td>\n",
       "      <td>1.87</td>\n",
       "      <td>75</td>\n",
       "      <td>M</td>\n",
       "    </tr>\n",
       "  </tbody>\n",
       "</table>\n",
       "</div>"
      ],
      "text/plain": [
       "       nome  idade          cidade  salario categoria  altura  peso genero\n",
       "0       Ana     23       São Paulo   3000.0         A    1.75    80      F\n",
       "1     Bruno     45  Rio de Janeiro   5000.0         B    1.85    85      M\n",
       "2     Carla     25       São Paulo   4500.0         A    1.65    75      F\n",
       "3    Daniel     36  Rio de Janeiro      NaN         B    1.70    68      M\n",
       "4   Eduarda     29             NaN   3800.0         A    1.60    90      F\n",
       "5    Felipe     41       São Paulo   5200.0         B    1.55    87      M\n",
       "6  Gabriela     30        Salvador      NaN         A    1.99    56      F\n",
       "7  Henrique     36       São Paulo   4800.0         B    1.87    75      M"
      ]
     },
     "execution_count": 133,
     "metadata": {},
     "output_type": "execute_result"
    }
   ],
   "source": [
    "df"
   ]
  },
  {
   "cell_type": "markdown",
   "metadata": {},
   "source": [
    "### 19 - Calcule e exiba a soma das idades."
   ]
  },
  {
   "cell_type": "code",
   "execution_count": 134,
   "metadata": {},
   "outputs": [
    {
     "name": "stdout",
     "output_type": "stream",
     "text": [
      "A soma das idades é: 265\n"
     ]
    }
   ],
   "source": [
    "soma_idades = df['idade'].sum()\n",
    "\n",
    "# Exibindo o resultado\n",
    "print(\"A soma das idades é:\", soma_idades)"
   ]
  },
  {
   "cell_type": "markdown",
   "metadata": {},
   "source": [
    "\n",
    "### 20 - Salve o DataFrame em um arquivo CSV.\n"
   ]
  },
  {
   "cell_type": "code",
   "execution_count": 136,
   "metadata": {},
   "outputs": [],
   "source": [
    "df.to_csv('Exercício 03 - Pandas.csv', index=False)"
   ]
  }
 ],
 "metadata": {
  "kernelspec": {
   "display_name": "Python 3",
   "language": "python",
   "name": "python3"
  },
  "language_info": {
   "codemirror_mode": {
    "name": "ipython",
    "version": 3
   },
   "file_extension": ".py",
   "mimetype": "text/x-python",
   "name": "python",
   "nbconvert_exporter": "python",
   "pygments_lexer": "ipython3",
   "version": "3.12.4"
  }
 },
 "nbformat": 4,
 "nbformat_minor": 2
}
