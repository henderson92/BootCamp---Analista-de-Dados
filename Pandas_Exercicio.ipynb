{
 "cells": [
  {
   "cell_type": "markdown",
   "metadata": {},
   "source": [
    "### 1 - Crie um DataFrame com as colunas nome, idade, altura, peso e sexo usando listas."
   ]
  },
  {
   "cell_type": "code",
   "execution_count": 15,
   "metadata": {},
   "outputs": [],
   "source": [
    "import pandas as pd\n",
    "import numpy as np"
   ]
  },
  {
   "cell_type": "code",
   "execution_count": 16,
   "metadata": {},
   "outputs": [],
   "source": [
    "data = {\n",
    "    'nome': ['Ana', 'Bruno', 'Carla', 'Daniel', 'Eduarda', 'Felipe', 'Gabriela', 'Henrique'],\n",
    "    'idade': [23, 45, 25, 36, 29, 41, 30, 36],\n",
    "    'cidade': ['São Paulo', 'Rio de Janeiro', 'São Paulo', 'Rio de Janeiro', np.nan, 'São Paulo', 'Salvador', 'São Paulo'],\n",
    "    'salario': [3000, 5000, 4500, np.nan, 3800, 5200, np.nan, 4800],\n",
    "    'categoria': ['A', 'B', 'A', 'B', 'A', 'B', 'A', 'B'],\n",
    "    'altura': [1.75, 1.85, 1.65, 1.70, 1.60, 1.55, 1.99, 1.87],\n",
    "    'peso': [80, 85, 75, 68, 90, 87, 56, 75],\n",
    "    'sexo': [\"F\", \"M\", \"F\", \"M\", \"F\", \"M\", \"F\", \"M\"]\n",
    "}"
   ]
  },
  {
   "cell_type": "markdown",
   "metadata": {},
   "source": [
    "### 2 - Exiba o DataFrame criado."
   ]
  },
  {
   "cell_type": "code",
   "execution_count": 17,
   "metadata": {},
   "outputs": [
    {
     "name": "stdout",
     "output_type": "stream",
     "text": [
      "       nome  idade          cidade  salario categoria  altura  peso sexo\n",
      "0       Ana     23       São Paulo   3000.0         A    1.75    80    F\n",
      "1     Bruno     45  Rio de Janeiro   5000.0         B    1.85    85    M\n",
      "2     Carla     25       São Paulo   4500.0         A    1.65    75    F\n",
      "3    Daniel     36  Rio de Janeiro      NaN         B    1.70    68    M\n",
      "4   Eduarda     29             NaN   3800.0         A    1.60    90    F\n",
      "5    Felipe     41       São Paulo   5200.0         B    1.55    87    M\n",
      "6  Gabriela     30        Salvador      NaN         A    1.99    56    F\n",
      "7  Henrique     36       São Paulo   4800.0         B    1.87    75    M\n"
     ]
    }
   ],
   "source": [
    "df = pd.DataFrame(data)\n",
    "print(df)"
   ]
  },
  {
   "cell_type": "markdown",
   "metadata": {},
   "source": [
    "### 3 - Selecione e exiba a coluna \"idade\" do DataFrame."
   ]
  },
  {
   "cell_type": "code",
   "execution_count": 18,
   "metadata": {},
   "outputs": [
    {
     "name": "stdout",
     "output_type": "stream",
     "text": [
      "0    23\n",
      "1    45\n",
      "2    25\n",
      "3    36\n",
      "4    29\n",
      "5    41\n",
      "6    30\n",
      "7    36\n",
      "Name: idade, dtype: int64\n"
     ]
    }
   ],
   "source": [
    "idade = df.iloc[:, 1]\n",
    "print(idade)"
   ]
  },
  {
   "cell_type": "markdown",
   "metadata": {},
   "source": [
    "### 4 - Selecione e exiba a linha com índice 2 do DataFrame."
   ]
  },
  {
   "cell_type": "code",
   "execution_count": 19,
   "metadata": {},
   "outputs": [
    {
     "name": "stdout",
     "output_type": "stream",
     "text": [
      "nome             Carla\n",
      "idade               25\n",
      "cidade       São Paulo\n",
      "salario         4500.0\n",
      "categoria            A\n",
      "altura            1.65\n",
      "peso                75\n",
      "sexo                 F\n",
      "Name: 2, dtype: object\n"
     ]
    }
   ],
   "source": [
    "linha_2 = df.iloc[2]\n",
    "\n",
    "print(linha_2)"
   ]
  },
  {
   "cell_type": "markdown",
   "metadata": {},
   "source": [
    "### 5 - Selecione e exiba a linha com rótulo 2 do DataFrame."
   ]
  },
  {
   "cell_type": "code",
   "execution_count": 20,
   "metadata": {},
   "outputs": [],
   "source": [
    "df = pd.DataFrame(data, index=['pessoa1','pessoa2', 'pessoa3', 'pessoa4', 'pessoa5', 'pessoa6', 'pessoa7', 'pessoa8'])"
   ]
  },
  {
   "cell_type": "code",
   "execution_count": 22,
   "metadata": {},
   "outputs": [
    {
     "data": {
      "text/plain": [
       "nome             Carla\n",
       "idade               25\n",
       "cidade       São Paulo\n",
       "salario         4500.0\n",
       "categoria            A\n",
       "altura            1.65\n",
       "peso                75\n",
       "sexo                 F\n",
       "Name: pessoa3, dtype: object"
      ]
     },
     "execution_count": 22,
     "metadata": {},
     "output_type": "execute_result"
    }
   ],
   "source": [
    "df.iloc[2]"
   ]
  },
  {
   "cell_type": "code",
   "execution_count": 25,
   "metadata": {},
   "outputs": [
    {
     "data": {
      "text/plain": [
       "nome             Carla\n",
       "idade               25\n",
       "cidade       São Paulo\n",
       "salario         4500.0\n",
       "categoria            A\n",
       "altura            1.65\n",
       "peso                75\n",
       "sexo                 F\n",
       "Name: pessoa3, dtype: object"
      ]
     },
     "execution_count": 25,
     "metadata": {},
     "output_type": "execute_result"
    }
   ],
   "source": [
    "df.loc['pessoa3']"
   ]
  },
  {
   "cell_type": "markdown",
   "metadata": {},
   "source": [
    "### 6 - Selecione e exiba o valor da célula na linha de rótulo 3, coluna \"altura\"."
   ]
  },
  {
   "cell_type": "code",
   "execution_count": 31,
   "metadata": {},
   "outputs": [
    {
     "data": {
      "text/plain": [
       "np.float64(1.65)"
      ]
     },
     "execution_count": 31,
     "metadata": {},
     "output_type": "execute_result"
    }
   ],
   "source": [
    "df.loc['pessoa3', 'altura']"
   ]
  },
  {
   "cell_type": "markdown",
   "metadata": {},
   "source": [
    "### 7 - Renomeie as colunas \"sexo\" para \"genero\" e \"peso\" para \"massa\"."
   ]
  },
  {
   "cell_type": "code",
   "execution_count": 33,
   "metadata": {},
   "outputs": [],
   "source": [
    "df = df.rename(columns={'sexo': 'genero'})"
   ]
  },
  {
   "cell_type": "code",
   "execution_count": 34,
   "metadata": {},
   "outputs": [],
   "source": [
    "df = df.rename(columns={'peso': 'massa'} )"
   ]
  },
  {
   "cell_type": "code",
   "execution_count": 35,
   "metadata": {},
   "outputs": [
    {
     "name": "stdout",
     "output_type": "stream",
     "text": [
      "             nome  idade          cidade  salario categoria  altura  massa  \\\n",
      "pessoa1       Ana     23       São Paulo   3000.0         A    1.75     80   \n",
      "pessoa2     Bruno     45  Rio de Janeiro   5000.0         B    1.85     85   \n",
      "pessoa3     Carla     25       São Paulo   4500.0         A    1.65     75   \n",
      "pessoa4    Daniel     36  Rio de Janeiro      NaN         B    1.70     68   \n",
      "pessoa5   Eduarda     29             NaN   3800.0         A    1.60     90   \n",
      "pessoa6    Felipe     41       São Paulo   5200.0         B    1.55     87   \n",
      "pessoa7  Gabriela     30        Salvador      NaN         A    1.99     56   \n",
      "pessoa8  Henrique     36       São Paulo   4800.0         B    1.87     75   \n",
      "\n",
      "        genero  \n",
      "pessoa1      F  \n",
      "pessoa2      M  \n",
      "pessoa3      F  \n",
      "pessoa4      M  \n",
      "pessoa5      F  \n",
      "pessoa6      M  \n",
      "pessoa7      F  \n",
      "pessoa8      M  \n"
     ]
    }
   ],
   "source": [
    "print(df)"
   ]
  },
  {
   "cell_type": "markdown",
   "metadata": {},
   "source": [
    "### 8 - Selecione e exiba as colunas \"nome\" e \"altura\" do DataFrame."
   ]
  },
  {
   "cell_type": "code",
   "execution_count": 36,
   "metadata": {},
   "outputs": [
    {
     "name": "stdout",
     "output_type": "stream",
     "text": [
      "             nome  altura\n",
      "pessoa1       Ana    1.75\n",
      "pessoa2     Bruno    1.85\n",
      "pessoa3     Carla    1.65\n",
      "pessoa4    Daniel    1.70\n",
      "pessoa5   Eduarda    1.60\n",
      "pessoa6    Felipe    1.55\n",
      "pessoa7  Gabriela    1.99\n",
      "pessoa8  Henrique    1.87\n"
     ]
    }
   ],
   "source": [
    "df_selecionado = df[['nome', 'altura']]\n",
    "print(df_selecionado)"
   ]
  },
  {
   "cell_type": "markdown",
   "metadata": {},
   "source": [
    "### 9 - Filtre e exiba todas as linhas onde a idade é maior que 40."
   ]
  },
  {
   "cell_type": "code",
   "execution_count": 37,
   "metadata": {},
   "outputs": [
    {
     "name": "stdout",
     "output_type": "stream",
     "text": [
      "           nome  idade          cidade  salario categoria  altura  massa  \\\n",
      "pessoa2   Bruno     45  Rio de Janeiro   5000.0         B    1.85     85   \n",
      "pessoa6  Felipe     41       São Paulo   5200.0         B    1.55     87   \n",
      "\n",
      "        genero  \n",
      "pessoa2      M  \n",
      "pessoa6      M  \n"
     ]
    }
   ],
   "source": [
    "df_filtra = df[df['idade'] > 40]\n",
    "print(df_filtra)"
   ]
  },
  {
   "cell_type": "markdown",
   "metadata": {},
   "source": [
    "### 10 - Adicione uma nova coluna chamada \"IMC\" ao DataFrame, calculando o Índice de Massa Corporal."
   ]
  },
  {
   "cell_type": "code",
   "execution_count": 41,
   "metadata": {},
   "outputs": [
    {
     "name": "stdout",
     "output_type": "stream",
     "text": [
      "             nome  idade          cidade  salario categoria  altura  massa  \\\n",
      "pessoa1       Ana     23       São Paulo   3000.0         A    1.75     80   \n",
      "pessoa2     Bruno     45  Rio de Janeiro   5000.0         B    1.85     85   \n",
      "pessoa3     Carla     25       São Paulo   4500.0         A    1.65     75   \n",
      "pessoa4    Daniel     36  Rio de Janeiro      NaN         B    1.70     68   \n",
      "pessoa5   Eduarda     29             NaN   3800.0         A    1.60     90   \n",
      "pessoa6    Felipe     41       São Paulo   5200.0         B    1.55     87   \n",
      "pessoa7  Gabriela     30        Salvador      NaN         A    1.99     56   \n",
      "pessoa8  Henrique     36       São Paulo   4800.0         B    1.87     75   \n",
      "\n",
      "        genero    IMC  \n",
      "pessoa1      F  26.12  \n",
      "pessoa2      M  24.84  \n",
      "pessoa3      F  27.55  \n",
      "pessoa4      M  23.53  \n",
      "pessoa5      F  35.16  \n",
      "pessoa6      M  36.21  \n",
      "pessoa7      F  14.14  \n",
      "pessoa8      M  21.45  \n"
     ]
    }
   ],
   "source": [
    "df['IMC'] = df['massa'] / (df['altura'] ** 2)\n",
    "df['IMC'] = df['IMC'].round(2) # Colocando com 2 casa decimal\n",
    "print(df)"
   ]
  },
  {
   "cell_type": "markdown",
   "metadata": {},
   "source": [
    "### 11 - Ordene o DataFrame pela coluna \"altura\" em ordem crescente."
   ]
  },
  {
   "cell_type": "code",
   "execution_count": 42,
   "metadata": {},
   "outputs": [
    {
     "name": "stdout",
     "output_type": "stream",
     "text": [
      "             nome  idade          cidade  salario categoria  altura  massa  \\\n",
      "pessoa6    Felipe     41       São Paulo   5200.0         B    1.55     87   \n",
      "pessoa5   Eduarda     29             NaN   3800.0         A    1.60     90   \n",
      "pessoa3     Carla     25       São Paulo   4500.0         A    1.65     75   \n",
      "pessoa4    Daniel     36  Rio de Janeiro      NaN         B    1.70     68   \n",
      "pessoa1       Ana     23       São Paulo   3000.0         A    1.75     80   \n",
      "pessoa2     Bruno     45  Rio de Janeiro   5000.0         B    1.85     85   \n",
      "pessoa8  Henrique     36       São Paulo   4800.0         B    1.87     75   \n",
      "pessoa7  Gabriela     30        Salvador      NaN         A    1.99     56   \n",
      "\n",
      "        genero    IMC  \n",
      "pessoa6      M  36.21  \n",
      "pessoa5      F  35.16  \n",
      "pessoa3      F  27.55  \n",
      "pessoa4      M  23.53  \n",
      "pessoa1      F  26.12  \n",
      "pessoa2      M  24.84  \n",
      "pessoa8      M  21.45  \n",
      "pessoa7      F  14.14  \n"
     ]
    }
   ],
   "source": [
    "df_ordenado = df.sort_values(by='altura') # Colocar em ordem Crescente aparti da altura.\n",
    "print(df_ordenado)"
   ]
  },
  {
   "cell_type": "markdown",
   "metadata": {},
   "source": [
    "### 12 - Filtre e exiba todas as linhas onde a altura é  maior que 1.65."
   ]
  },
  {
   "cell_type": "code",
   "execution_count": 46,
   "metadata": {},
   "outputs": [
    {
     "name": "stdout",
     "output_type": "stream",
     "text": [
      "             nome  idade          cidade  salario categoria  altura  massa  \\\n",
      "pessoa1       Ana     23       São Paulo   3000.0         A    1.75     80   \n",
      "pessoa2     Bruno     45  Rio de Janeiro   5000.0         B    1.85     85   \n",
      "pessoa3     Carla     25       São Paulo   4500.0         A    1.65     75   \n",
      "pessoa4    Daniel     36  Rio de Janeiro      NaN         B    1.70     68   \n",
      "pessoa5   Eduarda     29             NaN   3800.0         A    1.60     90   \n",
      "pessoa6    Felipe     41       São Paulo   5200.0         B    1.55     87   \n",
      "pessoa7  Gabriela     30        Salvador      NaN         A    1.99     56   \n",
      "pessoa8  Henrique     36       São Paulo   4800.0         B    1.87     75   \n",
      "\n",
      "        genero    IMC  \n",
      "pessoa1      F  26.12  \n",
      "pessoa2      M  24.84  \n",
      "pessoa3      F  27.55  \n",
      "pessoa4      M  23.53  \n",
      "pessoa5      F  35.16  \n",
      "pessoa6      M  36.21  \n",
      "pessoa7      F  14.14  \n",
      "pessoa8      M  21.45  \n"
     ]
    }
   ],
   "source": [
    "# Sem o filtro\n",
    "print(df)"
   ]
  },
  {
   "cell_type": "code",
   "execution_count": 47,
   "metadata": {},
   "outputs": [
    {
     "name": "stdout",
     "output_type": "stream",
     "text": [
      "             nome  idade          cidade  salario categoria  altura  massa  \\\n",
      "pessoa1       Ana     23       São Paulo   3000.0         A    1.75     80   \n",
      "pessoa2     Bruno     45  Rio de Janeiro   5000.0         B    1.85     85   \n",
      "pessoa4    Daniel     36  Rio de Janeiro      NaN         B    1.70     68   \n",
      "pessoa7  Gabriela     30        Salvador      NaN         A    1.99     56   \n",
      "pessoa8  Henrique     36       São Paulo   4800.0         B    1.87     75   \n",
      "\n",
      "        genero    IMC  \n",
      "pessoa1      F  26.12  \n",
      "pessoa2      M  24.84  \n",
      "pessoa4      M  23.53  \n",
      "pessoa7      F  14.14  \n",
      "pessoa8      M  21.45  \n"
     ]
    }
   ],
   "source": [
    "# Com o Filtro\n",
    "df_altura = df[df['altura'] > 1.65]\n",
    "print(df_altura)"
   ]
  },
  {
   "cell_type": "markdown",
   "metadata": {},
   "source": [
    "### 13 - Modifique a altura de alguém para 1.91 e exiba o DataFrame."
   ]
  },
  {
   "cell_type": "code",
   "execution_count": null,
   "metadata": {},
   "outputs": [],
   "source": []
  }
 ],
 "metadata": {
  "kernelspec": {
   "display_name": "Python 3",
   "language": "python",
   "name": "python3"
  },
  "language_info": {
   "codemirror_mode": {
    "name": "ipython",
    "version": 3
   },
   "file_extension": ".py",
   "mimetype": "text/x-python",
   "name": "python",
   "nbconvert_exporter": "python",
   "pygments_lexer": "ipython3",
   "version": "3.12.4"
  }
 },
 "nbformat": 4,
 "nbformat_minor": 2
}
