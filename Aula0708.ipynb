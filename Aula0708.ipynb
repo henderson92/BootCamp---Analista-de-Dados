{
 "cells": [
  {
   "cell_type": "markdown",
   "metadata": {},
   "source": [
    "## Criação de Strings"
   ]
  },
  {
   "cell_type": "code",
   "execution_count": 2,
   "metadata": {},
   "outputs": [],
   "source": [
    "# Strings podem ser criadas usandos aspas simples ou duplas\n",
    "s1 = 'Hello, World!'\n",
    "s2 = \"Hello, World!\"\n",
    "\n",
    "# Strings de múltiplas linhas usando três aspas simples ou duplas\n",
    "s3 = ''' Essa é minha frase\n",
    "contendo múltiplas linhas\n",
    "na mesma variáveis '''\n",
    "\n",
    "s4 = \"\"\" Essa é minha frase\n",
    "contendo múltiplas linhas\n",
    "na mesma variáveis \"\"\""
   ]
  },
  {
   "cell_type": "markdown",
   "metadata": {},
   "source": [
    "# Acessando Caracteres e Substrings"
   ]
  },
  {
   "cell_type": "code",
   "execution_count": 3,
   "metadata": {},
   "outputs": [
    {
     "name": "stdout",
     "output_type": "stream",
     "text": [
      "H\n",
      "!\n",
      "Hello\n",
      "World!\n",
      "Hello\n"
     ]
    }
   ],
   "source": [
    "s = \"Hello, World!\"\n",
    "\n",
    "#Acessar um caractere\n",
    "print(s[0])\n",
    "print(s[-1])\n",
    "\n",
    "#Acessar uma substring\n",
    "print(s[0:5]) # acessa a substring do início até o índice 5 (excluindo o 5).\n",
    "print(s[7:])  # acessa a substring do índice 7 até o final da string.\n",
    "print(s[:5])  # acessa a substring do início até o índice 5 (excluindo o 5)."
   ]
  },
  {
   "cell_type": "markdown",
   "metadata": {},
   "source": [
    "# Métodos Comuns de Strings"
   ]
  },
  {
   "cell_type": "markdown",
   "metadata": {},
   "source": [
    "### len() - Retorna o comprimento da string"
   ]
  },
  {
   "cell_type": "code",
   "execution_count": 4,
   "metadata": {},
   "outputs": [
    {
     "name": "stdout",
     "output_type": "stream",
     "text": [
      "64\n"
     ]
    }
   ],
   "source": [
    "s = \"Essa é minha frase contendo múltiplas linhas na mesma variáveis \"\n",
    "print(len(s))"
   ]
  },
  {
   "cell_type": "markdown",
   "metadata": {},
   "source": [
    "### lower() - Converter todos os caracteres da string para minúsculas."
   ]
  },
  {
   "cell_type": "code",
   "execution_count": null,
   "metadata": {},
   "outputs": [],
   "source": []
  },
  {
   "cell_type": "code",
   "execution_count": 5,
   "metadata": {},
   "outputs": [
    {
     "name": "stdout",
     "output_type": "stream",
     "text": [
      "essa é minha frase contendo múltiplas linhas na mesma variáveis \n"
     ]
    }
   ],
   "source": [
    "s = \"Essa é minha frase contendo múltiplas linhas na mesma variáveis \"\n",
    "print(s.lower())"
   ]
  },
  {
   "cell_type": "markdown",
   "metadata": {},
   "source": [
    "### upper() - Converter todos os caracteres da string para maiúsculas."
   ]
  },
  {
   "cell_type": "code",
   "execution_count": 6,
   "metadata": {},
   "outputs": [
    {
     "name": "stdout",
     "output_type": "stream",
     "text": [
      "PAulo\n",
      "PAULO\n",
      "PAulo\n",
      "HENDERSON\n"
     ]
    }
   ],
   "source": [
    "s = input(\"Digite uma frase: \")\n",
    "print(s)\n",
    "print(s.upper())\n",
    "print(s)\n",
    "\n",
    "\n",
    "s2 = input(\"Digite uma frase: \").upper()\n",
    "print(s2)"
   ]
  },
  {
   "cell_type": "markdown",
   "metadata": {},
   "source": [
    "### strip() - Remove espaços em branco do início e do fim de uma string"
   ]
  },
  {
   "cell_type": "code",
   "execution_count": 7,
   "metadata": {},
   "outputs": [
    {
     "name": "stdout",
     "output_type": "stream",
     "text": [
      "2\n",
      "2\n"
     ]
    }
   ],
   "source": [
    "s = input(\"Digite uma frase: \")\n",
    "print(len(s))\n",
    "s = s.strip()\n",
    "print(len(s))"
   ]
  },
  {
   "cell_type": "markdown",
   "metadata": {},
   "source": [
    "## split() - Divide a string em uma lista de subtrings com base em um delimitador"
   ]
  },
  {
   "cell_type": "code",
   "execution_count": 13,
   "metadata": {},
   "outputs": [
    {
     "name": "stdout",
     "output_type": "stream",
     "text": [
      "['Hello', 'world']\n",
      "['Hello world']\n",
      "['Hello', 'world']\n"
     ]
    }
   ],
   "source": [
    "import re   # \n",
    "\n",
    "s = input(\"Digite uma frase: \")\n",
    "print(s.split())\n",
    "print(s.split('-'))\n",
    "\n",
    "s.upper()\n",
    "resultado = re.split(r'[ ,]', s)\n",
    "print(resultado)"
   ]
  },
  {
   "cell_type": "markdown",
   "metadata": {},
   "source": [
    "### replace() - Substitui uma substring por outra substring"
   ]
  },
  {
   "cell_type": "code",
   "execution_count": 16,
   "metadata": {},
   "outputs": [
    {
     "name": "stdout",
     "output_type": "stream",
     "text": [
      "Hello, Python\n"
     ]
    }
   ],
   "source": [
    "s = \"Hello, world\"\n",
    "print(s.replace('world', 'Python'))"
   ]
  },
  {
   "cell_type": "markdown",
   "metadata": {},
   "source": [
    "### join() - Une todos os elementos de uma lista em uma string"
   ]
  },
  {
   "cell_type": "code",
   "execution_count": 17,
   "metadata": {},
   "outputs": [
    {
     "name": "stdout",
     "output_type": "stream",
     "text": [
      "helloworldPython\n",
      "hello,world,Python\n"
     ]
    }
   ],
   "source": [
    "words = [\"hello\", \"world\", \"Python\"]\n",
    "print(''.join(words))\n",
    "print(','.join(words))"
   ]
  },
  {
   "cell_type": "markdown",
   "metadata": {},
   "source": [
    "### find() - Retorna o indice da primeira ocorrência ou -1 se não encontrar\n",
    "\n",
    "\n"
   ]
  },
  {
   "cell_type": "code",
   "execution_count": 18,
   "metadata": {},
   "outputs": [
    {
     "name": "stdout",
     "output_type": "stream",
     "text": [
      "7\n",
      "-1\n"
     ]
    }
   ],
   "source": [
    "s = \"Hello, World!\"\n",
    "print(s.find('World'))\n",
    "print(s.find('Python'))"
   ]
  },
  {
   "cell_type": "markdown",
   "metadata": {},
   "source": [
    "### count() - Conta o número de ocorrências de uma substring"
   ]
  },
  {
   "cell_type": "code",
   "execution_count": 19,
   "metadata": {},
   "outputs": [
    {
     "name": "stdout",
     "output_type": "stream",
     "text": [
      "2\n"
     ]
    }
   ],
   "source": [
    "s = \"Hello, World!\"\n",
    "print(s.count('o'))"
   ]
  },
  {
   "cell_type": "markdown",
   "metadata": {},
   "source": [
    "### startswith() - Verifica se a string começa com uma substring\n",
    "### endswith() - Verifica se a string termina com uma substring"
   ]
  },
  {
   "cell_type": "code",
   "execution_count": 20,
   "metadata": {},
   "outputs": [
    {
     "name": "stdout",
     "output_type": "stream",
     "text": [
      "True\n",
      "True\n"
     ]
    }
   ],
   "source": [
    "s = \"Hello, World, Hello!\"\n",
    "print(s.startswith('Hello'))\n",
    "print(s.endswith('Hello!'))"
   ]
  },
  {
   "cell_type": "markdown",
   "metadata": {},
   "source": [
    "### capitalize() - Coloca a primeira letra da string em maiúscula e as demais"
   ]
  },
  {
   "cell_type": "code",
   "execution_count": 21,
   "metadata": {},
   "outputs": [
    {
     "name": "stdout",
     "output_type": "stream",
     "text": [
      "Hello, world, hello!\n"
     ]
    }
   ],
   "source": [
    "s = \"hello, world, hello!\"\n",
    "print(s.capitalize())"
   ]
  },
  {
   "cell_type": "markdown",
   "metadata": {},
   "source": [
    "### title() - Coloca a primeira letra de cada palavra da string em maiúscula"
   ]
  },
  {
   "cell_type": "code",
   "execution_count": 22,
   "metadata": {},
   "outputs": [
    {
     "name": "stdout",
     "output_type": "stream",
     "text": [
      "Hello, World, Hello!\n"
     ]
    }
   ],
   "source": [
    "s = \"hello, world, hello!\"\n",
    "print(s.title())"
   ]
  },
  {
   "cell_type": "markdown",
   "metadata": {},
   "source": [
    "### Técnica Slicing - fatiamento de uma string"
   ]
  },
  {
   "cell_type": "code",
   "execution_count": 1,
   "metadata": {},
   "outputs": [
    {
     "name": "stdout",
     "output_type": "stream",
     "text": [
      "Hello world\n",
      "dlrow olleH\n"
     ]
    }
   ],
   "source": [
    "#sequencia[inicio:fim:passo]\n",
    "#inicio: índice onde o fatiamento começa (inclusivo). Se omitido, o padrão é o início da sequência.\n",
    "#fim: índice onde o fatiamento termina (exclusivo). Se omitido, o padrão é o final da sequência.\n",
    "#passo: tamanho do passo ou incremento entre índices. Se omitido, o padrão é 1.\n",
    "s = input(\"Digite uma frase: \")\n",
    "print(s)\n",
    "\n",
    "#Inverter uma string usando slicing\n",
    "x = s[::-1]\n",
    "\n",
    "print(x)"
   ]
  },
  {
   "cell_type": "markdown",
   "metadata": {},
   "source": [
    "**casefold()** - É uma maneira mais agressiva que o lower() de converter uma string em minúscula."
   ]
  },
  {
   "cell_type": "code",
   "execution_count": 2,
   "metadata": {},
   "outputs": [
    {
     "name": "stdout",
     "output_type": "stream",
     "text": [
      "ß\n",
      "ss\n"
     ]
    }
   ],
   "source": [
    "s = \"ß\"\n",
    "print(s.lower())\n",
    "print(s.casefold())"
   ]
  },
  {
   "cell_type": "code",
   "execution_count": null,
   "metadata": {},
   "outputs": [],
   "source": []
  }
 ],
 "metadata": {
  "kernelspec": {
   "display_name": "Python 3",
   "language": "python",
   "name": "python3"
  },
  "language_info": {
   "codemirror_mode": {
    "name": "ipython",
    "version": 3
   },
   "file_extension": ".py",
   "mimetype": "text/x-python",
   "name": "python",
   "nbconvert_exporter": "python",
   "pygments_lexer": "ipython3",
   "version": "3.12.4"
  }
 },
 "nbformat": 4,
 "nbformat_minor": 2
}
