{
 "cells": [
  {
   "cell_type": "markdown",
   "metadata": {},
   "source": [
    "### 1. **Função de Saudação**:\n",
    "   - Crie uma função chamada `saudacao` que receba um nome como argumento e exiba uma mensagem de saudação no console."
   ]
  },
  {
   "cell_type": "code",
   "execution_count": 5,
   "metadata": {},
   "outputs": [
    {
     "name": "stdout",
     "output_type": "stream",
     "text": [
      "Olá, Paulo tenha um Otimo Dia!\n"
     ]
    }
   ],
   "source": [
    "def saudacao():\n",
    "    print(f\"Olá, {nome} tenha um Otimo Dia!\")\n",
    "\n",
    "nome = input(\"Digite seu nome: \")\n",
    "saudacao() # chama a função saudacao() e imprime \"Olá,"
   ]
  },
  {
   "cell_type": "markdown",
   "metadata": {},
   "source": [
    "### 2. **Função de Soma**:\n",
    "   - Crie uma função chamada `soma` que receba dois números como argumentos e retorne a soma deles.\n"
   ]
  },
  {
   "cell_type": "code",
   "execution_count": 20,
   "metadata": {},
   "outputs": [
    {
     "name": "stdout",
     "output_type": "stream",
     "text": [
      "10\n"
     ]
    }
   ],
   "source": [
    "def soma(a, b):\n",
    "    return a + b\n",
    "\n",
    "print(soma(5, 5)) "
   ]
  },
  {
   "cell_type": "markdown",
   "metadata": {},
   "source": [
    "### 3. **Função de Subtração**:\n",
    "   - Crie uma função chamada `subtracao` que receba dois números como argumentos e retorne a subtração do segundo número pelo primeiro."
   ]
  },
  {
   "cell_type": "code",
   "execution_count": 23,
   "metadata": {},
   "outputs": [
    {
     "name": "stdout",
     "output_type": "stream",
     "text": [
      "10\n"
     ]
    }
   ],
   "source": [
    "def subtracao(a, b):\n",
    "    return a - b\n",
    "\n",
    "print(subtracao(15, 5)) "
   ]
  },
  {
   "cell_type": "markdown",
   "metadata": {},
   "source": [
    "### 4. **Função de Multiplicação**:\n",
    "   - Crie uma função chamada `multiplicacao` que receba dois números como argumentos e retorne a multiplicação deles.\n"
   ]
  },
  {
   "cell_type": "code",
   "execution_count": 24,
   "metadata": {},
   "outputs": [
    {
     "name": "stdout",
     "output_type": "stream",
     "text": [
      "25\n"
     ]
    }
   ],
   "source": [
    "def multiplicacao(a, b):\n",
    "    return a * b\n",
    "\n",
    "print(multiplicacao(5, 5)) "
   ]
  },
  {
   "cell_type": "markdown",
   "metadata": {},
   "source": [
    "### 5. **Função de Divisão**:\n",
    "   - Crie uma função chamada `divisao` que receba dois números como argumentos e retorne a divisão do primeiro pelo segundo."
   ]
  },
  {
   "cell_type": "code",
   "execution_count": 26,
   "metadata": {},
   "outputs": [
    {
     "name": "stdout",
     "output_type": "stream",
     "text": [
      "4.0\n"
     ]
    }
   ],
   "source": [
    "def divisao(a, b):\n",
    "    return a / b\n",
    "\n",
    "print(divisao(20, 5)) "
   ]
  },
  {
   "cell_type": "markdown",
   "metadata": {},
   "source": [
    "### 6. **Função de Fatorial**:\n",
    "   - Crie uma função chamada `fatorial` que receba um número como argumento e retorne o fatorial desse número."
   ]
  },
  {
   "cell_type": "code",
   "execution_count": 32,
   "metadata": {},
   "outputs": [
    {
     "name": "stdout",
     "output_type": "stream",
     "text": [
      "O fatorial de 4 é 24\n"
     ]
    }
   ],
   "source": [
    "def fatorial(n):\n",
    "\n",
    "  if n < 0:\n",
    "    raise ValueError(\"O fatorial não está definido para números negativos\")\n",
    "  elif n == 0:\n",
    "    return 1\n",
    "  else:\n",
    "    return n * fatorial(n - 1)\n",
    "\n",
    "f = int(input(\"Digite um número não negativo: \"))\n",
    "print(f\"O fatorial de {f} é {fatorial(f)}\")\n"
   ]
  },
  {
   "cell_type": "markdown",
   "metadata": {},
   "source": [
    "### 7. **Função para Verificar Número Primo**:\n",
    "   - Crie uma função chamada `ePrimo` que receba um número como argumento e retorne `true` se o número for primo e `false` caso contrário."
   ]
  },
  {
   "cell_type": "code",
   "execution_count": 34,
   "metadata": {},
   "outputs": [
    {
     "name": "stdout",
     "output_type": "stream",
     "text": [
      "Par\n"
     ]
    }
   ],
   "source": [
    "def eprimo(n):\n",
    "    if n % 2 == 0:\n",
    "        return \"Par\"\n",
    "    else:\n",
    "        return \"Impar\"\n",
    "    \n",
    "e = int(input(\"Digite um numero: \"))\n",
    "print(eprimo(e))  # imprime se o número é par ou impar"
   ]
  },
  {
   "cell_type": "markdown",
   "metadata": {},
   "source": [
    "### 8. **Função para Calcular Média**:\n",
    "   - Crie uma função chamada `media` que receba um array de números como argumento e retorne a média dos números."
   ]
  },
  {
   "cell_type": "code",
   "execution_count": 38,
   "metadata": {},
   "outputs": [
    {
     "name": "stdout",
     "output_type": "stream",
     "text": [
      "5.25\n",
      "5.25\n"
     ]
    }
   ],
   "source": [
    "def media(n1, n2, n3, n4):\n",
    "    return (n1 + n2 + n3 + n4) / 4\n",
    "\n",
    "# Test the function\n",
    "print(media(5, 4, 8, 4)) \n",
    "\n",
    "n1 = int(input(\"Digite a primeira Media: \"))\n",
    "n2 = int(input(\"Digite a Segunda Media: \"))\n",
    "n3 = int(input(\"Digite a Terceira Media: \"))\n",
    "n4 = int(input(\"Digite a Quarta Media: \"))    \n",
    "\n",
    "print(media(n1, n2, n3, n4)) "
   ]
  },
  {
   "cell_type": "markdown",
   "metadata": {},
   "source": [
    "### 9. **Função para Inverter String**:\n",
    "   - Crie uma função chamada `inverterString` que receba uma string como argumento e retorne a string invertida."
   ]
  },
  {
   "cell_type": "code",
   "execution_count": 1,
   "metadata": {},
   "outputs": [
    {
     "name": "stdout",
     "output_type": "stream",
     "text": [
      "der\n"
     ]
    }
   ],
   "source": [
    "def inverter_string(s):\n",
    "  if len(s)==0:\n",
    "    return \"\"\n",
    "  else:\n",
    "    return s[-1] + inverter_string(s[:-1])\n",
    "\n",
    "#Uso\n",
    "print(inverter_string(\"red\"))"
   ]
  },
  {
   "cell_type": "markdown",
   "metadata": {},
   "source": [
    "### 10. **Função para Contar Caracteres**:\n",
    "    - Crie uma função chamada `contarCaracteres` que receba uma string e um caractere como argumentos e retorne o número de vezes que o caractere aparece na string.\n"
   ]
  },
  {
   "cell_type": "code",
   "execution_count": 7,
   "metadata": {},
   "outputs": [
    {
     "name": "stdout",
     "output_type": "stream",
     "text": [
      "Paulo\n",
      "5\n"
     ]
    }
   ],
   "source": [
    "def contarCaracteres(n):\n",
    "    return len(n)\n",
    "\n",
    "n = input(\"Digite uma frase: \")\n",
    "print(n)\n",
    "print(contarCaracteres(n))"
   ]
  },
  {
   "cell_type": "markdown",
   "metadata": {},
   "source": [
    "### 11. **Função Anônima**:\n",
    "    - Crie uma função anônima e atribua-a a uma variável chamada `multiplicar`. A função deve receber dois números como argumentos e retornar a multiplicação deles."
   ]
  },
  {
   "cell_type": "code",
   "execution_count": 12,
   "metadata": {},
   "outputs": [
    {
     "name": "stdout",
     "output_type": "stream",
     "text": [
      "A Multiplicação de 2.0 * 5.0 = 10.0\n"
     ]
    }
   ],
   "source": [
    "def multiplicar(a, b):\n",
    "    return a * b\n",
    "\n",
    "a = float(input(\"Digite o primeiro valor: \"))\n",
    "b = float(input(\"Digite o segundo valor: \"))\n",
    "\n",
    "print(f\"A Multiplicação de {a} * {b} = {multiplicar(a, b)}\")"
   ]
  },
  {
   "cell_type": "markdown",
   "metadata": {},
   "source": [
    "### 12. **Função de Ordem Superior**:\n",
    "    - Crie uma função chamada `operacao` que receba dois números e uma função como argumentos. A função deve aplicar a função fornecida aos dois números e retornar o resultado."
   ]
  },
  {
   "cell_type": "code",
   "execution_count": 12,
   "metadata": {},
   "outputs": [
    {
     "name": "stdout",
     "output_type": "stream",
     "text": [
      "10\n"
     ]
    }
   ],
   "source": [
    "def operacao(a, b):\n",
    "    return a + b\n",
    "\n",
    "def soma():\n",
    "    return 5 + 5\n",
    "\n",
    "resultado = operacao(soma(), 0)  # Chamando soma() e passando o resultado para operacao\n",
    "print(resultado) "
   ]
  },
  {
   "cell_type": "markdown",
   "metadata": {},
   "source": [
    "### 13. **Função de Retorno**:\n",
    "    - Crie uma função chamada `criarSaudacao` que receba uma saudação como argumento e retorne uma nova função. A função retornada deve receber um nome como argumento e exibir a saudação seguida pelo nome."
   ]
  },
  {
   "cell_type": "code",
   "execution_count": 37,
   "metadata": {},
   "outputs": [
    {
     "name": "stdout",
     "output_type": "stream",
     "text": [
      ", Olá, seja bem-vindo, Paulo!, <function nome at 0x000001DFD6C95580>\n"
     ]
    }
   ],
   "source": [
    "def criarSaudacao(saudacao):\n",
    "    return f\"\"\n",
    "\n",
    "def saudar(nome):\n",
    "    return (f\"{saudacao}, {nome}\")\n",
    "\n",
    "print(f\"{criarSaudacao(saudacao)}, {saudar(nome)}\")"
   ]
  },
  {
   "cell_type": "markdown",
   "metadata": {},
   "source": [
    "### 14. **Função Recursiva**:\n",
    "    - Crie uma função chamada `contagemRegressiva` que receba um número como argumento e exiba uma contagem regressiva a partir desse número até 0, usando recursão."
   ]
  },
  {
   "cell_type": "code",
   "execution_count": 46,
   "metadata": {},
   "outputs": [
    {
     "name": "stdout",
     "output_type": "stream",
     "text": [
      "10\n",
      "9\n",
      "8\n",
      "7\n",
      "6\n",
      "5\n",
      "4\n",
      "3\n",
      "2\n",
      "1\n",
      "0\n",
      "None\n"
     ]
    }
   ],
   "source": [
    "def contagemRegressiva():\n",
    "        for i in range(10, -1, -1):\n",
    "                print(i)\n",
    "\n",
    "print(contagemRegressiva())"
   ]
  },
  {
   "cell_type": "markdown",
   "metadata": {},
   "source": [
    "### 15. **Função para Calcular Fibonacci**:\n",
    "    - Crie uma função chamada `fibonacci` que receba um número `n` como argumento e retorne o `n`-ésimo número da sequência de Fibonacci.\n"
   ]
  },
  {
   "cell_type": "code",
   "execution_count": 51,
   "metadata": {},
   "outputs": [],
   "source": [
    "def fibonacci(n):\n",
    "    if n <= 0:\n",
    "        return \"Digite um numero Positivo\"\n",
    "    elif n == 1:\n",
    "        return 0\n",
    "    elif n == 2:\n",
    "        return 1\n",
    "    else:\n",
    "        return fibonacci(n - 1) + fibonacci(n - 2)\n",
    "    \n",
    "    resultado = fibonacci(10)\n",
    "    print(resultado)"
   ]
  },
  {
   "cell_type": "markdown",
   "metadata": {},
   "source": [
    "### 16. **Função para Converter Celsius para Fahrenheit**:\n",
    "    - Crie uma função chamada `celsiusParaFahrenheit` que receba uma temperatura em Celsius e retorne a temperatura convertida para Fahrenheit.\n"
   ]
  },
  {
   "cell_type": "code",
   "execution_count": 59,
   "metadata": {},
   "outputs": [
    {
     "name": "stdout",
     "output_type": "stream",
     "text": [
      "122.0\n"
     ]
    }
   ],
   "source": [
    "def celsiusParaFahrenheit(celsius):\n",
    "    fahrenheit = (celsius * 9/5) + 32\n",
    "    return fahrenheit\n",
    "   \n",
    "temperatura_celsius = 50\n",
    "\n",
    "print(celsiusParaFahrenheit(temperatura_celsius))"
   ]
  },
  {
   "cell_type": "markdown",
   "metadata": {},
   "source": [
    "### 17. **Função para Converter Fahrenheit para Celsius**:\n",
    "    - Crie uma função chamada `fahrenheitParaCelsius` que receba uma temperatura em Fahrenheit e retorne a temperatura convertida para Celsius.\n"
   ]
  },
  {
   "cell_type": "code",
   "execution_count": 60,
   "metadata": {},
   "outputs": [
    {
     "name": "stdout",
     "output_type": "stream",
     "text": [
      "10.0\n"
     ]
    }
   ],
   "source": [
    "def fahrenheitParaCelsius(fahrenheit):\n",
    "    return (fahrenheit - 32) * 5.0/9.0\n",
    "\n",
    "temperatura_fahrenheit = 50\n",
    "\n",
    "print(fahrenheitParaCelsius(temperatura_celsius))"
   ]
  },
  {
   "cell_type": "markdown",
   "metadata": {},
   "source": [
    "### 18. **Função para Verificar Paridade**:\n",
    "    - Crie uma função chamada `ePar` que receba um número como argumento e retorne `true` se o número for par e `false` caso contrário."
   ]
  },
  {
   "cell_type": "code",
   "execution_count": 63,
   "metadata": {},
   "outputs": [
    {
     "name": "stdout",
     "output_type": "stream",
     "text": [
      "False\n",
      "5 e Par\n"
     ]
    }
   ],
   "source": [
    "def epar(numero):\n",
    "    return numero % 2 == 0\n",
    "\n",
    "numero = 5\n",
    "print(epar(numero))  \n",
    "\n",
    "if resultado:\n",
    "    print(numero, \"e Par\")\n",
    "else:\n",
    "    print(numero, \"e Impar\")"
   ]
  },
  {
   "cell_type": "markdown",
   "metadata": {},
   "source": [
    "### 19. **Função para Calcular Quadrado**:\n",
    "    - Crie uma função chamada `quadrado` que receba um número como argumento e retorne o quadrado desse número.\n"
   ]
  },
  {
   "cell_type": "code",
   "execution_count": 64,
   "metadata": {},
   "outputs": [
    {
     "name": "stdout",
     "output_type": "stream",
     "text": [
      "25\n"
     ]
    }
   ],
   "source": [
    "def quadrado(n):\n",
    "    return n ** 2\n",
    "\n",
    "n = 5\n",
    "\n",
    "print(quadrado(n))"
   ]
  },
  {
   "cell_type": "markdown",
   "metadata": {},
   "source": [
    "### 20. **Função para Calcular Raiz Quadrada**:\n",
    "    - Crie uma função chamada `raizQuadrada` que receba um número como argumento e retorne a raiz quadrada desse número."
   ]
  },
  {
   "cell_type": "code",
   "execution_count": 70,
   "metadata": {},
   "outputs": [
    {
     "name": "stdout",
     "output_type": "stream",
     "text": [
      "10.0\n"
     ]
    }
   ],
   "source": [
    "# Utilizando a função math.sqrt()\n",
    "import math\n",
    "\n",
    "numero = 100\n",
    "raiz_quadrada = math.sqrt(numero)\n",
    "print(raiz_quadrada)"
   ]
  },
  {
   "cell_type": "markdown",
   "metadata": {},
   "source": [
    "### 21. **Função para Contar Vogais**:\n",
    "    - Crie uma função chamada `contarVogais` que receba uma string como argumento e retorne o número de vogais na string."
   ]
  },
  {
   "cell_type": "code",
   "execution_count": 72,
   "metadata": {},
   "outputs": [
    {
     "name": "stdout",
     "output_type": "stream",
     "text": [
      "O texto 'Olá, Pessoal' tem 4 vogais\n"
     ]
    }
   ],
   "source": [
    "def contarVogais(texto):\n",
    "  vogais = \"aeiou\"\n",
    "  vogais = vogais.lower()\n",
    "  contagem = 0\n",
    "\n",
    "  for letra in texto:\n",
    "    if letra.lower() in vogais:\n",
    "      contagem += 1\n",
    "\n",
    "  return contagem\n",
    "\n",
    "texto = \"Olá, Pessoal\"\n",
    "numero_vogais = contarVogais(texto)\n",
    "print(f\"O texto '{texto}' tem {numero_vogais} vogais\")"
   ]
  },
  {
   "cell_type": "markdown",
   "metadata": {},
   "source": [
    "### 22. **Função para Verificar Palíndromo**:\n",
    "    - Crie uma função chamada `ePalindromo` que receba uma string como argumento e retorne `true` se a string for um palíndromo e `false` caso contrário.\n"
   ]
  },
  {
   "cell_type": "code",
   "execution_count": 74,
   "metadata": {},
   "outputs": [
    {
     "name": "stdout",
     "output_type": "stream",
     "text": [
      "Não é um palíndromo.\n"
     ]
    }
   ],
   "source": [
    "def ePalindromo(texto):\n",
    "  texto = texto.lower().replace(\" \", \"\").replace(\",\", \"\").replace(\".\", \"\")  \n",
    "\n",
    "  # Inverter a string\n",
    "  texto_invertido = texto[::-1]\n",
    "\n",
    "  # Comparar a string original com a invertida\n",
    "  return texto == texto_invertido\n",
    "\n",
    "texto = \"A torre da maratona\"\n",
    "resultado = ePalindromo(texto)\n",
    "\n",
    "if resultado:\n",
    "  print(\"É um palíndromo!\")\n",
    "else:\n",
    "  print(\"Não é um palíndromo.\")"
   ]
  },
  {
   "cell_type": "markdown",
   "metadata": {},
   "source": [
    "### 23. **Função para Encontrar o Maior Número em um Array**:\n",
    "    - Crie uma função chamada `maiorNumero` que receba um array de números como argumento e retorne o maior número do array.\n",
    "    "
   ]
  },
  {
   "cell_type": "code",
   "execution_count": 75,
   "metadata": {},
   "outputs": [
    {
     "name": "stdout",
     "output_type": "stream",
     "text": [
      "O maior número é: 9\n"
     ]
    }
   ],
   "source": [
    "def maiorNumero(numeros):\n",
    "\n",
    "  if not numeros:\n",
    "    return None  # Retorna None se a lista estiver vazia\n",
    "\n",
    "  maior = numeros[0]  # Inicializa o maior número com o primeiro elemento da lista\n",
    "\n",
    "  for numero in numeros:\n",
    "    if numero > maior:\n",
    "      maior = numero\n",
    "\n",
    "  return maior\n",
    "\n",
    "\n",
    "numeros = [3, 7, 2, 9, 5]\n",
    "maior = maiorNumero(numeros)\n",
    "print(\"O maior número é:\", maior)"
   ]
  },
  {
   "cell_type": "markdown",
   "metadata": {},
   "source": [
    "### 24. **Função para Ordenar um Array em Ordem Crescente**:\n",
    "    - Crie uma função chamada `ordenarArray` que receba um array de números como argumento e retorne o array ordenado em ordem crescente.\n"
   ]
  },
  {
   "cell_type": "code",
   "execution_count": 76,
   "metadata": {},
   "outputs": [
    {
     "name": "stdout",
     "output_type": "stream",
     "text": [
      "[2, 3, 5, 7, 9]\n"
     ]
    }
   ],
   "source": [
    "def ordenarArray(numeros):\n",
    "  numeros_ordenados = numeros.copy()\n",
    "  numeros_ordenados.sort()\n",
    "  return numeros_ordenados\n",
    "\n",
    "numeros = [3, 7, 2, 9, 5]\n",
    "numeros_ordenados = ordenarArray(numeros)\n",
    "print(numeros_ordenados)  # Imprime: [2, 3, 5, 7, 9]"
   ]
  },
  {
   "cell_type": "markdown",
   "metadata": {},
   "source": [
    "### 25. **Função para Filtrar Números Pares**:\n",
    "    - Crie uma função chamada `filtrarPares` que receba um array de números como argumento e retorne um novo array contendo apenas os números pares.\n"
   ]
  },
  {
   "cell_type": "code",
   "execution_count": 77,
   "metadata": {},
   "outputs": [
    {
     "name": "stdout",
     "output_type": "stream",
     "text": [
      "[2, 4, 6, 8]\n"
     ]
    }
   ],
   "source": [
    "def filtrarPares(numeros):\n",
    "\n",
    "  pares = []\n",
    "  for numero in numeros:\n",
    "    if numero % 2 == 0:\n",
    "      pares.append(numero)\n",
    "  return pares\n",
    "\n",
    "numeros = [1, 2, 3, 4, 5, 6, 7, 8]\n",
    "pares = filtrarPares(numeros)\n",
    "print(pares)"
   ]
  },
  {
   "cell_type": "markdown",
   "metadata": {},
   "source": [
    "### 26. **Função para Concatenar Arrays**:\n",
    "    - Crie uma função chamada `concatenarArrays` que receba dois arrays como argumentos e retorne um novo array que seja a concatenação dos dois arrays.\n"
   ]
  },
  {
   "cell_type": "code",
   "execution_count": 78,
   "metadata": {},
   "outputs": [
    {
     "name": "stdout",
     "output_type": "stream",
     "text": [
      "[1, 2, 3, 4, 5, 6]\n"
     ]
    }
   ],
   "source": [
    "def concatenarArrays(array1, array2):\n",
    "  array_concatenado = array1 + array2\n",
    "  return array_concatenado\n",
    "\n",
    "array1 = [1, 2, 3]\n",
    "array2 = [4, 5, 6]\n",
    "array_final = concatenarArrays(array1, array2)\n",
    "print(array_final)  # Imprime: [1, 2, 3, 4, 5, 6]"
   ]
  },
  {
   "cell_type": "markdown",
   "metadata": {},
   "source": [
    "### 27. **Função de Memoização para Fatorial**:\n",
    "    - Crie uma função chamada `memoFatorial` que usa memoização para otimizar o cálculo do fatorial."
   ]
  },
  {
   "cell_type": "code",
   "execution_count": 79,
   "metadata": {},
   "outputs": [
    {
     "name": "stdout",
     "output_type": "stream",
     "text": [
      "120\n"
     ]
    }
   ],
   "source": [
    "def memoFatorial(n, memo={}):\n",
    "  if n == 0:\n",
    "    return 1\n",
    "  elif n not in memo:\n",
    "    memo[n] = n * memoFatorial(n - 1, memo)\n",
    "  return memo[n]\n",
    "\n",
    "print(memoFatorial(5)) "
   ]
  },
  {
   "cell_type": "markdown",
   "metadata": {},
   "source": [
    "### 28. **Função para Verificar Substring**:\n",
    "    - Crie uma função chamada `contemSubstring` que receba duas strings como argumentos e retorne `true` se a primeira string contiver a segunda string, e `false` caso contrário."
   ]
  },
  {
   "cell_type": "code",
   "execution_count": 80,
   "metadata": {},
   "outputs": [
    {
     "name": "stdout",
     "output_type": "stream",
     "text": [
      "A palavra 'mundo' está no texto.\n"
     ]
    }
   ],
   "source": [
    "def contemSubstring(string1, string2):\n",
    "  return string2 in string1\n",
    "\n",
    "\n",
    "texto = \"Olá, mundo!\"\n",
    "palavra = \"mundo\"\n",
    "\n",
    "if contemSubstring(texto, palavra):\n",
    "  print(\"A palavra 'mundo' está no texto.\")\n",
    "else:\n",
    "  print(\"A palavra 'mundo' não está no texto.\")"
   ]
  },
  {
   "cell_type": "markdown",
   "metadata": {},
   "source": [
    "### 29. **Função de Curry**:\n",
    "    - Crie uma função chamada `currySoma` que usa currying para somar três números. A função deve ser chamada assim: `currySoma(a)(b)(c)`."
   ]
  },
  {
   "cell_type": "code",
   "execution_count": 85,
   "metadata": {},
   "outputs": [
    {
     "name": "stdout",
     "output_type": "stream",
     "text": [
      "6\n"
     ]
    }
   ],
   "source": [
    "def currySoma(a):\n",
    "  def soma_b(b):\n",
    "    def soma_c(c):\n",
    "      return a + b + c\n",
    "    return soma_c\n",
    "  return soma_b\n",
    "\n",
    "resultado = currySoma(3)(2)(1)\n",
    "print(resultado)  # Imprime: 6"
   ]
  },
  {
   "cell_type": "markdown",
   "metadata": {},
   "source": [
    "### 30. **Função para Reduzir um Array**:\n",
    "    - Crie uma função chamada `reduzirArray` que receba um array de números e uma função de redução (callback) como argumentos e retorne o valor reduzido."
   ]
  },
  {
   "cell_type": "code",
   "execution_count": 86,
   "metadata": {},
   "outputs": [
    {
     "name": "stdout",
     "output_type": "stream",
     "text": [
      "10\n"
     ]
    }
   ],
   "source": [
    "def reduzirArray(array, funcao_reducao):\n",
    "  if not array:\n",
    "    raise ValueError(\"O array não pode estar vazio\")\n",
    "\n",
    "  valor_acumulado = array[0]\n",
    "  for elemento in array[1:]:\n",
    "    valor_acumulado = funcao_reducao(valor_acumulado, elemento)\n",
    "  return valor_acumulado\n",
    "\n",
    "def soma(a, b):\n",
    "  return a + b\n",
    "\n",
    "numeros = [1, 2, 3, 4]\n",
    "resultado = reduzirArray(numeros, soma)\n",
    "print(resultado)  # Imprime: 10\n"
   ]
  },
  {
   "cell_type": "markdown",
   "metadata": {},
   "source": [
    "### 31. **Função para Remover Duplicatas de um Array**:\n",
    "    - Crie uma função chamada `removerDuplicatas` que receba um array como argumento e retorne um novo array sem duplicatas."
   ]
  },
  {
   "cell_type": "code",
   "execution_count": 87,
   "metadata": {},
   "outputs": [
    {
     "name": "stdout",
     "output_type": "stream",
     "text": [
      "[1, 2, 3, 4]\n"
     ]
    }
   ],
   "source": [
    "def remover_duplicatas(lista):\n",
    "  return list(set(lista))\n",
    "\n",
    "minha_lista = [1, 2, 2, 3, 4, 4, 1]\n",
    "lista_sem_duplicatas = remover_duplicatas(minha_lista)\n",
    "print(lista_sem_duplicatas)  # Imprime: [1, 2, 3, 4]\n"
   ]
  },
  {
   "cell_type": "markdown",
   "metadata": {},
   "source": [
    "### 32. **Função de Composição**:\n",
    "    - Crie uma função chamada `compor` que receba duas funções como argumentos e retorne uma nova função que é a composição das duas."
   ]
  },
  {
   "cell_type": "code",
   "execution_count": 88,
   "metadata": {},
   "outputs": [
    {
     "name": "stdout",
     "output_type": "stream",
     "text": [
      "36\n"
     ]
    }
   ],
   "source": [
    "def compor(f, g):\n",
    "  \n",
    "\n",
    "  def composicao(x):\n",
    "    return f(g(x))\n",
    "  return composicao\n",
    "\n",
    "def quadrado(x):\n",
    "  return x * x\n",
    "\n",
    "def dobro(x):\n",
    "  return x * 2\n",
    "\n",
    "# Compondo as funções\n",
    "quadrado_do_dobro = compor(quadrado, dobro)\n",
    "\n",
    "resultado = quadrado_do_dobro(3)\n",
    "print(resultado)  # Imprime: 36 (pois (3 * 2)^2 = 36)"
   ]
  },
  {
   "cell_type": "markdown",
   "metadata": {},
   "source": [
    "### 33. **Função para Mapear um Array**:\n",
    "    - Crie uma função chamada `mapearArray` que receba um array e uma função de mapeamento (callback) como argumentos e retorne um novo array com os resultados da função de mapeamento aplicada a cada elemento."
   ]
  },
  {
   "cell_type": "code",
   "execution_count": 90,
   "metadata": {},
   "outputs": [
    {
     "name": "stdout",
     "output_type": "stream",
     "text": [
      "[2, 4, 6, 8]\n"
     ]
    }
   ],
   "source": [
    "def mapearArray(array, funcao_mapeamento):\n",
    "  novo_array = []\n",
    "  for elemento in array:\n",
    "    novo_valor = funcao_mapeamento(elemento)\n",
    "    novo_array.append(novo_valor)\n",
    "  return novo_array\n",
    "\n",
    "def dobrar(x):\n",
    "  return x * 2\n",
    "\n",
    "numeros = [1, 2, 3, 4]\n",
    "resultados = mapearArray(numeros, dobrar)\n",
    "print(resultados)  # Imprime: [2, 4, 6, 8]\n",
    "\n"
   ]
  },
  {
   "cell_type": "markdown",
   "metadata": {},
   "source": [
    "### 34. **Função de Ordenação Personalizada**:\n",
    "    - Crie uma função chamada `ordenarPersonalizado` que receba um array de objetos e uma função de comparação (callback) como argumentos e retorne o array ordenado."
   ]
  },
  {
   "cell_type": "code",
   "execution_count": 94,
   "metadata": {},
   "outputs": [
    {
     "name": "stdout",
     "output_type": "stream",
     "text": [
      "Ordenado por idade:\n",
      "Bob 25\n",
      "Alice 30\n",
      "David 30\n",
      "Charlie 35\n",
      "\n",
      "Ordenado por nome:\n",
      "Alice 30\n",
      "Bob 25\n",
      "Charlie 35\n",
      "David 30\n"
     ]
    }
   ],
   "source": [
    "from functools import cmp_to_key\n",
    "\n",
    "def ordenar_personalizado(array, comparacao=None):\n",
    "    \"\"\"Ordena um array de objetos usando uma função de comparação.\n",
    "\n",
    "    Args:\n",
    "        array: Um array de objetos a serem ordenados.\n",
    "        comparacao: Uma função de comparação que recebe dois objetos e retorna:\n",
    "            - Um número negativo se o primeiro objeto deve vir antes do segundo.\n",
    "            - Zero se os objetos são considerados iguais.\n",
    "            - Um número positivo se o primeiro objeto deve vir depois do segundo.\n",
    "            Se None, utiliza a ordem natural dos objetos.\n",
    "\n",
    "    Returns:\n",
    "        Uma nova lista com os objetos ordenados.\n",
    "    \"\"\"\n",
    "\n",
    "    if comparacao is None:\n",
    "        return sorted(array)  # Utiliza a ordem natural dos objetos\n",
    "\n",
    "    try:\n",
    "        array_copiado = array.copy()\n",
    "        array_copiado.sort(key=cmp_to_key(comparacao))\n",
    "        return array_copiado\n",
    "    except TypeError:\n",
    "        raise TypeError(\"A função de comparação deve retornar um número.\")\n",
    "\n",
    "class Pessoa:\n",
    "    def __init__(self, nome, idade):\n",
    "        self.nome = nome\n",
    "        self.idade = idade\n",
    "\n",
    "# Criando uma lista de pessoas\n",
    "pessoas = [\n",
    "    Pessoa(\"Alice\", 30),\n",
    "    Pessoa(\"Bob\", 25),\n",
    "    Pessoa(\"Charlie\", 35),\n",
    "    Pessoa(\"David\", 30)  # Adicionando outra pessoa com a mesma idade que Alice\n",
    "]\n",
    "\n",
    "# Função de comparação por idade (já definida)\n",
    "def comparar_por_idade(p1, p2):\n",
    "    return p1.idade - p2.idade\n",
    "\n",
    "# Nova função de comparação por nome\n",
    "def comparar_por_nome(p1, p2):\n",
    "    return p1.nome.lower() > p2.nome.lower()  # Ordenação alfabética em minúsculo\n",
    "\n",
    "# Ordenando por idade\n",
    "pessoas_ordenadas_por_idade = ordenar_personalizado(pessoas, comparar_por_idade)\n",
    "\n",
    "# Ordenando por nome\n",
    "pessoas_ordenadas_por_nome = ordenar_personalizado(pessoas, comparar_por_nome)\n",
    "\n",
    "# Imprimindo os resultados\n",
    "print(\"Ordenado por idade:\")\n",
    "for pessoa in pessoas_ordenadas_por_idade:\n",
    "    print(pessoa.nome, pessoa.idade)\n",
    "\n",
    "print(\"\\nOrdenado por nome:\")\n",
    "for pessoa in pessoas_ordenadas_por_nome:\n",
    "    print(pessoa.nome, pessoa.idade)"
   ]
  },
  {
   "cell_type": "code",
   "execution_count": null,
   "metadata": {},
   "outputs": [],
   "source": []
  }
 ],
 "metadata": {
  "kernelspec": {
   "display_name": "Python 3",
   "language": "python",
   "name": "python3"
  },
  "language_info": {
   "codemirror_mode": {
    "name": "ipython",
    "version": 3
   },
   "file_extension": ".py",
   "mimetype": "text/x-python",
   "name": "python",
   "nbconvert_exporter": "python",
   "pygments_lexer": "ipython3",
   "version": "3.12.4"
  }
 },
 "nbformat": 4,
 "nbformat_minor": 2
}
