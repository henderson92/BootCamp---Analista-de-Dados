{
 "cells": [
  {
   "cell_type": "markdown",
   "metadata": {},
   "source": [
    "### Pandas"
   ]
  },
  {
   "cell_type": "markdown",
   "metadata": {},
   "source": [
    " - DataFrames: - Estruturas de dados bidimensional, semelhante a uma tabela ou uma planilha.\n",
    "\n",
    " - Series: - Estrutura de dados unidimensional...Uma coluna de um DataFrame.\n",
    "\n",
    " - Indexação e Seleção: - Oferece várias maneiras de acessar e selecionar dados."
   ]
  },
  {
   "cell_type": "code",
   "execution_count": 5,
   "metadata": {},
   "outputs": [
    {
     "name": "stdout",
     "output_type": "stream",
     "text": [
      "                  Idade  Total de anos trabalhados      Categoria\n",
      "Escolaridade                                                     \n",
      "1             41.476190                  12.952381  Intermédiário\n",
      "2             40.215385                  11.969231         Novato\n",
      "3             40.530435                  14.060870  Intermédiário\n",
      "4             39.252174                  12.660870  Intermédiário\n",
      "5             42.071429                  14.500000  Intermédiário\n"
     ]
    },
    {
     "name": "stderr",
     "output_type": "stream",
     "text": [
      "C:\\Users\\paulo\\AppData\\Local\\Temp\\ipykernel_15916\\3093422745.py:36: FutureWarning: A value is trying to be set on a copy of a DataFrame or Series through chained assignment using an inplace method.\n",
      "The behavior will change in pandas 3.0. This inplace method will never work because the intermediate object on which we are setting values always behaves as a copy.\n",
      "\n",
      "For example, when doing 'df[col].method(value, inplace=True)', try using 'df.method({col: value}, inplace=True)' or df[col] = df[col].method(value) instead, to perform the operation inplace on the original object.\n",
      "\n",
      "\n",
      "  df_ordenado['email'].fillna(\"sem_email\", inplace=True) #NaN\n",
      "C:\\Users\\paulo\\AppData\\Local\\Temp\\ipykernel_15916\\3093422745.py:36: SettingWithCopyWarning: \n",
      "A value is trying to be set on a copy of a slice from a DataFrame\n",
      "\n",
      "See the caveats in the documentation: https://pandas.pydata.org/pandas-docs/stable/user_guide/indexing.html#returning-a-view-versus-a-copy\n",
      "  df_ordenado['email'].fillna(\"sem_email\", inplace=True) #NaN\n",
      "C:\\Users\\paulo\\AppData\\Local\\Temp\\ipykernel_15916\\3093422745.py:37: SettingWithCopyWarning: \n",
      "A value is trying to be set on a copy of a slice from a DataFrame\n",
      "\n",
      "See the caveats in the documentation: https://pandas.pydata.org/pandas-docs/stable/user_guide/indexing.html#returning-a-view-versus-a-copy\n",
      "  df_ordenado['email'].replace(\"\",\"NaN\", inplace=True) #NaN\n"
     ]
    }
   ],
   "source": [
    "#Leitura de Dados\n",
    "\n",
    "import pandas as pd\n",
    "\n",
    "#Ler dados de um arquivo.csv\n",
    "df = pd.read_csv('Base de dados - Dados sobre desgaste de funcionarios.csv')\n",
    "\n",
    "# Visualização e Exploração\n",
    "# Visualizar as primeiras linhas\n",
    "# print(df.head())\n",
    "\n",
    "#Obter informações sobre o Dataframe\n",
    "# print(df.info)\n",
    "\n",
    "# Manipulação de Dados\n",
    "#Filtrar dados\n",
    "df_filtro_idade = df[df['Idade']>30]\n",
    "# print(df_filtro_idade)\n",
    "\n",
    "#Filtrar dados\n",
    "df_filtro_idade_vendas = df[(df['Idade']>30) & (df['Departamento'] == 'Vendas')]\n",
    "# print(df_filtro_idade_vendas)\n",
    "\n",
    "#Filtrar dados\n",
    "df_filtro_idade_vendas2 = df[(df['Idade']>30) & (df['Departamento'] == 'Vendas')][['Idade', 'Escolaridade', 'Departamento', 'Total de anos trabalhados']]\n",
    "# print(df_filtro_idade_vendas2)\n",
    "\n",
    "#Adicionando uma nova coluna\n",
    "df_filtro_idade_vendas2['email'] = None\n",
    "# print(df_filtro_idade_vendas2)\n",
    "\n",
    "df_ordenado = df_filtro_idade_vendas2[['Idade', 'Escolaridade', 'email', 'Departamento', 'Total de anos trabalhados']]\n",
    "# print(df_ordenado)\n",
    "\n",
    "#Tratamento de dados Faltantes\n",
    "df_ordenado['email'].fillna(\"sem_email\", inplace=True) #NaN\n",
    "df_ordenado['email'].replace(\"\",\"NaN\", inplace=True) #NaN\n",
    "# print(df_ordenado)\n",
    "\n",
    "#Agrupar por uma coluna e calcular a média\n",
    "df_agrupado = df_ordenado.groupby('Escolaridade')[['Idade','Total de anos trabalhados']].mean()\n",
    "# print(df_agrupado)\n",
    "\n",
    "#Adicionar a coluna com a categorização\n",
    "def categorizar(row):\n",
    "  if row['Total de anos trabalhados'] > 0 and row['Total de anos trabalhados'] <=12:\n",
    "    return 'Novato'\n",
    "  elif row['Total de anos trabalhados'] > 12 and row['Total de anos trabalhados'] <=20:\n",
    "    return 'Intermédiário'\n",
    "  elif row['Total de anos trabalhados'] > 20:\n",
    "    return 'Vetereno'\n",
    "  else:\n",
    "    return 'Sem experiência'\n",
    "\n",
    "df_agrupado['Categoria'] = df_agrupado.apply(categorizar, axis=1)\n",
    "print(df_agrupado)\n",
    "\n",
    "#axis=0 eixo de linhas ou eixo vertical (analiso coluna a coluna)\n",
    "#axis=1 eixo de coluna ou eixo horizontal(analiso linha a linha)"
   ]
  },
  {
   "cell_type": "code",
   "execution_count": 1,
   "metadata": {},
   "outputs": [
    {
     "name": "stdout",
     "output_type": "stream",
     "text": [
      "0    5028\n",
      "1    6042\n",
      "2    8060\n",
      "3    5544\n",
      "dtype: int64\n"
     ]
    }
   ],
   "source": [
    "import pandas as pd\n",
    "\n",
    "#Criação de um DataFrame de exemplo\n",
    "dados = {\n",
    "    'Idade': [25,32,40,29],\n",
    "    'Anos_Trabalhados': [3,10,20,15],\n",
    "    'Salario': [5000,6000,8000,5500]\n",
    "}\n",
    "\n",
    "df=pd.DataFrame(dados)\n",
    "\n",
    "#Somando os valores de cada coluna usando axis=0\n",
    "soma_colunas = df.sum(axis=0)\n",
    "# print(soma_colunas)\n",
    "\n",
    "#Somando os valores de cada linha usando axis=1\n",
    "soma_linhas = df.sum(axis=1)\n",
    "print(soma_linhas)\n",
    "\n",
    "\n"
   ]
  },
  {
   "cell_type": "code",
   "execution_count": 3,
   "metadata": {},
   "outputs": [
    {
     "name": "stdout",
     "output_type": "stream",
     "text": [
      "categoria\n",
      "A    3920.833333\n",
      "B    4845.833333\n",
      "Name: salario_bruto, dtype: float64\n",
      "       nome          cidade  idade  salario_bruto categoria\n",
      "0       ANA       São Paulo  Jovem    3000.000000         A\n",
      "4   EDUARDA    Desconhecida  Jovem    3800.000000         A\n",
      "6  GABRIELA        Salvador  Adult    4383.333333         A\n",
      "2     CARLA       São Paulo  Adult    4500.000000         A\n",
      "7  HENRIQUE       São Paulo  Adult    4800.000000         B\n",
      "3    DANIEL  Rio de Janeiro  Adult    4383.333333         B\n",
      "5    FELIPE       São Paulo  Adult    5200.000000         B\n",
      "1     BRUNO  Rio de Janeiro  Adult    5000.000000         B\n"
     ]
    },
    {
     "name": "stderr",
     "output_type": "stream",
     "text": [
      "C:\\Users\\paulo\\AppData\\Local\\Temp\\ipykernel_15916\\2174628881.py:65: FutureWarning: The default of observed=False is deprecated and will be changed to True in a future version of pandas. Pass observed=False to retain current behavior or observed=True to adopt the future default and silence this warning.\n",
      "  df_agrupado = df.groupby('categoria')['salario_bruto'].mean()\n"
     ]
    }
   ],
   "source": [
    "import pandas as pd\n",
    "import numpy as np\n",
    "\n",
    "# Criando um DataFrame de exemplo\n",
    "data = {\n",
    "    'nome': ['Ana', 'Bruno', 'Carla', 'Daniel', 'Eduarda', 'Felipe', 'Gabriela', 'Henrique'],\n",
    "    'idade': [23, 45, np.nan, 36, 29, 41, 30, 36],\n",
    "    'cidade': ['São Paulo', 'Rio de Janeiro', 'São Paulo', 'Rio de Janeiro', np.nan, 'São Paulo', 'Salvador', 'São Paulo'],\n",
    "    'salario': [3000, 5000, 4500, np.nan, 3800, 5200, np.nan, 4800],\n",
    "    'categoria': ['A', 'B', 'A', 'B', 'A', 'B', 'A', 'B']\n",
    "}\n",
    "\n",
    "df = pd.DataFrame(data)\n",
    "# print(df)\n",
    "\n",
    "## Remover Duplicatas\n",
    "df = df.drop_duplicates()\n",
    "# print(df)\n",
    "\n",
    "##Tratar Dados Faltantes\n",
    "## Detectar os dados faltantes\n",
    "# print(df.isnull().sum()) # Conta os valores ausentes por coluna\n",
    "\n",
    "## Preencher os valores faltantes idade e salario\n",
    "df['idade'] = df['idade'].fillna(df['idade'].mean())\n",
    "df['salario'] = df['salario'].fillna(df['salario'].mean())\n",
    "\n",
    "# Preencher valores faltantes em cidade com \"desconhecida\"\n",
    "df['cidade'] = df['cidade'].fillna('Desconhecida')\n",
    "# print(df)\n",
    "\n",
    "## Filtrar Dados\n",
    "df_filtrado = df[(df['idade']>30) & (df['cidade'] == 'São Paulo')]\n",
    "# print(df_filtrado)\n",
    "\n",
    "## Alterar Tipos de Dados\n",
    "df['idade'] = pd.to_numeric(df['idade'], errors='coerce')\n",
    "df['categoria'] = df['categoria'].astype('category')\n",
    "# print(df.dtypes)\n",
    "\n",
    "## Renomear Colunas\n",
    "df = df.rename(columns={'salario': 'salario_bruto'})\n",
    "# print(df)\n",
    "\n",
    "##Alterar a ordem das Colunas\n",
    "df = df[['nome', 'cidade', 'idade', 'salario_bruto', 'categoria']]\n",
    "# print(df)\n",
    "\n",
    "##Manipulando String\n",
    "df['nome'] = df['nome'].str.upper()\n",
    "# print(df)\n",
    "\n",
    "##Aplicar Funções Personalizadas\n",
    "def calcular_imposto(salario):\n",
    "  return salario * 0.1\n",
    "\n",
    "df['imposto'] = df['salario_bruto'].apply(calcular_imposto)\n",
    "# print(df)\n",
    "\n",
    "##Classificação e Ordenação\n",
    "df = df.sort_values(by='idade', ascending=True)\n",
    "# print(df)\n",
    "\n",
    "## Agrupamento e Agregação\n",
    "df_agrupado = df.groupby('categoria')['salario_bruto'].mean()\n",
    "print(df_agrupado)\n",
    "\n",
    "\n",
    "## Remoção de Colunas\n",
    "df = df.drop(columns=['imposto'])\n",
    "\n",
    "\n",
    "##Criar uma nova coluna 'faixa_etaria' baseada na idade\n",
    "df['idade'] = df['idade'].apply(lambda x: 'Jovem' if x < 30 else 'Adult')\n",
    "print(df)"
   ]
  },
  {
   "cell_type": "code",
   "execution_count": null,
   "metadata": {},
   "outputs": [],
   "source": []
  }
 ],
 "metadata": {
  "kernelspec": {
   "display_name": "Python 3",
   "language": "python",
   "name": "python3"
  },
  "language_info": {
   "codemirror_mode": {
    "name": "ipython",
    "version": 3
   },
   "file_extension": ".py",
   "mimetype": "text/x-python",
   "name": "python",
   "nbconvert_exporter": "python",
   "pygments_lexer": "ipython3",
   "version": "3.12.4"
  }
 },
 "nbformat": 4,
 "nbformat_minor": 2
}
