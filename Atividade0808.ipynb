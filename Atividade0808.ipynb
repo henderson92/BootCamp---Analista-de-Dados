{
 "cells": [
  {
   "cell_type": "markdown",
   "metadata": {},
   "source": [
    "### 1.1. Crie variáveis para armazenar o nome, idade, peso e altura de uma pessoa. Imprima os valores e os tipos de dados dessas variáveis."
   ]
  },
  {
   "cell_type": "code",
   "execution_count": 6,
   "metadata": {},
   "outputs": [
    {
     "name": "stdout",
     "output_type": "stream",
     "text": [
      "Paulo\n",
      "<class 'str'>\n",
      "32\n",
      "<class 'int'>\n",
      "1.75\n",
      "<class 'float'>\n",
      "89.0\n",
      "<class 'float'>\n"
     ]
    }
   ],
   "source": [
    "\n",
    "nome = input(\"Digite seu nome: \")\n",
    "idade = int(input(\"Digite sua idade: \"))\n",
    "altura = float(input(\"Digite sua altura: \"))\n",
    "peso = float(input(\"Digite seu peso: \"))\n",
    "\n",
    "print(nome)\n",
    "print(type(nome))\n",
    "print(idade)\n",
    "print(type(idade))\n",
    "print(altura)\n",
    "print(type(altura))\n",
    "print(peso)\n",
    "print(type(peso))\n"
   ]
  },
  {
   "cell_type": "markdown",
   "metadata": {},
   "source": [
    "### 1.2. Atualize a variável de peso para um valor diferente e imprima o novo valor.\n",
    "\n"
   ]
  },
  {
   "cell_type": "code",
   "execution_count": 10,
   "metadata": {},
   "outputs": [
    {
     "name": "stdout",
     "output_type": "stream",
     "text": [
      "{'nome': 'Paulo', 'idade': 32, 'cidade': 'Belem', 'peso': '89', 'Altura': '1.75'}\n"
     ]
    }
   ],
   "source": [
    "pessoa = {\n",
    "    \"nome\": \"Paulo\",\n",
    "    \"idade\": 32,\n",
    "    \"cidade\": \"Belem\",\n",
    "    \"peso\": \"89\",\n",
    "    \"Altura\": \"1.75\"\n",
    "}\n",
    "\n",
    "print(pessoa)"
   ]
  },
  {
   "cell_type": "code",
   "execution_count": 11,
   "metadata": {},
   "outputs": [],
   "source": [
    "pessoa [\"peso\"] = 80"
   ]
  },
  {
   "cell_type": "code",
   "execution_count": 12,
   "metadata": {},
   "outputs": [
    {
     "name": "stdout",
     "output_type": "stream",
     "text": [
      "{'nome': 'Paulo', 'idade': 32, 'cidade': 'Belem', 'peso': 80, 'Altura': '1.75'}\n"
     ]
    }
   ],
   "source": [
    "print(pessoa)"
   ]
  },
  {
   "cell_type": "markdown",
   "metadata": {},
   "source": [
    "### 2.1. Crie uma variável a com valor 10 e uma variável b com valor 3. Realize as seguintes operações e imprima os resultados:\n",
    "- Soma\n",
    "- Subtração\n",
    "- Multiplicação\n",
    "- Divisão\n",
    "- Parte inteira da divisão\n",
    "- Resto da divisão\n",
    "- Exponenciação"
   ]
  },
  {
   "cell_type": "code",
   "execution_count": 17,
   "metadata": {},
   "outputs": [
    {
     "name": "stdout",
     "output_type": "stream",
     "text": [
      "13\n",
      "7\n",
      "30\n",
      "3.3333333333333335\n",
      "3\n",
      "1\n",
      "1000\n"
     ]
    }
   ],
   "source": [
    "a = 10 \n",
    "b = 3\n",
    "\n",
    "resultado = a + b\n",
    "print(resultado)\n",
    "\n",
    "resultado = a - b\n",
    "print(resultado)\n",
    "\n",
    "resultado = a * b\n",
    "print(resultado)\n",
    "\n",
    "resultado = a / b\n",
    "print(resultado)\n",
    "\n",
    "resultado = a // b\n",
    "print(resultado)\n",
    "\n",
    "resultado = a % b\n",
    "print(resultado)\n",
    "\n",
    "resultado = a ** b\n",
    "print(resultado)"
   ]
  },
  {
   "cell_type": "markdown",
   "metadata": {},
   "source": [
    "### 3.1. Peça ao usuário para digitar seu nome e armazene em uma variável. Imprima uma mensagem de boas-vindas usando o nome fornecido.\n",
    "\n",
    "### 3.2. Peça ao usuário para digitar sua idade, peso e altura. Calcule o IMC e imprima o resultado arredondado para três casas decimais."
   ]
  },
  {
   "cell_type": "code",
   "execution_count": 18,
   "metadata": {},
   "outputs": [
    {
     "name": "stdout",
     "output_type": "stream",
     "text": [
      "Seja Bem vindo Paulo\n"
     ]
    }
   ],
   "source": [
    "nome = input(\"Digite seu nome: \")\n",
    "print(f\"Seja Bem vindo {nome}\")"
   ]
  },
  {
   "cell_type": "code",
   "execution_count": 27,
   "metadata": {},
   "outputs": [
    {
     "name": "stdout",
     "output_type": "stream",
     "text": [
      "29.06122448979592\n",
      "O seu pesso e 29.06\n"
     ]
    }
   ],
   "source": [
    "idade = int(input(\"Digite sua idade: \"))\n",
    "altura = float(input(\"Digite sua altura: \"))\n",
    "peso = float(input(\"Digite seu peso: \"))\n",
    "\n",
    " # (a > b) # Saida: True - Maior\n",
    " # (a < b) # Saida: False - Menor\n",
    "\n",
    "IMC = peso / (altura * altura)\n",
    "print(IMC)\n",
    "print(f'O seu pesso e {IMC:,.2f}')\n"
   ]
  },
  {
   "cell_type": "markdown",
   "metadata": {},
   "source": [
    "### 4.1. Peça ao usuário para digitar um número e imprima o número digitado."
   ]
  },
  {
   "cell_type": "code",
   "execution_count": 28,
   "metadata": {},
   "outputs": [
    {
     "name": "stdout",
     "output_type": "stream",
     "text": [
      "10.0\n"
     ]
    }
   ],
   "source": [
    "numero = float(input(\"Digite um numero: \"))\n",
    "print(numero)"
   ]
  },
  {
   "cell_type": "markdown",
   "metadata": {},
   "source": [
    "### 4.2. Peça ao usuário para digitar dois números e imprima a soma deles."
   ]
  },
  {
   "cell_type": "code",
   "execution_count": 30,
   "metadata": {},
   "outputs": [
    {
     "name": "stdout",
     "output_type": "stream",
     "text": [
      "A soma dos numeros e 15.00\n"
     ]
    }
   ],
   "source": [
    "num1 = float(input(\"Digite primeiro numero: \"))\n",
    "num2 = float(input(\"Digite segundo numero: \"))\n",
    "\n",
    "soma = num1 + num2\n",
    "\n",
    "print(f\"A soma dos numeros e {soma:,.2f}\")"
   ]
  },
  {
   "cell_type": "markdown",
   "metadata": {},
   "source": [
    "### 5.1. Peça ao usuário para digitar um e-mail e verifique se o e-mail contém o caractere '@'. Imprima uma mensagem indicando se é um e-mail válido ou não."
   ]
  },
  {
   "cell_type": "code",
   "execution_count": 35,
   "metadata": {},
   "outputs": [
    {
     "name": "stdout",
     "output_type": "stream",
     "text": [
      "Email válido\n"
     ]
    }
   ],
   "source": [
    "email = (input(\"Digite seu email: \"))\n",
    "\n",
    "if  \"@\"  in email   :\n",
    "    print(\"Email válido\")\n",
    "else:\n",
    "    print(\"Email inválido\")\n"
   ]
  },
  {
   "cell_type": "markdown",
   "metadata": {},
   "source": [
    "### 5.2. Peça ao usuário para digitar uma frase e:\n",
    " - Converta a frase para maiúsculas.\n",
    " - Converta a frase para minúsculas.\n",
    " - Converta a primeira letra de cada palavra para maiúscula.\n",
    " - Verifique se a frase começa com uma determinada palavra (ex.: 'Olá')."
   ]
  },
  {
   "cell_type": "code",
   "execution_count": 36,
   "metadata": {},
   "outputs": [
    {
     "name": "stdout",
     "output_type": "stream",
     "text": [
      "OLÁ EU SOU O PAULO HENDERSON \n",
      "olá eu sou o paulo henderson \n",
      "Olá Eu Sou O Paulo Henderson \n",
      "True\n"
     ]
    }
   ],
   "source": [
    "frase = input(\"Digite uma frase : \")\n",
    "\n",
    "print(frase.upper())\n",
    "print(frase.lower())\n",
    "print(frase.title())\n",
    "print(frase.startswith(\"Olá\"))\n"
   ]
  },
  {
   "cell_type": "markdown",
   "metadata": {},
   "source": [
    "### 6.1. Crie uma lista com os nomes de cinco amigos. Imprima o nome do terceiro amigo na lista."
   ]
  },
  {
   "cell_type": "code",
   "execution_count": 44,
   "metadata": {},
   "outputs": [
    {
     "name": "stdout",
     "output_type": "stream",
     "text": [
      "['Handerson', 'Bidu', 'Kathleen', 'Luiza', 'Sergio']\n",
      "Kathleen\n"
     ]
    }
   ],
   "source": [
    "amigos = [\"Handerson\",\"Bidu\",\"Kathleen\",\"Luiza\",\"Sergio\"]\n",
    "print(amigos)\n",
    "print(amigos[2]) "
   ]
  },
  {
   "cell_type": "markdown",
   "metadata": {},
   "source": [
    "### Adicione um novo nome à lista de amigos e remova o primeiro nome. Imprima a lista atualizada."
   ]
  },
  {
   "cell_type": "code",
   "execution_count": 49,
   "metadata": {},
   "outputs": [
    {
     "name": "stdout",
     "output_type": "stream",
     "text": [
      "['Bidu', 'Kathleen', 'Luiza', 'Sergio', 'Alcimar', 'Alcimar', 'Alcimar', 'Alcimar']\n"
     ]
    }
   ],
   "source": [
    "print(amigos)\n",
    "\n",
    "amigos.append(\"Alcimar\")\n",
    "print(amigos)"
   ]
  },
  {
   "cell_type": "code",
   "execution_count": 52,
   "metadata": {},
   "outputs": [
    {
     "name": "stdout",
     "output_type": "stream",
     "text": [
      "['Bidu', 'Kathleen', 'Luiza', 'Sergio', 'Alcimar']\n"
     ]
    }
   ],
   "source": [
    "amigos.remove(\"Alcimar\")\n",
    "print(amigos)"
   ]
  },
  {
   "cell_type": "markdown",
   "metadata": {},
   "source": [
    "### 6.3. Crie uma lista com as idades dos seus amigos e:\n",
    " - Imprima a idade do amigo mais velho.\n",
    " - Imprima a idade do amigo mais novo.\n",
    " - Calcule e imprima a soma das idades."
   ]
  },
  {
   "cell_type": "code",
   "execution_count": 59,
   "metadata": {},
   "outputs": [
    {
     "name": "stdout",
     "output_type": "stream",
     "text": [
      "A idade do amigo mais novo e 18\n",
      "A idade do amigo mais velho e 62\n",
      "A soma das idades e 200\n"
     ]
    }
   ],
   "source": [
    "idade = [18, 32, 59, 62, 29]\n",
    "total = sum(idade)\n",
    "\n",
    "print(f\"A idade do amigo mais novo e {min(idade)}\")\n",
    "print(f\"A idade do amigo mais velho e {max(idade)}\")\n",
    "print(f\"A soma das idades e {total}\")"
   ]
  },
  {
   "cell_type": "markdown",
   "metadata": {},
   "source": [
    "### 7.1 Crie uma tupla com as informações de um cliente (nome, idade, peso, altura).Imprima todas as informações."
   ]
  },
  {
   "cell_type": "code",
   "execution_count": 62,
   "metadata": {},
   "outputs": [],
   "source": [
    "cliente = (\"Paulo\",\"32\",\"89\",\"1.75\")"
   ]
  },
  {
   "cell_type": "code",
   "execution_count": 67,
   "metadata": {},
   "outputs": [
    {
     "data": {
      "text/plain": [
       "('Paulo', '32', '89', '1.75')"
      ]
     },
     "execution_count": 67,
     "metadata": {},
     "output_type": "execute_result"
    }
   ],
   "source": [
    "cliente"
   ]
  },
  {
   "cell_type": "markdown",
   "metadata": {},
   "source": [
    "### Crie uma nova tupla concatenando a tupla do exercício anterior com o e-mail o cliente. Imprima a nova tupla."
   ]
  },
  {
   "cell_type": "code",
   "execution_count": 69,
   "metadata": {},
   "outputs": [
    {
     "name": "stdout",
     "output_type": "stream",
     "text": [
      "('Paulo', '32', '89', '1.75', 'joao@email.com')\n"
     ]
    }
   ],
   "source": [
    "email = \"joao@email.com\"\n",
    "novo_cliente = cliente + (email,)\n",
    "print(novo_cliente)\n"
   ]
  },
  {
   "cell_type": "markdown",
   "metadata": {},
   "source": [
    "### 8.1. Crie um dicionário com informações de um cliente (nome, idade, peso, altura). Imprima o valor associado à chave 'nome'."
   ]
  },
  {
   "cell_type": "code",
   "execution_count": 70,
   "metadata": {},
   "outputs": [
    {
     "name": "stdout",
     "output_type": "stream",
     "text": [
      "{'nome': 'Henderson', 'idade': 32, 'peso': 89, 'altura': 1.75}\n"
     ]
    }
   ],
   "source": [
    "nome = {\n",
    "    \"nome\": \"Henderson\",\n",
    "    \"idade\": 32,\n",
    "    \"peso\": 89,\n",
    "    \"altura\": 1.75\n",
    "}\n",
    "\n",
    "print(nome)"
   ]
  },
  {
   "cell_type": "markdown",
   "metadata": {},
   "source": [
    "### Adicione uma nova chave 'email' ao dicionário do exercício anterior e imprima o dicionário atualizado."
   ]
  },
  {
   "cell_type": "code",
   "execution_count": 71,
   "metadata": {},
   "outputs": [
    {
     "name": "stdout",
     "output_type": "stream",
     "text": [
      "{'nome': 'Henderson', 'idade': 32, 'peso': 89, 'altura': 1.75}\n",
      "{'nome': 'Henderson', 'idade': 32, 'peso': 89, 'altura': 1.75, 'email': 'paulohendersonmiranda1992@gmail.com'}\n"
     ]
    }
   ],
   "source": [
    "#Dicionario anterior\n",
    "print(nome)\n",
    "\n",
    "nome[\"email\"] = \"paulohendersonmiranda1992@gmail.com\"\n",
    "\n",
    "# Atualizado\n",
    "print(nome)"
   ]
  },
  {
   "cell_type": "markdown",
   "metadata": {},
   "source": [
    "### Remova a chave 'peso' do dicionário e verifique se a chave 'endereço' está no dicionário. Imprima os resultados."
   ]
  },
  {
   "cell_type": "code",
   "execution_count": 79,
   "metadata": {},
   "outputs": [
    {
     "name": "stdout",
     "output_type": "stream",
     "text": [
      "{'nome': 'Henderson', 'idade': 32, 'altura': 1.75, 'email': 'paulohendersonmiranda1992@gmail.com'}\n"
     ]
    }
   ],
   "source": [
    "# Dicionario atual\n",
    "print(nome)\n",
    "\n",
    "# Removendo peso\n",
    "nome.pop(\"peso\")\n",
    "print(nome)\n",
    "\n"
   ]
  },
  {
   "cell_type": "code",
   "execution_count": 77,
   "metadata": {},
   "outputs": [
    {
     "name": "stdout",
     "output_type": "stream",
     "text": [
      "A chave 'endereco' não existe no dicionario\n"
     ]
    }
   ],
   "source": [
    "if \"endereco\" in nome:\n",
    "    print(\"A chave 'endereco' existe no dicionario\")\n",
    "else:\n",
    "    print(\"A chave 'endereco' não existe no dicionario\")"
   ]
  },
  {
   "cell_type": "code",
   "execution_count": 78,
   "metadata": {},
   "outputs": [
    {
     "name": "stdout",
     "output_type": "stream",
     "text": [
      "{'nome': 'Henderson', 'idade': 32, 'altura': 1.75, 'email': 'paulohendersonmiranda1992@gmail.com'}\n"
     ]
    }
   ],
   "source": [
    "print(nome)"
   ]
  },
  {
   "cell_type": "markdown",
   "metadata": {},
   "source": [
    "### 9.1. Peça ao usuário para digitar sua idade e verifique se ele é menor de idade, adulto ou idoso. Imprima uma mensagem correspondente."
   ]
  },
  {
   "cell_type": "code",
   "execution_count": 89,
   "metadata": {},
   "outputs": [
    {
     "name": "stdout",
     "output_type": "stream",
     "text": [
      "Você e Adulto\n"
     ]
    }
   ],
   "source": [
    "idade = int(input(\"Qual a sua Idade: \"))\n",
    "\n",
    "if idade < 14:\n",
    "    print(\"Você e Criança\")\n",
    "elif 14 <= idade <= 18:\n",
    "    print(\"Você e Adolescente\")\n",
    "elif 19 <= idade < 60:\n",
    "    print(\"Você e Adulto\")\n",
    "else:\n",
    "    print(\"Você e Idoso\")"
   ]
  },
  {
   "cell_type": "markdown",
   "metadata": {},
   "source": [
    "### 9.2. Peça ao usuário para digitar uma nota (0 a 100) e imprima se ele foi aprovado (nota >= 60) ou reprovado."
   ]
  },
  {
   "cell_type": "code",
   "execution_count": 91,
   "metadata": {},
   "outputs": [
    {
     "name": "stdout",
     "output_type": "stream",
     "text": [
      "Aprovado\n"
     ]
    }
   ],
   "source": [
    "nota = float(input(\"Digite uma nota de 0 a 100: \"))\n",
    "\n",
    "if nota >= 60:\n",
    "    print(\"Aprovado\")\n",
    "else:\n",
    "    print(\"Reprovado\")"
   ]
  },
  {
   "cell_type": "markdown",
   "metadata": {},
   "source": [
    "### 9.3. Crie uma lista com os nomes de cinco cidades. Use um loop for para imprimir cada nome de cidade."
   ]
  },
  {
   "cell_type": "code",
   "execution_count": 92,
   "metadata": {},
   "outputs": [],
   "source": [
    "cidades = [\"Belem\", \"acara\", \"barcarena\", \"ananideua\", \"mosqueiro\"]"
   ]
  },
  {
   "cell_type": "code",
   "execution_count": 94,
   "metadata": {},
   "outputs": [
    {
     "name": "stdout",
     "output_type": "stream",
     "text": [
      "Belem\n",
      "acara\n",
      "barcarena\n",
      "ananideua\n",
      "mosqueiro\n"
     ]
    }
   ],
   "source": [
    "for city in cidades:\n",
    "    print(city)"
   ]
  },
  {
   "cell_type": "markdown",
   "metadata": {},
   "source": [
    "### 9.4. Crie uma lista com os números de 1 a 10. Use um loop for para imprimir o quadrado de cada número."
   ]
  },
  {
   "cell_type": "code",
   "execution_count": 96,
   "metadata": {},
   "outputs": [
    {
     "name": "stdout",
     "output_type": "stream",
     "text": [
      "O quadrado de 1 é 1\n",
      "O quadrado de 2 é 4\n",
      "O quadrado de 3 é 9\n",
      "O quadrado de 4 é 16\n",
      "O quadrado de 5 é 25\n",
      "O quadrado de 6 é 36\n",
      "O quadrado de 7 é 49\n",
      "O quadrado de 8 é 64\n",
      "O quadrado de 9 é 81\n",
      "O quadrado de 10 é 100\n"
     ]
    }
   ],
   "source": [
    "numeros = list(range(1, 11))\n",
    "\n",
    "for numero in numeros:\n",
    "    quadrado = numero * numero\n",
    "    print(f\"O quadrado de {numero} é {quadrado}\")"
   ]
  },
  {
   "cell_type": "markdown",
   "metadata": {},
   "source": [
    "### Uma empresa precisa registrar informações sobre seus clientes e calcular o IMC (Índice de Massa Corporal) de cada um deles. As informações devem ser armazenadas em um dicionário e exibidas ao final.\n",
    "\n",
    "- Requisitos:\n",
    "- Peça ao usuário para inserir os seguintes dados de um cliente:\n",
    "- Nome\n",
    "- Idade\n",
    "- Peso (em kg)\n",
    "- Altura (em metros)\n",
    "- E-mail\n",
    "- Armazene essas informações em um dicionário.\n",
    "- Calcule o IMC do cliente (IMC = Peso / (Altura * Altura)) e adicione esse valor ao dicionário.\n",
    "- Exiba todas as informações do cliente, incluindo o IMC arredondado para duas casas decimais."
   ]
  },
  {
   "cell_type": "code",
   "execution_count": 100,
   "metadata": {},
   "outputs": [
    {
     "name": "stdout",
     "output_type": "stream",
     "text": [
      "Nome: Silva\n",
      "Idade: 32\n",
      "Peso: 80.00 kg\n",
      "Altura: 1.75 m\n",
      "E-mail: ana@email.com\n",
      "IMC: 26.12\n"
     ]
    }
   ],
   "source": [
    "cliente = {\n",
    "    \"nome\": \"Silva\",\n",
    "    \"idade\": 32,\n",
    "    \"peso\": 80.0,\n",
    "    \"altura\": 1.75,\n",
    "    \"email\": \"ana@email.com\"\n",
    "}\n",
    "\n",
    "# Calcula o IMC\n",
    "imc = cliente[\"peso\"] / (cliente[\"altura\"] * cliente[\"altura\"])\n",
    "\n",
    "# Adiciona o IMC ao dicionário (arredondado para duas casas decimais)\n",
    "cliente[\"imc\"] = round(imc, 2)\n",
    "\n",
    "# Exibe as informações do cliente\n",
    "print(f\"Nome: {cliente['nome']}\")\n",
    "print(f\"Idade: {cliente['idade']}\")\n",
    "print(f\"Peso: {cliente['peso']:.2f} kg\")  # Formata o peso com duas casas decimais\n",
    "print(f\"Altura: {cliente['altura']:.2f} m\")  # Formata a altura com duas casas decimais\n",
    "print(f\"E-mail: {cliente['email']}\")\n",
    "print(f\"IMC: {cliente['imc']:.2f}\")"
   ]
  },
  {
   "cell_type": "markdown",
   "metadata": {},
   "source": [
    "### Uma escola precisa analisar as notas de seus alunos e determinar se cada aluno foi aprovado ou reprovado. As notas serão armazenadas em uma lista e a análise deve ser realizada em um loop.\n",
    "\n",
    "\n",
    "\n",
    "- Requisitos:\n",
    "- Peça ao usuário para inserir o nome e a nota de cinco alunos.\n",
    "- Armazene os nomes e as notas em listas separadas.\n",
    "- Para cada aluno, verifique se a nota é maior ou igual a 60. Se sim, o aluno está aprovado; caso contrário, está reprovado.\n",
    "- Exiba uma mensagem para cada aluno informando seu nome, nota e se foi aprovadoou reprovado."
   ]
  },
  {
   "cell_type": "code",
   "execution_count": 104,
   "metadata": {},
   "outputs": [
    {
     "name": "stdout",
     "output_type": "stream",
     "text": [
      "paulo: 80.0 - aprovado\n",
      "kathleen: 100.0 - aprovado\n",
      "alcimar: 80.0 - aprovado\n",
      "handerson : 60.0 - aprovado\n",
      "luiza : 90.0 - aprovado\n"
     ]
    }
   ],
   "source": [
    "# Criando listas para armazenar nomes e notas\n",
    "alunos = []\n",
    "notas = []\n",
    "\n",
    "# Solicitação de entrada do usuário para cinco alunos\n",
    "for i in range(5):\n",
    "  nome_aluno = input(\"Digite o nome do aluno: \")\n",
    "  nota_aluno = float(input(\"Digite a nota do aluno: \"))\n",
    "  alunos.append(nome_aluno)\n",
    "  notas.append(nota_aluno)\n",
    "\n",
    "# Analisando as notas e imprimindo o resultado para cada aluno\n",
    "for i, aluno in enumerate(alunos):\n",
    "  nota = notas[i]\n",
    "  resultado = \"aprovado\" if nota >= 60 else \"reprovado\"\n",
    "  print(f\"{aluno}: {nota} - {resultado}\")\n"
   ]
  },
  {
   "cell_type": "markdown",
   "metadata": {},
   "source": [
    "### Uma empresa deseja realizar uma pesquisa de opinião com cinco participantes sobre um novo produto. As respostas devem ser armazenadas e analisadas para verificar a satisfação dos clientes.\n",
    "\n",
    "- Requisitos\n",
    "- Peça ao usuário para inserir o nome e a opinião (satisfeito/insatisfeito) de cinco participantes.\n",
    "- Armazene os nomes e as opiniões em um dicionário.\n",
    "- Conte o número de participantes satisfeitos e insatisfeitos.\n",
    "- Exiba a lista de participantes satisfeitos e insatisfeitos, bem como o número total de cada categoria."
   ]
  },
  {
   "cell_type": "code",
   "execution_count": 106,
   "metadata": {},
   "outputs": [
    {
     "name": "stdout",
     "output_type": "stream",
     "text": [
      "Participantes satisfeitos:\n",
      "\n",
      "Participantes insatisfeitos:\n",
      "\n",
      "Total de participantes satisfeitos: 0\n",
      "Total de participantes insatisfeitos: 5\n"
     ]
    },
    {
     "ename": "",
     "evalue": "",
     "output_type": "error",
     "traceback": [
      "\u001b[1;31mO Kernel deu pane ao executar o código na célula atual ou em uma célula anterior. \n",
      "\u001b[1;31mAnalise o código nas células para identificar uma possível causa da pane. \n",
      "\u001b[1;31mClique <a href='https://aka.ms/vscodeJupyterKernelCrash'>aqui</a> para obter mais informações. \n",
      "\u001b[1;31mConsulte Jupyter <a href='command:jupyter.viewOutput'>log</a> para obter mais detalhes."
     ]
    }
   ],
   "source": [
    "# Criando um dicionário para armazenar dados da pesquisa dos participantes\n",
    "participantes = {}\n",
    "\n",
    "# Solicitação de entrada do usuário para cinco participantes\n",
    "for i in range(5):\n",
    "  nome_participante = input(\"Digite o nome do participante: \")\n",
    "  opiniao_participante = input(\"Digite a opinião do participante (satisfeito/insatisfeito): \")\n",
    "  participantes[nome_participante] = opiniao_participante.lower()  # Converte a opinião para minúsculo\n",
    "\n",
    "# Contabilizando participantes satisfeitos e insatisfeitos\n",
    "satisfeitos = 0\n",
    "insatisfeitos = 0\n",
    "\n",
    "for opiniao in participantes.values():\n",
    "  if opiniao == \"satisfeito\":\n",
    "    satisfeitos += 1\n",
    "  else:\n",
    "    insatisfeitos += 1\n",
    "\n",
    "# Exibindo lista de participantes satisfeitos\n",
    "print(\"Participantes satisfeitos:\")\n",
    "for nome, opiniao in participantes.items():\n",
    "  if opiniao == \"satisfeito\":\n",
    "    print(f\"- {nome}\")\n",
    "\n",
    "# Exibindo lista de participantes insatisfeitos\n",
    "print(\"\\nParticipantes insatisfeitos:\")\n",
    "for nome, opiniao in participantes.items():\n",
    "  if opiniao == \"insatisfeito\":\n",
    "    print(f\"- {nome}\")\n",
    "\n",
    "# Exibindo totais de participantes por categoria\n",
    "print(\"\\nTotal de participantes satisfeitos:\", satisfeitos)\n",
    "print(\"Total de participantes insatisfeitos:\", insatisfeitos)\n"
   ]
  },
  {
   "cell_type": "code",
   "execution_count": null,
   "metadata": {},
   "outputs": [],
   "source": []
  }
 ],
 "metadata": {
  "kernelspec": {
   "display_name": "Python 3",
   "language": "python",
   "name": "python3"
  },
  "language_info": {
   "codemirror_mode": {
    "name": "ipython",
    "version": 3
   },
   "file_extension": ".py",
   "mimetype": "text/x-python",
   "name": "python",
   "nbconvert_exporter": "python",
   "pygments_lexer": "ipython3",
   "version": "3.12.4"
  }
 },
 "nbformat": 4,
 "nbformat_minor": 2
}
