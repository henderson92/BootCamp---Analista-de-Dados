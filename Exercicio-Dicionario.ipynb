{
 "cells": [
  {
   "cell_type": "markdown",
   "metadata": {},
   "source": [
    "### Criando um dicionário"
   ]
  },
  {
   "cell_type": "code",
   "execution_count": 1,
   "metadata": {},
   "outputs": [],
   "source": [
    "optimus = {\n",
    "    \"id\": 1,\n",
    "    \"nome\": \"Optimus Prime\",\n",
    "    \"tipo\": \"Autobot\",\n",
    "    \"veículo\": \"Caminhão\",\n",
    "    \"modelo\": \"Freightliner Cab-over-engine Class 8\"\n",
    "}"
   ]
  },
  {
   "cell_type": "markdown",
   "metadata": {},
   "source": [
    "### Imprimindo o dicionário."
   ]
  },
  {
   "cell_type": "code",
   "execution_count": 3,
   "metadata": {},
   "outputs": [
    {
     "name": "stdout",
     "output_type": "stream",
     "text": [
      "{'id': 1, 'nome': 'Optimus Prime', 'tipo': 'Autobot', 'veículo': 'Caminhão', 'modelo': 'Freightliner Cab-over-engine Class 8'}\n"
     ]
    }
   ],
   "source": [
    "print(optimus)"
   ]
  },
  {
   "cell_type": "code",
   "execution_count": 4,
   "metadata": {},
   "outputs": [],
   "source": [
    "optimus1 = {\n",
    "    \"id\": 1,\n",
    "    \"nome\": \"Optimus Prime\",\n",
    "    \"tipo\": \"Autobot\",\n",
    "    \"veículo\": \"Caminhão\",\n",
    "    \"modelo\": \"Freightliner Cab-over-engine Class 8\"\n",
    "}"
   ]
  },
  {
   "cell_type": "markdown",
   "metadata": {},
   "source": [
    "### Dicionário criado a partir de outro."
   ]
  },
  {
   "cell_type": "code",
   "execution_count": 5,
   "metadata": {},
   "outputs": [
    {
     "name": "stdout",
     "output_type": "stream",
     "text": [
      "{'id': 1, 'nome': 'Optimus Prime', 'tipo': 'Autobot', 'veículo': 'Caminhão', 'modelo': 'Freightliner Cab-over-engine Class 8'}\n"
     ]
    }
   ],
   "source": [
    "optimus2 = dict(optimus1)\n",
    "print(optimus2)"
   ]
  },
  {
   "cell_type": "code",
   "execution_count": 6,
   "metadata": {},
   "outputs": [
    {
     "name": "stdout",
     "output_type": "stream",
     "text": [
      "{'id': 1, 'nome': 'Optimus Prime', 'tipo': 'Autobot', 'veículo': 'Caminhão', 'modelo': 'Freightliner Cab-over-engine Class 8'}\n"
     ]
    }
   ],
   "source": [
    "print(optimus)"
   ]
  },
  {
   "cell_type": "code",
   "execution_count": null,
   "metadata": {},
   "outputs": [],
   "source": []
  }
 ],
 "metadata": {
  "kernelspec": {
   "display_name": "Python 3",
   "language": "python",
   "name": "python3"
  },
  "language_info": {
   "codemirror_mode": {
    "name": "ipython",
    "version": 3
   },
   "file_extension": ".py",
   "mimetype": "text/x-python",
   "name": "python",
   "nbconvert_exporter": "python",
   "pygments_lexer": "ipython3",
   "version": "3.12.4"
  }
 },
 "nbformat": 4,
 "nbformat_minor": 2
}
