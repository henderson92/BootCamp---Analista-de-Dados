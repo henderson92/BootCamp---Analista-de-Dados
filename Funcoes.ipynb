{
 "cells": [
  {
   "cell_type": "markdown",
   "metadata": {},
   "source": [
    "## Funções em Python"
   ]
  },
  {
   "cell_type": "markdown",
   "metadata": {},
   "source": [
    " - Definição: - um bloco de código que realiza uma tarefa específica e que pode ser reutilizada em diferentes partes do programa."
   ]
  },
  {
   "cell_type": "code",
   "execution_count": null,
   "metadata": {},
   "outputs": [],
   "source": [
    "# def nome_da_funcao(parametros_opcionais):\n",
    "#   #Bloco de código da função\n",
    "#   return opcional_valor"
   ]
  },
  {
   "cell_type": "code",
   "execution_count": 1,
   "metadata": {},
   "outputs": [
    {
     "name": "stdout",
     "output_type": "stream",
     "text": [
      "Hello, World!\n",
      "Segunda-Feira\n",
      "Hoje é Segunda-Feira\n"
     ]
    }
   ],
   "source": [
    "#Criando uma função sem parâmetro\n",
    "def saudacao():\n",
    "  print(\"Hello, World!\")\n",
    "\n",
    "#Chamando a função (uso)\n",
    "saudacao()\n",
    "\n",
    "#Outra função\n",
    "def obter_dia():\n",
    "  return \"Segunda-Feira\"\n",
    "\n",
    "#Chamando função\n",
    "print(obter_dia())\n",
    "\n",
    "#Outra forma de chamar a função\n",
    "dia = obter_dia()\n",
    "print(f\"Hoje é {dia}\")"
   ]
  },
  {
   "cell_type": "markdown",
   "metadata": {},
   "source": [
    "**Observações - Uso do print ou do return:** -"
   ]
  },
  {
   "cell_type": "markdown",
   "metadata": {},
   "source": [
    "***print:*** - usado para exibir uma mensagem ou algum valor de uma variável na saída PADRÃO. Usamos quando queremos mostrar algo na tela."
   ]
  },
  {
   "cell_type": "code",
   "execution_count": 3,
   "metadata": {},
   "outputs": [
    {
     "name": "stdout",
     "output_type": "stream",
     "text": [
      "Hello, World!\n"
     ]
    }
   ],
   "source": [
    "#Criando uma função sem parâmetro\n",
    "def saudacao():\n",
    "  print(\"Hello, World!\")\n",
    "\n",
    "#Chamando a função (uso)\n",
    "saudacao()"
   ]
  },
  {
   "cell_type": "markdown",
   "metadata": {},
   "source": [
    "***return:*** - usado para enviar um valor de volta ao CHAMADOR DA FUNÇÃO. Ele encerra a execução da função e passa o controle(e o valor) de volta para o código que chamou a função. Usamos quando precisa-se que a função devolva um valor que pode ser utilizado posteriormente em outra parte do programa."
   ]
  },
  {
   "cell_type": "code",
   "execution_count": 5,
   "metadata": {},
   "outputs": [
    {
     "name": "stdout",
     "output_type": "stream",
     "text": [
      "20\n",
      "A área é 200 metros quadrados\n",
      "200\n",
      "A área é 200 metros quadrados\n"
     ]
    },
    {
     "data": {
      "text/plain": [
       "200"
      ]
     },
     "execution_count": 5,
     "metadata": {},
     "output_type": "execute_result"
    }
   ],
   "source": [
    "def calcular_area(largura, altura):\n",
    "  area = largura * altura\n",
    "  return area\n",
    "\n",
    "print(calcular_area(5,4))\n",
    "\n",
    "#Uso combinado\n",
    "def calcular_area(largura, altura):\n",
    "  area = largura * altura\n",
    "  print(f\"A área é {area} metros quadrados\")\n",
    "  return area\n",
    "x = 10\n",
    "y = 20\n",
    "print(calcular_area(x,y))\n",
    "calcular_area(x,y)"
   ]
  },
  {
   "cell_type": "code",
   "execution_count": 4,
   "metadata": {},
   "outputs": [
    {
     "name": "stdout",
     "output_type": "stream",
     "text": [
      "35\n"
     ]
    }
   ],
   "source": [
    "# def calcular_area(largura=0, altura=0):\n",
    "#   area = largura * altura\n",
    "#   return area\n",
    "\n",
    "# print(calcular_area())\n",
    "\n",
    "# outro exemplo\n",
    "def calcular_area2(largura, altura):\n",
    "  x = largura\n",
    "  y = altura\n",
    "  area = x * y\n",
    "  return  area\n",
    "\n",
    "print(calcular_area2(5,7))"
   ]
  },
  {
   "cell_type": "code",
   "execution_count": 5,
   "metadata": {},
   "outputs": [
    {
     "name": "stdout",
     "output_type": "stream",
     "text": [
      "Olá, Israel! Bem-vindo ao sistema.\n"
     ]
    }
   ],
   "source": [
    "def exibir_mensagem(nome):\n",
    "  print(f\"Olá, {nome}! Bem-vindo ao sistema.\")\n",
    "\n",
    "exibir_mensagem(\"Israel\")"
   ]
  },
  {
   "cell_type": "code",
   "execution_count": 6,
   "metadata": {},
   "outputs": [
    {
     "name": "stdout",
     "output_type": "stream",
     "text": [
      "O resultado da soma é 30\n"
     ]
    }
   ],
   "source": [
    "def soma(a,b):\n",
    "  return a+b\n",
    "\n",
    "resultado = soma(10,20)\n",
    "print(f\"O resultado da soma é {resultado}\")"
   ]
  },
  {
   "cell_type": "code",
   "execution_count": null,
   "metadata": {},
   "outputs": [],
   "source": [
    "def saudacao(nome=\"Visitante\"):\n",
    "    print(f\"Olá, {nome}!\")\n",
    "\n",
    "saudacao(\"Douglas\")"
   ]
  },
  {
   "cell_type": "markdown",
   "metadata": {},
   "source": [
    " - **Uso do *args** - Parâmetros posicionais"
   ]
  },
  {
   "cell_type": "code",
   "execution_count": 7,
   "metadata": {},
   "outputs": [
    {
     "name": "stdout",
     "output_type": "stream",
     "text": [
      "214\n"
     ]
    }
   ],
   "source": [
    "def somar_varios(*numeros):\n",
    "  return sum(numeros)\n",
    "\n",
    "resultado = somar_varios(1,2,5,8,99,10,99,-10)\n",
    "print(resultado)"
   ]
  },
  {
   "cell_type": "markdown",
   "metadata": {},
   "source": [
    " - Uso do *kwargs** - Parâmetros Nomeados"
   ]
  },
  {
   "cell_type": "code",
   "execution_count": 8,
   "metadata": {},
   "outputs": [
    {
     "name": "stdout",
     "output_type": "stream",
     "text": [
      "nome: Ana\n",
      "idade: 28\n",
      "cidade: São paulo\n",
      "nome: Ana\n",
      "idade: 28\n",
      "cidade: São paulo\n"
     ]
    }
   ],
   "source": [
    "def exibir_informacoes(**info):\n",
    "  for chave, valor in info.items():\n",
    "    print(f\"{chave}: {valor}\")\n",
    "\n",
    "exibir_informacoes(nome=\"Ana\", idade=28, cidade=\"São paulo\")\n",
    "\n",
    "dicionario = {\n",
    "    'nome':\"Ana\",\n",
    "    'idade':28,\n",
    "    'cidade':\"São paulo\"\n",
    "}\n",
    "exibir_informacoes(**dicionario)"
   ]
  },
  {
   "cell_type": "code",
   "execution_count": 9,
   "metadata": {},
   "outputs": [
    {
     "name": "stdout",
     "output_type": "stream",
     "text": [
      "Hello*-*World*-*Python\n",
      "Hello World Python!\n",
      "Hello *-* World *-* Python.\n"
     ]
    }
   ],
   "source": [
    "print (\"Hello\", \"World\", \"Python\", sep=\"*-*\")\n",
    "print (\"Hello\", \"World\", \"Python\", end=\"!\\n\")\n",
    "print (\"Hello\", \"World\", \"Python\", sep=\" *-* \", end=\".\\n\")"
   ]
  },
  {
   "cell_type": "markdown",
   "metadata": {},
   "source": [
    "### Funções Avançadas em Python##\n"
   ]
  },
  {
   "cell_type": "code",
   "execution_count": 11,
   "metadata": {},
   "outputs": [],
   "source": [
    "# 1 - Funções anônimas \n",
    "# 2 - Funções com argumentos predefinidos \n",
    "# 3 - Funções de Ordem Superior \n",
    "# 4 - Funções Decoradoras \n",
    "# 5 - Funções Geradores \n",
    "# 6 - Funções de Anotações \n",
    "# 7 - Funções Recursivas \n",
    "# 8 - Funções com argumentos nomeados e não nomeados \n",
    "# 9 - Funções com args e *kwargs em Decoradores \n",
    "# 10 - Funções com Context Managers \n",
    "# 11 - Funções de Composição \n",
    "# 12 - Funções como Objetos \n",
    "# 13 - Funções de Callback \n",
    "# 14 - Funções de Tempo de Execução"
   ]
  },
  {
   "cell_type": "code",
   "execution_count": 12,
   "metadata": {},
   "outputs": [],
   "source": [
    "# 1 - Funções Anônimas (Lambda): são funções pequenas e de uma única linha que não possuem nome. São principalmente para operações simples e rápidas"
   ]
  },
  {
   "cell_type": "code",
   "execution_count": 13,
   "metadata": {},
   "outputs": [
    {
     "name": "stdout",
     "output_type": "stream",
     "text": [
      "15\n"
     ]
    }
   ],
   "source": [
    "#lambda argumentos: expressão\n",
    "soma = lambda a,b: a + b\n",
    "\n",
    "#Saída\n",
    "print(soma(5,10))"
   ]
  },
  {
   "cell_type": "code",
   "execution_count": 14,
   "metadata": {},
   "outputs": [
    {
     "name": "stdout",
     "output_type": "stream",
     "text": [
      "True\n"
     ]
    }
   ],
   "source": [
    "#Verificar se um número é par\n",
    "x = 15\n",
    "# if (x % 2 == 0):\n",
    "#   print(\"par\")\n",
    "\n",
    "par = lambda x: x % 2 == 0\n",
    "print(par(14))"
   ]
  },
  {
   "cell_type": "code",
   "execution_count": 15,
   "metadata": {},
   "outputs": [
    {
     "name": "stdout",
     "output_type": "stream",
     "text": [
      "[2, 10, 18, 30, 60, 198]\n"
     ]
    }
   ],
   "source": [
    "numeros = [1,5,9,15,30,99]\n",
    "\n",
    "produto = lambda lst: [x * 2 for x in lst]\n",
    "print(produto(numeros))"
   ]
  },
  {
   "cell_type": "code",
   "execution_count": 16,
   "metadata": {},
   "outputs": [
    {
     "name": "stdout",
     "output_type": "stream",
     "text": [
      "20\n"
     ]
    }
   ],
   "source": [
    "maximo = lambda a,b,c: max(a,b,c)\n",
    "print(maximo(10,20,15))"
   ]
  },
  {
   "cell_type": "code",
   "execution_count": 17,
   "metadata": {},
   "outputs": [
    {
     "name": "stdout",
     "output_type": "stream",
     "text": [
      "[1, 4, 9, 16, 25, 36]\n"
     ]
    }
   ],
   "source": [
    "numeros = [1,2,3,4,5,6]\n",
    "quadrado = list(map(lambda x: x ** 2, numeros))\n",
    "print(quadrado)"
   ]
  },
  {
   "cell_type": "code",
   "execution_count": 18,
   "metadata": {},
   "outputs": [
    {
     "name": "stdout",
     "output_type": "stream",
     "text": [
      "[1, 3, 5]\n"
     ]
    }
   ],
   "source": [
    "numeros = [1,2,3,4,5,6]\n",
    "impares = list(filter(lambda x: x % 2 !=0, numeros))\n",
    "print(impares)"
   ]
  },
  {
   "cell_type": "code",
   "execution_count": 19,
   "metadata": {},
   "outputs": [
    {
     "name": "stdout",
     "output_type": "stream",
     "text": [
      "Zero\n"
     ]
    }
   ],
   "source": [
    "#Verificar se um número é positivo, negativo ou zero\n",
    "verificar_numero = lambda x: \"Positivo\" if x > 0 else \"Negativo\" if x < 0 else \"Zero\"\n",
    "print(verificar_numero(0))"
   ]
  },
  {
   "cell_type": "code",
   "execution_count": 20,
   "metadata": {},
   "outputs": [
    {
     "name": "stdout",
     "output_type": "stream",
     "text": [
      "Par\n",
      "Par\n"
     ]
    }
   ],
   "source": [
    "numero = 10\n",
    "if numero % 2 == 0:\n",
    "    par_ou_impar = \"Par\"\n",
    "else:\n",
    "    par_ou_impar = \"Ímpar\"\n",
    "print(par_ou_impar)  # Saída: Par\n",
    "\n",
    "# Usando operador ternário\n",
    "par_ou_impar = \"Par\" if numero % 2 == 0 else \"Ímpar\"\n",
    "print(par_ou_impar)  # Saída: Par"
   ]
  },
  {
   "cell_type": "code",
   "execution_count": 21,
   "metadata": {},
   "outputs": [
    {
     "name": "stdout",
     "output_type": "stream",
     "text": [
      "['Olá!', 'MundoÉ', 'PythonLegal']\n",
      "[['Olá', '!'], ['Mundo', 'É'], ['Python', 'Legal']]\n",
      "[('Olá', '!'), ('Mundo', 'É'), ('Python', 'Legal')]\n"
     ]
    }
   ],
   "source": [
    "lista1 = [\"Olá\", \"Mundo\", \"Python\"]\n",
    "lista2 = [\"!\", \"É\", \"Legal\"]\n",
    "\n",
    "soma_listas = list(map(lambda x, y: x + y, lista1, lista2))\n",
    "print(soma_listas)\n",
    "\n",
    "juntar_listas = list(map(lambda x, y: [x,y], lista1, lista2))\n",
    "print(juntar_listas)\n",
    "\n",
    "juntar_listas2 = list(zip(lista1, lista2))\n",
    "print(juntar_listas2)"
   ]
  },
  {
   "cell_type": "markdown",
   "metadata": {},
   "source": [
    "### 2 - Funções com argumentos predefinidos:**"
   ]
  },
  {
   "cell_type": "code",
   "execution_count": 22,
   "metadata": {},
   "outputs": [
    {
     "name": "stdout",
     "output_type": "stream",
     "text": [
      "Olá, Visitante\n",
      "Olá, Adriano\n",
      "Bom dia, Adriano\n",
      "Bora Codar, Helen\n"
     ]
    }
   ],
   "source": [
    "def saudacao(nome=\"Visitante\", mensagem=\"Olá\"):\n",
    "  return f\"{mensagem}, {nome}\"\n",
    "\n",
    "#Saída\n",
    "print(saudacao())\n",
    "\n",
    "print(saudacao(nome=\"Adriano\"))\n",
    "\n",
    "print(saudacao(mensagem=\"Bom dia\", nome=\"Adriano\"))\n",
    "\n",
    "print(saudacao(\"Helen\", \"Bora Codar\"))"
   ]
  },
  {
   "cell_type": "markdown",
   "metadata": {},
   "source": [
    "### 3 - Funções de Ordem Superior:** são funções que podem receber outras funções como argumento ou retornar funções."
   ]
  },
  {
   "cell_type": "code",
   "execution_count": 23,
   "metadata": {},
   "outputs": [
    {
     "name": "stdout",
     "output_type": "stream",
     "text": [
      "[1, 4, 9, 16, 25]\n"
     ]
    }
   ],
   "source": [
    "def aplicar_funcao(func, lista):\n",
    "  return [func(x) for x in lista]\n",
    "\n",
    "#Função que será passada como argumento\n",
    "def quadrado(y):\n",
    "  return y * y\n",
    "\n",
    "#Usando a função de ordem superior\n",
    "minha_lista = [1,2,3,4,5]\n",
    "resultados = aplicar_funcao(quadrado, minha_lista)\n",
    "\n",
    "#Saída\n",
    "print(resultados)"
   ]
  },
  {
   "cell_type": "code",
   "execution_count": 24,
   "metadata": {},
   "outputs": [
    {
     "name": "stdout",
     "output_type": "stream",
     "text": [
      "15\n",
      "3.3333333333333335\n",
      "0.5000000000000001\n"
     ]
    }
   ],
   "source": [
    "import math\n",
    "# def calculadora(operacao):\n",
    "#   return lambda a,b: operacao(a,b)\n",
    "\n",
    "# def calculadora(operacao):\n",
    "#     return lambda a, b=None: operacao(a) if b is None else operacao(a, b)\n",
    "\n",
    "def calculadora(operacao):\n",
    "  return lambda *args: operacao(*args)\n",
    "\n",
    "# Operação de adição\n",
    "# def soma(a, b):\n",
    "#     return a + b\n",
    "\n",
    "def soma(*args):\n",
    "    return sum(args)\n",
    "\n",
    "# Operação de subtração\n",
    "def subtracao(a, b):\n",
    "    return a - b\n",
    "# Operação de multiplicação\n",
    "def multiplicacao(a, b):\n",
    "    return a * b\n",
    "# Operação de divisão\n",
    "def divisao(a, b):\n",
    "    return a / b if b != 0 else \"Erro: Divisão por zero\"\n",
    "# Operação de cosseno (para um único argumento)\n",
    "def cosseno(a):\n",
    "    return math.cos(a)\n",
    "#Criando as funções para cada operação\n",
    "operacao_soma = calculadora(soma)\n",
    "operacao_subtracao = calculadora(subtracao)\n",
    "operacao_multiplicacao = calculadora(multiplicacao)\n",
    "operacao_divisao = calculadora(divisao)\n",
    "operacao_cosseno = calculadora(cosseno)\n",
    "#Testar as operações\n",
    "print(operacao_soma(10,5))\n",
    "print(operacao_divisao(10,3))\n",
    "a = math.pi/3\n",
    "print(operacao_cosseno(a))"
   ]
  },
  {
   "cell_type": "code",
   "execution_count": 25,
   "metadata": {},
   "outputs": [
    {
     "name": "stdout",
     "output_type": "stream",
     "text": [
      "7\n",
      "Erro: 'NoneType' object is not subscriptable\n"
     ]
    }
   ],
   "source": [
    "## Criando uma calculadora científica básica\n",
    "import math\n",
    "\n",
    "def calculadora_cientifica(expressao):\n",
    "  try:\n",
    "    # Avalia a expressão usando uma função eval, permitindo operações matemáticas\n",
    "    resultado = eval(expressao, {\"__builtins__\":None}, {\n",
    "        \"sin\": math.sin,\n",
    "        \"cos\": math.cos,\n",
    "        \"tan\": math.tan,\n",
    "        \"log\": math.log,\n",
    "        \"sqrt\": math.sqrt,\n",
    "        \"exp\": math.exp,\n",
    "        \"pow\": math.pow,\n",
    "        \"pi\": math.pi,\n",
    "        \"e\": math.e\n",
    "    })\n",
    "    return resultado\n",
    "  except Exception as erro:\n",
    "    return f\"Erro: {erro}\"\n",
    "\n",
    "#Exemplos de uso\n",
    "print(calculadora_cientifica(\"2+3+8-3*2\"))\n",
    "print(calculadora_cientifica(\"bola(pi/2)\"))"
   ]
  },
  {
   "cell_type": "code",
   "execution_count": 26,
   "metadata": {},
   "outputs": [
    {
     "name": "stdout",
     "output_type": "stream",
     "text": [
      "Bem-vindo à calculadora Científica!\n",
      "Operações disponíveis: +, -, *, /, sin, cos, tan, log, sqrt, exp, pow\n",
      "Digite a operação correta, por exemplo: '2+3' ou 'sin(pi/2)' ou 'log(10)'\n"
     ]
    },
    {
     "data": {
      "text/plain": [
       "'Erro: invalid syntax (<string>, line 0)'"
      ]
     },
     "execution_count": 26,
     "metadata": {},
     "output_type": "execute_result"
    }
   ],
   "source": [
    "import math\n",
    "\n",
    "def calculadora_cientifica():\n",
    "  print(\"Bem-vindo à calculadora Científica!\")\n",
    "  print(\"Operações disponíveis: +, -, *, /, sin, cos, tan, log, sqrt, exp, pow\")\n",
    "  print(\"Digite a operação correta, por exemplo: '2+3' ou 'sin(pi/2)' ou 'log(10)'\")\n",
    "\n",
    "  while True:\n",
    "    expressao = input(\"Digite a expressão matemática (ou sair) para encerrar: \")\n",
    "    if expressao.lower() == 'sair':\n",
    "      print(\"Encerrando a calculadora.\")\n",
    "      break\n",
    "    try:\n",
    "    # Avalia a expressão usando uma função eval, permitindo operações matemáticas\n",
    "      resultado = eval(expressao, {\"__builtins__\":None}, {\n",
    "        \"sin\": math.sin,\n",
    "        \"cos\": math.cos,\n",
    "        \"tan\": math.tan,\n",
    "        \"log\": math.log,\n",
    "        \"sqrt\": math.sqrt,\n",
    "        \"exp\": math.exp,\n",
    "        \"pow\": math.pow,\n",
    "        \"pi\": math.pi,\n",
    "        \"e\": math.e\n",
    "    })\n",
    "      return resultado\n",
    "    except Exception as erro:\n",
    "      return f\"Erro: {erro}\"\n",
    "\n",
    "# Execução da Calculadora\n",
    "calculadora_cientifica()"
   ]
  },
  {
   "cell_type": "markdown",
   "metadata": {},
   "source": [
    "### 4 - Funções Decoradoras:** são funções que modificam o comportamento de outras funções. Usa para adicionar funcionalidades."
   ]
  },
  {
   "cell_type": "code",
   "execution_count": 27,
   "metadata": {},
   "outputs": [
    {
     "name": "stdout",
     "output_type": "stream",
     "text": [
      "Algo está acontecendo antes da execução\n",
      "Olá!\n",
      "Algo está acontecendo após a execução\n"
     ]
    }
   ],
   "source": [
    "def decorador(func):\n",
    "  def wrapper():\n",
    "    print(\"Algo está acontecendo antes da execução\")\n",
    "    func()\n",
    "    print(\"Algo está acontecendo após a execução\")\n",
    "  return wrapper\n",
    "\n",
    "@decorador\n",
    "def saudacao():\n",
    "  print(\"Olá!\")\n",
    "\n",
    "saudacao()"
   ]
  },
  {
   "cell_type": "code",
   "execution_count": 28,
   "metadata": {},
   "outputs": [
    {
     "name": "stdout",
     "output_type": "stream",
     "text": [
      "Iniciando a função...\n",
      "A função 'somar_numeros' foi executada em 1.001062 segundos.\n",
      "Iniciando a função...\n",
      "A função 'quadrado' foi executada em 0.000000 segundos.\n",
      "O Resultado: 25\n"
     ]
    }
   ],
   "source": [
    "import time\n",
    "#Definindo o decorador\n",
    "def medir_tempo(funcao):\n",
    "  def wrapper(*args, **kwargs):\n",
    "    print(\"Iniciando a função...\")\n",
    "    inicio = time.time() # Marca o tempo no inicio\n",
    "    resultado = funcao(*args, **kwargs)\n",
    "    fim = time.time() # Marca o tempo no final\n",
    "    print(f\"A função '{funcao.__name__}' foi executada em {fim - inicio:.6f} segundos.\")\n",
    "    return resultado\n",
    "  return wrapper\n",
    "\n",
    "# Usando o decorador\n",
    "@medir_tempo\n",
    "def somar_numeros(a,b):\n",
    "  time.sleep(1) # Simula um atraso na execução\n",
    "  return a+b\n",
    "\n",
    "@medir_tempo\n",
    "def quadrado(y):\n",
    "  return y * y\n",
    "#Chamando a função decorada\n",
    "resposta = somar_numeros(11,7)\n",
    "resposta2 = quadrado(5)\n",
    "\n",
    "print(f\"O Resultado: {resposta2}\")"
   ]
  },
  {
   "cell_type": "markdown",
   "metadata": {},
   "source": [
    "### 5 - Funções Geradoras:** são uma maneira poderosa de produzir sequências de valores sob demanda. Usamos uma palavra-chave 'yield'."
   ]
  },
  {
   "cell_type": "code",
   "execution_count": 29,
   "metadata": {},
   "outputs": [
    {
     "name": "stdout",
     "output_type": "stream",
     "text": [
      "1\n",
      "2\n",
      "3\n",
      "4\n",
      "5\n",
      "6\n",
      "7\n",
      "8\n",
      "9\n",
      "10\n"
     ]
    }
   ],
   "source": [
    "def contador(max):\n",
    "  count=1\n",
    "  while count <= max:\n",
    "    yield count\n",
    "    count +=1\n",
    "\n",
    "#Usando a função geradora\n",
    "for numero in contador(10):\n",
    "  print(numero)\n"
   ]
  },
  {
   "cell_type": "code",
   "execution_count": 30,
   "metadata": {},
   "outputs": [
    {
     "name": "stdout",
     "output_type": "stream",
     "text": [
      "7\n",
      "12\n",
      "48\n",
      "59\n",
      "40\n"
     ]
    }
   ],
   "source": [
    "import random\n",
    "\n",
    "def gerador_aleatorio(max_numeros, inicio=0, fim=20):\n",
    "  count =0\n",
    "  while count < max_numeros:\n",
    "    yield random.randint(inicio, fim)\n",
    "    count +=1\n",
    "#Usando a função geradora\n",
    "for numero in gerador_aleatorio(5,1,60):\n",
    "  print(numero)"
   ]
  },
  {
   "cell_type": "code",
   "execution_count": 31,
   "metadata": {},
   "outputs": [
    {
     "name": "stdout",
     "output_type": "stream",
     "text": [
      "1\n",
      "2\n",
      "4\n",
      "5\n",
      "6\n"
     ]
    }
   ],
   "source": [
    "import random\n",
    "\n",
    "def gerador_aleatorio_unico(max_numeros, inicio=0, fim=20):\n",
    "  numeros_gerados = set()\n",
    "\n",
    "  while len(numeros_gerados) < max_numeros:\n",
    "    numero = random.randint(inicio, fim)\n",
    "    if(numero not in numeros_gerados):\n",
    "      numeros_gerados.add(numero)\n",
    "      yield numero\n",
    "\n",
    "#Usando a função geradora\n",
    "for numero in gerador_aleatorio_unico(5,1,6):\n",
    "  print(numero)"
   ]
  },
  {
   "cell_type": "markdown",
   "metadata": {},
   "source": [
    "### 6 - Funções com Anotações de Tipo:** permitem especificar os tipos esperados dos parâmetros e do valor que espera-se de retorno de uma função."
   ]
  },
  {
   "cell_type": "code",
   "execution_count": 32,
   "metadata": {},
   "outputs": [
    {
     "name": "stdout",
     "output_type": "stream",
     "text": [
      "15.049999999999999\n"
     ]
    }
   ],
   "source": [
    "def multiplicar(x: int, y:int) -> int:\n",
    "  return x * y\n",
    "\n",
    "resultado = multiplicar(3.5,4.3)\n",
    "print(resultado)"
   ]
  },
  {
   "cell_type": "code",
   "execution_count": 33,
   "metadata": {},
   "outputs": [
    {
     "name": "stdout",
     "output_type": "stream",
     "text": [
      "12\n",
      "Ambos os parâmetros devem ser inteiros\n"
     ]
    }
   ],
   "source": [
    "def multiplicar(x, y):\n",
    "  if not isinstance(x, int) or not isinstance(y, int):\n",
    "    raise TypeError(\"Ambos os parâmetros devem ser inteiros\")\n",
    "  return x * y\n",
    "\n",
    "try:\n",
    "  resultado = multiplicar(3,4)\n",
    "  print(resultado)\n",
    "  resultado2 = multiplicar(3.5,4)\n",
    "  print(resultado2)\n",
    "except TypeError as e:\n",
    "  print(e)"
   ]
  },
  {
   "cell_type": "markdown",
   "metadata": {},
   "source": [
    "### 7 - Funções Recursivas:** são aquele que se chamam a si mesmas."
   ]
  },
  {
   "cell_type": "code",
   "execution_count": 34,
   "metadata": {},
   "outputs": [
    {
     "name": "stdout",
     "output_type": "stream",
     "text": [
      "120\n"
     ]
    }
   ],
   "source": [
    "#Fatorial\n",
    "def fatorial(n: int) -> int:\n",
    "  if n == 0:\n",
    "    return 1\n",
    "  else:\n",
    "    return n * fatorial(n-1)\n",
    "\n",
    "#Uso\n",
    "print(fatorial(5))"
   ]
  },
  {
   "cell_type": "code",
   "execution_count": 35,
   "metadata": {},
   "outputs": [
    {
     "name": "stdout",
     "output_type": "stream",
     "text": [
      "120\n"
     ]
    }
   ],
   "source": [
    "#Fatorial\n",
    "def fatorial(n: int) -> int:\n",
    "  if n == 0 or n == 1:\n",
    "    return 1\n",
    "  else:\n",
    "    return n * fatorial(n-1)\n",
    "\n",
    "#Uso\n",
    "print(fatorial(5))"
   ]
  },
  {
   "cell_type": "code",
   "execution_count": 36,
   "metadata": {},
   "outputs": [
    {
     "name": "stdout",
     "output_type": "stream",
     "text": [
      "987\n"
     ]
    }
   ],
   "source": [
    "def fibonacci(n):\n",
    "  if n == 0:\n",
    "    return 0\n",
    "  elif n == 1:\n",
    "    return 1\n",
    "  else:\n",
    "    return fibonacci(n-1) + fibonacci(n-2)\n",
    "\n",
    "#Exemplo de uso\n",
    "print(fibonacci(16))"
   ]
  },
  {
   "cell_type": "code",
   "execution_count": 37,
   "metadata": {},
   "outputs": [
    {
     "name": "stdout",
     "output_type": "stream",
     "text": [
      "15\n"
     ]
    }
   ],
   "source": [
    "#Soma dos elementos de uma lista\n",
    "def soma_lista(lista):\n",
    "  if len(lista) == 0:\n",
    "    return 0\n",
    "  else:\n",
    "    return lista[0] + soma_lista(lista[1:])\n",
    "\n",
    "#Uso\n",
    "minhaLista = [1,2,3,4,5]\n",
    "print(soma_lista(minhaLista))"
   ]
  },
  {
   "cell_type": "code",
   "execution_count": 38,
   "metadata": {},
   "outputs": [
    {
     "name": "stdout",
     "output_type": "stream",
     "text": [
      "edadivisrucer\n"
     ]
    }
   ],
   "source": [
    "#Inverter uma string\n",
    "def inverter_string(s):\n",
    "  if len(s)==0:\n",
    "    return \"\"\n",
    "  else:\n",
    "    return s[-1] + inverter_string(s[:-1])\n",
    "\n",
    "#Uso\n",
    "print(inverter_string(\"recursividade\"))"
   ]
  },
  {
   "cell_type": "code",
   "execution_count": 39,
   "metadata": {},
   "outputs": [
    {
     "name": "stdout",
     "output_type": "stream",
     "text": [
      "True\n",
      "False\n",
      "True\n"
     ]
    }
   ],
   "source": [
    "#Verificar Palíndromo\n",
    "def eh_palindromo(s):\n",
    "  #Remover espaços e converter minúsculas\n",
    "  s = s.replace(\" \", \"\").lower()\n",
    "  #caso base: se a string tiver 0 ou 1 caracteres, é um palíndromo\n",
    "  if len(s) <= 1:\n",
    "    return True\n",
    "  # caso recursivo: verificar se os caracteres das extremidades são iguais\n",
    "  elif s[0] == s[-1]: #arara\n",
    "    #Chamar a função recursivamente para o substring sem as extremidades\n",
    "    return eh_palindromo(s[1:-1]) #rar\n",
    "  else:\n",
    "    return False\n",
    "\n",
    "#Uso\n",
    "print(eh_palindromo(\"arara\"))\n",
    "print(eh_palindromo(\"python\"))\n",
    "print(eh_palindromo(\"A man a plan a canal Panama\"))"
   ]
  },
  {
   "cell_type": "code",
   "execution_count": 40,
   "metadata": {},
   "outputs": [
    {
     "name": "stdout",
     "output_type": "stream",
     "text": [
      "True\n",
      "False\n",
      "True\n"
     ]
    }
   ],
   "source": [
    "#Verificar Palíndromo\n",
    "def eh_palindromo(s):\n",
    "  #Remover espaços e converter minúsculas\n",
    "  s = s.replace(\" \", \"\").lower()\n",
    "  #caso base: se a string tiver 0 ou 1 caracteres, é um palíndromo\n",
    "  if len(s) <= 1:\n",
    "    return True\n",
    "  # caso recursivo: verificar se os caracteres das extremidades são iguais\n",
    "  return s[0] == s[-1] and eh_palindromo(s[1:-1])\n",
    "\n",
    "#Uso\n",
    "print(eh_palindromo(\"arara\"))\n",
    "print(eh_palindromo(\"python\"))\n",
    "print(eh_palindromo(\"A man a plan a canal Panama\"))"
   ]
  },
  {
   "cell_type": "code",
   "execution_count": 41,
   "metadata": {},
   "outputs": [
    {
     "name": "stdout",
     "output_type": "stream",
     "text": [
      "True\n",
      "False\n",
      "True\n",
      "True\n"
     ]
    }
   ],
   "source": [
    "#Verificar Palíndromo\n",
    "import re\n",
    "def eh_palindromo(s):\n",
    "  s = re.sub(r'[^a-zA-Z0-9]','',s).lower()\n",
    "  return len(s) <= 1 or s[0] == s[-1] and eh_palindromo(s[1:-1])\n",
    "\n",
    "#Uso\n",
    "print(eh_palindromo(\"arara\"))\n",
    "print(eh_palindromo(\"python\"))\n",
    "print(eh_palindromo(\"A man a plan a canal Panama\"))\n",
    "print(eh_palindromo(\"Socorram-me, subi no ônibus em Marrocos\"))"
   ]
  },
  {
   "cell_type": "markdown",
   "metadata": {},
   "source": [
    "### 8 - Funções com Argumentos Nomeados e Não Nomeados: misturar argumentos posicionais e variáveis em uma função."
   ]
  },
  {
   "cell_type": "code",
   "execution_count": 42,
   "metadata": {},
   "outputs": [
    {
     "name": "stdout",
     "output_type": "stream",
     "text": [
      "Frutas: maçã, banana, laranja, kiwi :)\n",
      "maçã, banana, laranja, kiwi\n"
     ]
    }
   ],
   "source": [
    "def combinar(a, b, *args, sep=\", \", prefixo=\"\", sufixo=\"\"):\n",
    "    resultado = f\"{prefixo}{a}{sep}{b}\"\n",
    "    if args:\n",
    "        resultado += sep + sep.join(args)\n",
    "    resultado += sufixo\n",
    "    return resultado\n",
    "# Uso\n",
    "print(combinar(\"maçã\", \"banana\", \"laranja\", \"kiwi\", prefixo=\"Frutas: \", sufixo=\" :)\"))\n",
    "print(combinar(\"maçã\", \"banana\", \"laranja\", \"kiwi\"))"
   ]
  },
  {
   "cell_type": "markdown",
   "metadata": {},
   "source": [
    "### 9 - Funções com args e kwargs em Decoradores:"
   ]
  },
  {
   "cell_type": "code",
   "execution_count": 43,
   "metadata": {},
   "outputs": [
    {
     "name": "stdout",
     "output_type": "stream",
     "text": [
      "Antes da execução\n",
      "Olá, Helen!\n",
      "Depois da execução\n",
      "Antes da execução\n",
      "A soma de 10 e 15 é 25\n",
      "Depois da execução\n",
      "Antes da execução\n",
      "A multiplicação de 2, 3 e 5 é 30\n",
      "Depois da execução\n"
     ]
    }
   ],
   "source": [
    "def decorador(func):\n",
    "    def wrapper(*args, **kwargs):\n",
    "        print(\"Antes da execução\")\n",
    "        resultado = func(*args, **kwargs)\n",
    "        print(\"Depois da execução\")\n",
    "        return resultado\n",
    "    return wrapper\n",
    "\n",
    "@decorador\n",
    "def saudacao(nome):\n",
    "    print(f\"Olá, {nome}!\")\n",
    "\n",
    "\n",
    "@decorador\n",
    "def soma(a, b):\n",
    "    print(f\"A soma de {a} e {b} é {a + b}\")\n",
    "\n",
    "@decorador\n",
    "def multiplicacao(a, b, c):\n",
    "    print(f\"A multiplicação de {a}, {b} e {c} é {a * b * c}\")\n",
    "\n",
    "#Uso\n",
    "saudacao(\"Helen\")\n",
    "\n",
    "soma(10,15)\n",
    "\n",
    "multiplicacao(2,3,5)\n",
    "\n"
   ]
  },
  {
   "cell_type": "code",
   "execution_count": 44,
   "metadata": {},
   "outputs": [
    {
     "name": "stdout",
     "output_type": "stream",
     "text": [
      "\n",
      "--- Menu ---\n",
      "1. Exibir saudação\n",
      "2. Calcular soma\n",
      "3. Calcular multiplicação\n",
      "4. Sair\n",
      "Antes da execução\n",
      "Olá, 1!\n",
      "Depois da execução\n",
      "\n",
      "--- Menu ---\n",
      "1. Exibir saudação\n",
      "2. Calcular soma\n",
      "3. Calcular multiplicação\n",
      "4. Sair\n",
      "Antes da execução\n",
      "A soma de 3 e 3 é 6\n",
      "Depois da execução\n",
      "\n",
      "--- Menu ---\n",
      "1. Exibir saudação\n",
      "2. Calcular soma\n",
      "3. Calcular multiplicação\n",
      "4. Sair\n",
      "Antes da execução\n",
      "A soma de 5 e 5 é 10\n",
      "Depois da execução\n",
      "\n",
      "--- Menu ---\n",
      "1. Exibir saudação\n",
      "2. Calcular soma\n",
      "3. Calcular multiplicação\n",
      "4. Sair\n",
      "Antes da execução\n",
      "A soma de 1 e 1 é 2\n",
      "Depois da execução\n",
      "\n",
      "--- Menu ---\n",
      "1. Exibir saudação\n",
      "2. Calcular soma\n",
      "3. Calcular multiplicação\n",
      "4. Sair\n",
      "Antes da execução\n",
      "Olá, 1!\n",
      "Depois da execução\n",
      "\n",
      "--- Menu ---\n",
      "1. Exibir saudação\n",
      "2. Calcular soma\n",
      "3. Calcular multiplicação\n",
      "4. Sair\n",
      "Antes da execução\n",
      "Olá, 4!\n",
      "Depois da execução\n",
      "\n",
      "--- Menu ---\n",
      "1. Exibir saudação\n",
      "2. Calcular soma\n",
      "3. Calcular multiplicação\n",
      "4. Sair\n",
      "Opção inválida. Tente novamente.\n",
      "\n",
      "--- Menu ---\n",
      "1. Exibir saudação\n",
      "2. Calcular soma\n",
      "3. Calcular multiplicação\n",
      "4. Sair\n",
      "Opção inválida. Tente novamente.\n",
      "\n",
      "--- Menu ---\n",
      "1. Exibir saudação\n",
      "2. Calcular soma\n",
      "3. Calcular multiplicação\n",
      "4. Sair\n",
      "Opção inválida. Tente novamente.\n",
      "\n",
      "--- Menu ---\n",
      "1. Exibir saudação\n",
      "2. Calcular soma\n",
      "3. Calcular multiplicação\n",
      "4. Sair\n",
      "Opção inválida. Tente novamente.\n",
      "\n",
      "--- Menu ---\n",
      "1. Exibir saudação\n",
      "2. Calcular soma\n",
      "3. Calcular multiplicação\n",
      "4. Sair\n",
      "Opção inválida. Tente novamente.\n",
      "\n",
      "--- Menu ---\n",
      "1. Exibir saudação\n",
      "2. Calcular soma\n",
      "3. Calcular multiplicação\n",
      "4. Sair\n",
      "Opção inválida. Tente novamente.\n",
      "\n",
      "--- Menu ---\n",
      "1. Exibir saudação\n",
      "2. Calcular soma\n",
      "3. Calcular multiplicação\n",
      "4. Sair\n",
      "Opção inválida. Tente novamente.\n",
      "\n",
      "--- Menu ---\n",
      "1. Exibir saudação\n",
      "2. Calcular soma\n",
      "3. Calcular multiplicação\n",
      "4. Sair\n",
      "Opção inválida. Tente novamente.\n",
      "\n",
      "--- Menu ---\n",
      "1. Exibir saudação\n",
      "2. Calcular soma\n",
      "3. Calcular multiplicação\n",
      "4. Sair\n",
      "Opção inválida. Tente novamente.\n",
      "\n",
      "--- Menu ---\n",
      "1. Exibir saudação\n",
      "2. Calcular soma\n",
      "3. Calcular multiplicação\n",
      "4. Sair\n",
      "Opção inválida. Tente novamente.\n",
      "\n",
      "--- Menu ---\n",
      "1. Exibir saudação\n",
      "2. Calcular soma\n",
      "3. Calcular multiplicação\n",
      "4. Sair\n",
      "Opção inválida. Tente novamente.\n",
      "\n",
      "--- Menu ---\n",
      "1. Exibir saudação\n",
      "2. Calcular soma\n",
      "3. Calcular multiplicação\n",
      "4. Sair\n",
      "Antes da execução\n",
      "Olá, Paulo!\n",
      "Depois da execução\n",
      "\n",
      "--- Menu ---\n",
      "1. Exibir saudação\n",
      "2. Calcular soma\n",
      "3. Calcular multiplicação\n",
      "4. Sair\n",
      "Antes da execução\n",
      "Olá, 1!\n",
      "Depois da execução\n",
      "\n",
      "--- Menu ---\n",
      "1. Exibir saudação\n",
      "2. Calcular soma\n",
      "3. Calcular multiplicação\n",
      "4. Sair\n",
      "Opção inválida. Tente novamente.\n",
      "\n",
      "--- Menu ---\n",
      "1. Exibir saudação\n",
      "2. Calcular soma\n",
      "3. Calcular multiplicação\n",
      "4. Sair\n",
      "Antes da execução\n",
      "Olá, !\n",
      "Depois da execução\n",
      "\n",
      "--- Menu ---\n",
      "1. Exibir saudação\n",
      "2. Calcular soma\n",
      "3. Calcular multiplicação\n",
      "4. Sair\n",
      "Opção inválida. Tente novamente.\n",
      "\n",
      "--- Menu ---\n",
      "1. Exibir saudação\n",
      "2. Calcular soma\n",
      "3. Calcular multiplicação\n",
      "4. Sair\n",
      "Opção inválida. Tente novamente.\n",
      "\n",
      "--- Menu ---\n",
      "1. Exibir saudação\n",
      "2. Calcular soma\n",
      "3. Calcular multiplicação\n",
      "4. Sair\n",
      "Opção inválida. Tente novamente.\n",
      "\n",
      "--- Menu ---\n",
      "1. Exibir saudação\n",
      "2. Calcular soma\n",
      "3. Calcular multiplicação\n",
      "4. Sair\n",
      "Opção inválida. Tente novamente.\n",
      "\n",
      "--- Menu ---\n",
      "1. Exibir saudação\n",
      "2. Calcular soma\n",
      "3. Calcular multiplicação\n",
      "4. Sair\n",
      "Opção inválida. Tente novamente.\n",
      "\n",
      "--- Menu ---\n",
      "1. Exibir saudação\n",
      "2. Calcular soma\n",
      "3. Calcular multiplicação\n",
      "4. Sair\n",
      "Opção inválida. Tente novamente.\n",
      "\n",
      "--- Menu ---\n",
      "1. Exibir saudação\n",
      "2. Calcular soma\n",
      "3. Calcular multiplicação\n",
      "4. Sair\n",
      "Opção inválida. Tente novamente.\n",
      "\n",
      "--- Menu ---\n",
      "1. Exibir saudação\n",
      "2. Calcular soma\n",
      "3. Calcular multiplicação\n",
      "4. Sair\n",
      "Opção inválida. Tente novamente.\n",
      "\n",
      "--- Menu ---\n",
      "1. Exibir saudação\n",
      "2. Calcular soma\n",
      "3. Calcular multiplicação\n",
      "4. Sair\n",
      "Opção inválida. Tente novamente.\n",
      "\n",
      "--- Menu ---\n",
      "1. Exibir saudação\n",
      "2. Calcular soma\n",
      "3. Calcular multiplicação\n",
      "4. Sair\n",
      "Saindo...\n"
     ]
    }
   ],
   "source": [
    "def decorador(func):\n",
    "    def wrapper(*args, **kwargs):\n",
    "        print(\"Antes da execução\")\n",
    "        resultado = func(*args, **kwargs)\n",
    "        print(\"Depois da execução\")\n",
    "        return resultado\n",
    "    return wrapper\n",
    "\n",
    "@decorador\n",
    "def exibir_saudacao(nome):\n",
    "    print(f\"Olá, {nome}!\")\n",
    "\n",
    "@decorador\n",
    "def calcular_soma(a, b):\n",
    "    print(f\"A soma de {a} e {b} é {a + b}\")\n",
    "\n",
    "@decorador\n",
    "def calcular_multiplicacao(a, b, c):\n",
    "    print(f\"A multiplicação de {a}, {b} e {c} é {a * b * c}\")\n",
    "\n",
    "def menu():\n",
    "    while True:\n",
    "        print(\"\\n--- Menu ---\")\n",
    "        print(\"1. Exibir saudação\")\n",
    "        print(\"2. Calcular soma\")\n",
    "        print(\"3. Calcular multiplicação\")\n",
    "        print(\"4. Sair\")\n",
    "\n",
    "        escolha = input(\"Escolha uma opção (1/2/3/4): \")\n",
    "\n",
    "        if escolha == '1':\n",
    "            nome = input(\"Digite o nome: \")\n",
    "            exibir_saudacao(nome)\n",
    "        elif escolha == '2':\n",
    "            a = int(input(\"Digite o primeiro número: \"))\n",
    "            b = int(input(\"Digite o segundo número: \"))\n",
    "            calcular_soma(a, b)\n",
    "        elif escolha == '3':\n",
    "            a = int(input(\"Digite o primeiro número: \"))\n",
    "            b = int(input(\"Digite o segundo número: \"))\n",
    "            c = int(input(\"Digite o terceiro número: \"))\n",
    "            calcular_multiplicacao(a, b, c)\n",
    "        elif escolha == '4':\n",
    "            print(\"Saindo...\")\n",
    "            break\n",
    "        else:\n",
    "            print(\"Opção inválida. Tente novamente.\")\n",
    "#Uso\n",
    "menu()"
   ]
  },
  {
   "cell_type": "markdown",
   "metadata": {},
   "source": [
    "### 10 - Funções com Context Managers: São funções que podem ser usadas como gerenciadores de contexto utilizando as palavras-chave 'enter' e 'exit'. É útil para garantir que recursos sejam corretamente gerenciados e liberados."
   ]
  },
  {
   "cell_type": "code",
   "execution_count": 45,
   "metadata": {},
   "outputs": [],
   "source": [
    "class GerenciadorDeArquivo:\n",
    "  def __init__(self, nome_arquivo, modo):\n",
    "    self.nome_arquivo = nome_arquivo\n",
    "    self.modo = modo\n",
    "\n",
    "  def __enter__(self):\n",
    "    self.arquivo = open(self.nome_arquivo, self.modo)\n",
    "    return self.arquivo\n",
    "\n",
    "  def __exit__(self, exc_type, exc_value, tracebak):\n",
    "    self.arquivo.close()\n",
    "\n",
    "#Usando gerenciador de contexto\n",
    "with GerenciadorDeArquivo(\"teste.txt\", 'w') as arquivo:\n",
    "  arquivo.write(input(\"Digite uma frase:\"))"
   ]
  },
  {
   "cell_type": "code",
   "execution_count": 46,
   "metadata": {},
   "outputs": [],
   "source": [
    "class GerenciadorDeArquivo:\n",
    "  def __init__(self, nome_arquivo, modo):\n",
    "    self.nome_arquivo = nome_arquivo\n",
    "    self.modo = modo\n",
    "\n",
    "  def __enter__(self):\n",
    "    self.arquivo = open(self.nome_arquivo, self.modo)\n",
    "    return self.arquivo\n",
    "\n",
    "  def __exit__(self, exc_type, exc_value, tracebak):\n",
    "    self.arquivo.close()\n",
    "\n",
    "#Criando uma função para usar o gerenciador de contexto\n",
    "def escrever_arquivo(nome_arquivo, conteudo, modo='w'):\n",
    "  with GerenciadorDeArquivo(nome_arquivo, modo) as arquivo:\n",
    "    arquivo.write(conteudo)\n",
    "\n",
    "#Usando a função\n",
    "frase = input(\"Digite seu texto: \")\n",
    "escrever_arquivo(\"novoArquivo.txt\", frase)"
   ]
  },
  {
   "cell_type": "markdown",
   "metadata": {},
   "source": [
    "### 11 - Funções Composição: Podem ser compostas para criar novas funções a partir de funções existentes."
   ]
  },
  {
   "cell_type": "code",
   "execution_count": 48,
   "metadata": {},
   "outputs": [
    {
     "name": "stdout",
     "output_type": "stream",
     "text": [
      "10\n",
      "8\n",
      "23\n"
     ]
    }
   ],
   "source": [
    "def dobrar(x: int) -> int:\n",
    "  return x * 2\n",
    "\n",
    "def adicionar_tres(x: int) -> int:\n",
    "  return x + 3\n",
    "\n",
    "def compor(func1, func2):\n",
    "  return lambda x: func2(func1(x))\n",
    "\n",
    "#Criando uma nova função\n",
    "nova_func = compor(dobrar, adicionar_tres)\n",
    "\n",
    "#Uso\n",
    "print(dobrar(5))\n",
    "print(adicionar_tres(5))\n",
    "print(nova_func(10))"
   ]
  },
  {
   "cell_type": "code",
   "execution_count": 49,
   "metadata": {},
   "outputs": [
    {
     "name": "stdout",
     "output_type": "stream",
     "text": [
      "23\n"
     ]
    }
   ],
   "source": [
    "def dobrar(x: int) -> int:\n",
    "  return x * 2\n",
    "\n",
    "def adicionar_tres(x: int) -> int:\n",
    "  return x + 3\n",
    "\n",
    "def compor(func1, func2):\n",
    "  return lambda x: func2(func1(x))\n",
    "\n",
    "#Criar uma tupla de funções\n",
    "tupla_de_funcoes =(dobrar, adicionar_tres)\n",
    "\n",
    "#Compor as funçõe da tupla\n",
    "nova_funcao = compor(tupla_de_funcoes[0], tupla_de_funcoes[1])\n",
    "\n",
    "#Uso\n",
    "print(nova_funcao(10))"
   ]
  },
  {
   "cell_type": "code",
   "execution_count": 50,
   "metadata": {},
   "outputs": [
    {
     "name": "stdout",
     "output_type": "stream",
     "text": [
      "Composição da permutação (<function dobrar at 0x0000020AAE1FF4C0>, <function adicionar_tres at 0x0000020AAE1FF100>): 16\n",
      "Composição da permutação (<function adicionar_tres at 0x0000020AAE1FF100>, <function dobrar at 0x0000020AAE1FF4C0>): 13\n"
     ]
    }
   ],
   "source": [
    "#Usando permutaçao\n",
    "from itertools import permutations\n",
    "\n",
    "def dobrar(x: int) -> int:\n",
    "    return x * 2\n",
    "\n",
    "def adicionar_tres(x: int) -> int:\n",
    "    return x + 3\n",
    "\n",
    "def compor(*funcoes):\n",
    "    def combinacao(x):\n",
    "        for func in reversed(funcoes):\n",
    "            x = func(x)\n",
    "        return x\n",
    "    return combinacao\n",
    "\n",
    "# Criar uma tupla de funções\n",
    "tupla_de_funcoes = (dobrar, adicionar_tres)\n",
    "\n",
    "# Gerar todas as combinações possíveis de funções\n",
    "for perm in permutations(tupla_de_funcoes):\n",
    "    func_combinada = compor(*perm)\n",
    "    print(f\"Composição da permutação {perm}: {func_combinada(5)}\")\n"
   ]
  },
  {
   "cell_type": "code",
   "execution_count": 51,
   "metadata": {},
   "outputs": [
    {
     "name": "stdout",
     "output_type": "stream",
     "text": [
      "Composição da permutação dobrar -> adicionar_tres: 13\n",
      "Composição da permutação adicionar_tres -> dobrar: 16\n"
     ]
    }
   ],
   "source": [
    "from itertools import permutations\n",
    "\n",
    "def dobrar(x: int) -> int:\n",
    "    return x * 2\n",
    "\n",
    "def adicionar_tres(x: int) -> int:\n",
    "    return x + 3\n",
    "\n",
    "def compor(*funcoes):\n",
    "    def combinacao(x):\n",
    "        for func in funcoes:\n",
    "            x = func(x)\n",
    "        return x\n",
    "    return combinacao\n",
    "\n",
    "# Criar uma tupla de funções\n",
    "tupla_de_funcoes = (dobrar, adicionar_tres)\n",
    "\n",
    "# Gerar todas as combinações possíveis de funções\n",
    "for perm in permutations(tupla_de_funcoes):\n",
    "    func_combinada = compor(*perm)\n",
    "    func_names = ' -> '.join([func.__name__ for func in perm])\n",
    "    print(f\"Composição da permutação {func_names}: {func_combinada(5)}\")\n"
   ]
  },
  {
   "cell_type": "markdown",
   "metadata": {},
   "source": [
    "### 12 - Funções como Objetos:"
   ]
  },
  {
   "cell_type": "code",
   "execution_count": 52,
   "metadata": {},
   "outputs": [
    {
     "name": "stdout",
     "output_type": "stream",
     "text": [
      "20\n"
     ]
    }
   ],
   "source": [
    "def multiplicar_por_2(x: int) -> int:\n",
    "  return x * 2\n",
    "\n",
    "def aplicar_funcao(func, valor):\n",
    "  return func(valor)\n",
    "\n",
    "#Uso\n",
    "resultado = aplicar_funcao(multiplicar_por_2, 10)\n",
    "print(resultado)"
   ]
  },
  {
   "cell_type": "markdown",
   "metadata": {},
   "source": [
    "### 13 - Funções de Callback: são funções passadas como argumento para outras funções e que são chamadas dentro dessas funções."
   ]
  },
  {
   "cell_type": "code",
   "execution_count": 53,
   "metadata": {},
   "outputs": [
    {
     "name": "stdout",
     "output_type": "stream",
     "text": [
      "[1, 4, 9, 16, 25, 36]\n"
     ]
    }
   ],
   "source": [
    "def processar_dados(dados, callback):\n",
    "  resultados = [callback(valor) for valor in dados]\n",
    "  return resultados\n",
    "\n",
    "def quadrado(x: int) -> int:\n",
    "  return x * x\n",
    "\n",
    "#Exemplo de uso\n",
    "dados = [1,2,3,4,5,6]\n",
    "resposta = processar_dados(dados, quadrado)\n",
    "\n",
    "print(resposta)"
   ]
  },
  {
   "cell_type": "markdown",
   "metadata": {},
   "source": [
    "### 14 - Funções de Tempo de Execução (Timing): funções para medir tempo de execução de outras funções."
   ]
  },
  {
   "cell_type": "code",
   "execution_count": 54,
   "metadata": {},
   "outputs": [
    {
     "name": "stdout",
     "output_type": "stream",
     "text": [
      "Tempo de execução: 0.0 segundos.\n",
      "Tempo de execução: 0.0015268325805664062 segundos.\n",
      "Tempo de execução: 0.0015268325805664062 segundos.\n",
      "Tempo de execução: 0.0015268325805664062 segundos.\n",
      "Tempo de execução: 0.0015268325805664062 segundos.\n",
      "Tempo de execução: 0.0015268325805664062 segundos.\n",
      "Tempo de execução: 0.0015268325805664062 segundos.\n",
      "Tempo de execução: 0.0015268325805664062 segundos.\n",
      "Tempo de execução: 0.0015268325805664062 segundos.\n",
      "Tempo de execução: 0.0015268325805664062 segundos.\n",
      "Tempo de execução: 0.0015268325805664062 segundos.\n",
      "Tempo de execução: 0.0015268325805664062 segundos.\n",
      "Tempo de execução: 0.0015268325805664062 segundos.\n",
      "Tempo de execução: 0.0015268325805664062 segundos.\n",
      "Tempo de execução: 0.0015268325805664062 segundos.\n",
      "1307674368000\n"
     ]
    },
    {
     "ename": "",
     "evalue": "",
     "output_type": "error",
     "traceback": [
      "\u001b[1;31mO Kernel deu pane ao executar o código na célula atual ou em uma célula anterior. \n",
      "\u001b[1;31mAnalise o código nas células para identificar uma possível causa da pane. \n",
      "\u001b[1;31mClique <a href='https://aka.ms/vscodeJupyterKernelCrash'>aqui</a> para obter mais informações. \n",
      "\u001b[1;31mConsulte Jupyter <a href='command:jupyter.viewOutput'>log</a> para obter mais detalhes."
     ]
    }
   ],
   "source": [
    "import time\n",
    "def medir_tempo(funcao):\n",
    "  def wrapper(*args, **kwargs):\n",
    "    inicio = time.time()\n",
    "    resultado = funcao(*args, **kwargs)\n",
    "    fim = time.time()\n",
    "    print(f\"Tempo de execução: {fim - inicio} segundos.\")\n",
    "    return resultado\n",
    "  return wrapper\n",
    "\n",
    "\n",
    "#Fatorial\n",
    "@medir_tempo\n",
    "def fatorial(n: int) -> int:\n",
    "  if n == 0 or n == 1:\n",
    "    return 1\n",
    "  else:\n",
    "    return n * fatorial(n-1)\n",
    "\n",
    "#Uso\n",
    "print(fatorial(15))\n"
   ]
  },
  {
   "cell_type": "code",
   "execution_count": null,
   "metadata": {},
   "outputs": [],
   "source": []
  }
 ],
 "metadata": {
  "kernelspec": {
   "display_name": "Python 3",
   "language": "python",
   "name": "python3"
  },
  "language_info": {
   "codemirror_mode": {
    "name": "ipython",
    "version": 3
   },
   "file_extension": ".py",
   "mimetype": "text/x-python",
   "name": "python",
   "nbconvert_exporter": "python",
   "pygments_lexer": "ipython3",
   "version": "3.12.4"
  }
 },
 "nbformat": 4,
 "nbformat_minor": 2
}
